{
 "cells": [
  {
   "cell_type": "markdown",
   "metadata": {},
   "source": [
    "## A intenção do projeto é criar um chatbot baseado em reviews de filmes para que se possa fazer perguntas e manter uma conversa livre\n",
    "\n",
    "- link do banco de dados https://www.kaggle.com/Cornell-University/movie-dialog-corpus?select=movie_lines.tsv\n",
    "- referências\n",
    ">- https://shanebarker.com/blog/deep-learning-chatbot/\n",
    "> -https://towardsdatascience.com/how-to-create-a-chatbot-with-python-deep-learning-in-less-than-an-hour-56a063bdfc44"
   ]
  },
  {
   "cell_type": "code",
   "execution_count": 1,
   "metadata": {},
   "outputs": [],
   "source": [
    "import pandas as pd\n",
    "import re\n",
    "import gensim\n",
    "import numpy as np\n",
    "from sklearn.feature_extraction.text import CountVectorizer\n",
    "from scipy.spatial import distance"
   ]
  },
  {
   "cell_type": "code",
   "execution_count": 2,
   "metadata": {},
   "outputs": [],
   "source": [
    "#setting parameters for data visualization\n",
    "np.set_printoptions(threshold=None, precision=2)\n",
    "pd.set_option('display.max_columns', 500)\n",
    "pd.set_option('display.max_rows', 500)\n",
    "pd.set_option('precision', 2)"
   ]
  },
  {
   "cell_type": "markdown",
   "metadata": {},
   "source": [
    "### Opening movie reviews"
   ]
  },
  {
   "cell_type": "code",
   "execution_count": 3,
   "metadata": {},
   "outputs": [],
   "source": [
    "messages = pd.read_csv('./chatdata/movie_lines_normalized.tsv', header = None, delimiter=\"\\t\", quoting=3, encoding='ISO-8859-2')"
   ]
  },
  {
   "cell_type": "code",
   "execution_count": 4,
   "metadata": {},
   "outputs": [],
   "source": [
    "messages.columns = ['msg_line', 'user_id', 'movie_id', 'msg']"
   ]
  },
  {
   "cell_type": "code",
   "execution_count": 5,
   "metadata": {},
   "outputs": [
    {
     "data": {
      "text/html": [
       "<div>\n",
       "<style scoped>\n",
       "    .dataframe tbody tr th:only-of-type {\n",
       "        vertical-align: middle;\n",
       "    }\n",
       "\n",
       "    .dataframe tbody tr th {\n",
       "        vertical-align: top;\n",
       "    }\n",
       "\n",
       "    .dataframe thead th {\n",
       "        text-align: right;\n",
       "    }\n",
       "</style>\n",
       "<table border=\"1\" class=\"dataframe\">\n",
       "  <thead>\n",
       "    <tr style=\"text-align: right;\">\n",
       "      <th></th>\n",
       "      <th>msg_line</th>\n",
       "      <th>user_id</th>\n",
       "      <th>movie_id</th>\n",
       "      <th>msg</th>\n",
       "    </tr>\n",
       "  </thead>\n",
       "  <tbody>\n",
       "    <tr>\n",
       "      <th>0</th>\n",
       "      <td>L1045</td>\n",
       "      <td>u0</td>\n",
       "      <td>m0</td>\n",
       "      <td>They do not!</td>\n",
       "    </tr>\n",
       "    <tr>\n",
       "      <th>1</th>\n",
       "      <td>L1044</td>\n",
       "      <td>u2</td>\n",
       "      <td>m0</td>\n",
       "      <td>They do to!</td>\n",
       "    </tr>\n",
       "    <tr>\n",
       "      <th>2</th>\n",
       "      <td>L985</td>\n",
       "      <td>u0</td>\n",
       "      <td>m0</td>\n",
       "      <td>I hope so.</td>\n",
       "    </tr>\n",
       "    <tr>\n",
       "      <th>3</th>\n",
       "      <td>L984</td>\n",
       "      <td>u2</td>\n",
       "      <td>m0</td>\n",
       "      <td>She okay?</td>\n",
       "    </tr>\n",
       "    <tr>\n",
       "      <th>4</th>\n",
       "      <td>L925</td>\n",
       "      <td>u0</td>\n",
       "      <td>m0</td>\n",
       "      <td>Let's go.</td>\n",
       "    </tr>\n",
       "    <tr>\n",
       "      <th>5</th>\n",
       "      <td>L924</td>\n",
       "      <td>u2</td>\n",
       "      <td>m0</td>\n",
       "      <td>Wow</td>\n",
       "    </tr>\n",
       "    <tr>\n",
       "      <th>6</th>\n",
       "      <td>L872</td>\n",
       "      <td>u0</td>\n",
       "      <td>m0</td>\n",
       "      <td>Okay -- you're gonna need to learn how to lie.</td>\n",
       "    </tr>\n",
       "    <tr>\n",
       "      <th>7</th>\n",
       "      <td>L871</td>\n",
       "      <td>u2</td>\n",
       "      <td>m0</td>\n",
       "      <td>No</td>\n",
       "    </tr>\n",
       "    <tr>\n",
       "      <th>8</th>\n",
       "      <td>L870</td>\n",
       "      <td>u0</td>\n",
       "      <td>m0</td>\n",
       "      <td>\"\"\"I'm kidding. You know how sometimes you jus...</td>\n",
       "    </tr>\n",
       "    <tr>\n",
       "      <th>9</th>\n",
       "      <td>L869</td>\n",
       "      <td>u0</td>\n",
       "      <td>m0</td>\n",
       "      <td>Like my fear of wearing pastels?</td>\n",
       "    </tr>\n",
       "  </tbody>\n",
       "</table>\n",
       "</div>"
      ],
      "text/plain": [
       "  msg_line user_id movie_id                                                msg\n",
       "0    L1045      u0       m0                                       They do not!\n",
       "1    L1044      u2       m0                                        They do to!\n",
       "2     L985      u0       m0                                         I hope so.\n",
       "3     L984      u2       m0                                          She okay?\n",
       "4     L925      u0       m0                                          Let's go.\n",
       "5     L924      u2       m0                                                Wow\n",
       "6     L872      u0       m0     Okay -- you're gonna need to learn how to lie.\n",
       "7     L871      u2       m0                                                 No\n",
       "8     L870      u0       m0  \"\"\"I'm kidding. You know how sometimes you jus...\n",
       "9     L869      u0       m0                   Like my fear of wearing pastels?"
      ]
     },
     "execution_count": 5,
     "metadata": {},
     "output_type": "execute_result"
    }
   ],
   "source": [
    "messages.head(10)"
   ]
  },
  {
   "cell_type": "markdown",
   "metadata": {},
   "source": [
    "### Data exploration"
   ]
  },
  {
   "cell_type": "code",
   "execution_count": 6,
   "metadata": {},
   "outputs": [
    {
     "name": "stdout",
     "output_type": "stream",
     "text": [
      "<class 'pandas.core.frame.DataFrame'>\n",
      "RangeIndex: 304713 entries, 0 to 304712\n",
      "Data columns (total 4 columns):\n",
      " #   Column    Non-Null Count   Dtype \n",
      "---  ------    --------------   ----- \n",
      " 0   msg_line  304713 non-null  object\n",
      " 1   user_id   304713 non-null  object\n",
      " 2   movie_id  304713 non-null  object\n",
      " 3   msg       304713 non-null  object\n",
      "dtypes: object(4)\n",
      "memory usage: 9.3+ MB\n"
     ]
    }
   ],
   "source": [
    "messages.info()"
   ]
  },
  {
   "cell_type": "code",
   "execution_count": 7,
   "metadata": {},
   "outputs": [
    {
     "data": {
      "text/html": [
       "<div>\n",
       "<style scoped>\n",
       "    .dataframe tbody tr th:only-of-type {\n",
       "        vertical-align: middle;\n",
       "    }\n",
       "\n",
       "    .dataframe tbody tr th {\n",
       "        vertical-align: top;\n",
       "    }\n",
       "\n",
       "    .dataframe thead th {\n",
       "        text-align: right;\n",
       "    }\n",
       "</style>\n",
       "<table border=\"1\" class=\"dataframe\">\n",
       "  <thead>\n",
       "    <tr style=\"text-align: right;\">\n",
       "      <th></th>\n",
       "      <th>msg_line</th>\n",
       "      <th>user_id</th>\n",
       "      <th>movie_id</th>\n",
       "      <th>msg</th>\n",
       "    </tr>\n",
       "  </thead>\n",
       "  <tbody>\n",
       "    <tr>\n",
       "      <th>count</th>\n",
       "      <td>304713</td>\n",
       "      <td>304713</td>\n",
       "      <td>304713</td>\n",
       "      <td>304713</td>\n",
       "    </tr>\n",
       "    <tr>\n",
       "      <th>unique</th>\n",
       "      <td>304713</td>\n",
       "      <td>9035</td>\n",
       "      <td>659</td>\n",
       "      <td>265277</td>\n",
       "    </tr>\n",
       "    <tr>\n",
       "      <th>top</th>\n",
       "      <td>L595224</td>\n",
       "      <td>u4525</td>\n",
       "      <td>m289</td>\n",
       "      <td>What?</td>\n",
       "    </tr>\n",
       "    <tr>\n",
       "      <th>freq</th>\n",
       "      <td>1</td>\n",
       "      <td>537</td>\n",
       "      <td>1530</td>\n",
       "      <td>1679</td>\n",
       "    </tr>\n",
       "  </tbody>\n",
       "</table>\n",
       "</div>"
      ],
      "text/plain": [
       "       msg_line user_id movie_id     msg\n",
       "count    304713  304713   304713  304713\n",
       "unique   304713    9035      659  265277\n",
       "top     L595224   u4525     m289   What?\n",
       "freq          1     537     1530    1679"
      ]
     },
     "execution_count": 7,
     "metadata": {},
     "output_type": "execute_result"
    }
   ],
   "source": [
    "messages.describe()"
   ]
  },
  {
   "cell_type": "markdown",
   "metadata": {},
   "source": [
    "#### Data Analysis based on this article\n",
    "- https://neptune.ai/blog/exploratory-data-analysis-natural-language-processing-tools?utm_source=medium&utm_medium=crosspost&utm_campaign=blog-exploratory-data-analysis-natural-language-processing-tools"
   ]
  },
  {
   "cell_type": "code",
   "execution_count": 8,
   "metadata": {},
   "outputs": [],
   "source": [
    "data = messages['msg']"
   ]
  },
  {
   "cell_type": "markdown",
   "metadata": {},
   "source": [
    "### Number of characters of each message"
   ]
  },
  {
   "cell_type": "code",
   "execution_count": 9,
   "metadata": {},
   "outputs": [
    {
     "data": {
      "text/plain": [
       "<AxesSubplot:>"
      ]
     },
     "execution_count": 9,
     "metadata": {},
     "output_type": "execute_result"
    },
    {
     "data": {
      "image/png": "[encoded data removed]",
      "text/plain": [
       "<Figure size 432x288 with 1 Axes>"
      ]
     },
     "metadata": {
      "needs_background": "light"
     },
     "output_type": "display_data"
    }
   ],
   "source": [
    "#histogram to display the number of character of each message\n",
    "data.str.len().hist()"
   ]
  },
  {
   "cell_type": "markdown",
   "metadata": {},
   "source": [
    "The number of characters are between 0 and 500"
   ]
  },
  {
   "cell_type": "markdown",
   "metadata": {},
   "source": [
    "## Value types"
   ]
  },
  {
   "cell_type": "code",
   "execution_count": 10,
   "metadata": {},
   "outputs": [
    {
     "data": {
      "text/plain": [
       "{str}"
      ]
     },
     "execution_count": 10,
     "metadata": {},
     "output_type": "execute_result"
    }
   ],
   "source": [
    "#checking the average word length\n",
    "data_set = [type(item) for item in data]\n",
    "data_set = set(data_set)\n",
    "data_set"
   ]
  },
  {
   "cell_type": "markdown",
   "metadata": {},
   "source": [
    "## Print float values"
   ]
  },
  {
   "cell_type": "code",
   "execution_count": 11,
   "metadata": {},
   "outputs": [
    {
     "name": "stdout",
     "output_type": "stream",
     "text": [
      "0\n",
      "set()\n"
     ]
    }
   ],
   "source": [
    "float_val = [it for it in data if isinstance(it, float)]\n",
    "print(len(float_val))\n",
    "float_val = set(float_val)\n",
    "print(float_val)"
   ]
  },
  {
   "cell_type": "code",
   "execution_count": 12,
   "metadata": {},
   "outputs": [
    {
     "data": {
      "text/html": [
       "<div>\n",
       "<style scoped>\n",
       "    .dataframe tbody tr th:only-of-type {\n",
       "        vertical-align: middle;\n",
       "    }\n",
       "\n",
       "    .dataframe tbody tr th {\n",
       "        vertical-align: top;\n",
       "    }\n",
       "\n",
       "    .dataframe thead th {\n",
       "        text-align: right;\n",
       "    }\n",
       "</style>\n",
       "<table border=\"1\" class=\"dataframe\">\n",
       "  <thead>\n",
       "    <tr style=\"text-align: right;\">\n",
       "      <th></th>\n",
       "      <th>msg_line</th>\n",
       "      <th>user_id</th>\n",
       "      <th>movie_id</th>\n",
       "      <th>msg</th>\n",
       "    </tr>\n",
       "  </thead>\n",
       "  <tbody>\n",
       "  </tbody>\n",
       "</table>\n",
       "</div>"
      ],
      "text/plain": [
       "Empty DataFrame\n",
       "Columns: [msg_line, user_id, movie_id, msg]\n",
       "Index: []"
      ]
     },
     "execution_count": 12,
     "metadata": {},
     "output_type": "execute_result"
    }
   ],
   "source": [
    "messages[messages['msg'].isna()]"
   ]
  },
  {
   "cell_type": "markdown",
   "metadata": {},
   "source": [
    "### Removing non-alphabetical messages"
   ]
  },
  {
   "cell_type": "code",
   "execution_count": 13,
   "metadata": {},
   "outputs": [
    {
     "data": {
      "text/html": [
       "<div>\n",
       "<style scoped>\n",
       "    .dataframe tbody tr th:only-of-type {\n",
       "        vertical-align: middle;\n",
       "    }\n",
       "\n",
       "    .dataframe tbody tr th {\n",
       "        vertical-align: top;\n",
       "    }\n",
       "\n",
       "    .dataframe thead th {\n",
       "        text-align: right;\n",
       "    }\n",
       "</style>\n",
       "<table border=\"1\" class=\"dataframe\">\n",
       "  <thead>\n",
       "    <tr style=\"text-align: right;\">\n",
       "      <th></th>\n",
       "      <th>msg_line</th>\n",
       "      <th>user_id</th>\n",
       "      <th>movie_id</th>\n",
       "      <th>msg</th>\n",
       "    </tr>\n",
       "  </thead>\n",
       "  <tbody>\n",
       "    <tr>\n",
       "      <th>538</th>\n",
       "      <td>L474</td>\n",
       "      <td>u5</td>\n",
       "      <td>m0</td>\n",
       "      <td>UNKNOWN</td>\n",
       "    </tr>\n",
       "    <tr>\n",
       "      <th>539</th>\n",
       "      <td>L473</td>\n",
       "      <td>u9</td>\n",
       "      <td>m0</td>\n",
       "      <td>hey. Great show huh?</td>\n",
       "    </tr>\n",
       "  </tbody>\n",
       "</table>\n",
       "</div>"
      ],
      "text/plain": [
       "    msg_line user_id movie_id                   msg\n",
       "538     L474      u5       m0               UNKNOWN\n",
       "539     L473      u9       m0  hey. Great show huh?"
      ]
     },
     "execution_count": 13,
     "metadata": {},
     "output_type": "execute_result"
    }
   ],
   "source": [
    "#example of sequence of null messages\n",
    "messages[538:540]"
   ]
  },
  {
   "cell_type": "code",
   "execution_count": 14,
   "metadata": {},
   "outputs": [],
   "source": [
    "#filling the nan messages with a string\n",
    "messages = messages.fillna('UNKNOWN')\n",
    "data = messages['msg']"
   ]
  },
  {
   "cell_type": "markdown",
   "metadata": {},
   "source": [
    "### Number of words for each message"
   ]
  },
  {
   "cell_type": "code",
   "execution_count": 15,
   "metadata": {},
   "outputs": [
    {
     "data": {
      "text/plain": [
       "<AxesSubplot:>"
      ]
     },
     "execution_count": 15,
     "metadata": {},
     "output_type": "execute_result"
    },
    {
     "data": {
      "image/png": "[encoded data removed]",
      "text/plain": [
       "<Figure size 432x288 with 1 Axes>"
      ]
     },
     "metadata": {
      "needs_background": "light"
     },
     "output_type": "display_data"
    }
   ],
   "source": [
    "#number of words for each message\n",
    "data.str.split(' ').\\\n",
    "    map(lambda x: len(str(x))).\\\n",
    "    hist()"
   ]
  },
  {
   "cell_type": "markdown",
   "metadata": {},
   "source": [
    "The number of words are between 0 and 100"
   ]
  },
  {
   "cell_type": "markdown",
   "metadata": {},
   "source": [
    "### Average word length"
   ]
  },
  {
   "cell_type": "code",
   "execution_count": 16,
   "metadata": {},
   "outputs": [
    {
     "data": {
      "text/plain": [
       "<AxesSubplot:>"
      ]
     },
     "execution_count": 16,
     "metadata": {},
     "output_type": "execute_result"
    },
    {
     "data": {
      "image/png": "[encoded data removed]",
      "text/plain": [
       "<Figure size 432x288 with 1 Axes>"
      ]
     },
     "metadata": {
      "needs_background": "light"
     },
     "output_type": "display_data"
    }
   ],
   "source": [
    "#checking the average word length\n",
    "data.str.split(' ').\\\n",
    "   apply(lambda x : [len(i) for i in x]). \\\n",
    "   map(lambda x: np.mean(x)).hist()"
   ]
  },
  {
   "cell_type": "markdown",
   "metadata": {},
   "source": [
    "The length of words goes from 0 to 15"
   ]
  },
  {
   "cell_type": "markdown",
   "metadata": {},
   "source": [
    "### Distribuition of stopwords in the mesages"
   ]
  },
  {
   "cell_type": "code",
   "execution_count": 17,
   "metadata": {},
   "outputs": [
    {
     "name": "stderr",
     "output_type": "stream",
     "text": [
      "[nltk_data] Downloading package stopwords to\n",
      "[nltk_data]     /home/douglas/nltk_data...\n",
      "[nltk_data]   Package stopwords is already up-to-date!\n"
     ]
    }
   ],
   "source": [
    "import nltk\n",
    "nltk.download('stopwords')\n",
    "from nltk.corpus import stopwords"
   ]
  },
  {
   "cell_type": "code",
   "execution_count": 18,
   "metadata": {},
   "outputs": [],
   "source": [
    "#checkig the distribuition of stopwrds in the mesages\n",
    "stop=set(stopwords.words('english'))\n",
    "corpus=[]\n",
    "msg_ = data.str.split()\n",
    "msg_ = msg_.values.tolist()\n",
    "corpus=[word for i in msg_ for word in i]\n",
    "\n",
    "from collections import defaultdict\n",
    "dic=defaultdict(int)\n",
    "for word in corpus:\n",
    "    if word in stop:\n",
    "        dic[word]+=1"
   ]
  },
  {
   "cell_type": "code",
   "execution_count": 19,
   "metadata": {},
   "outputs": [
    {
     "data": {
      "text/plain": [
       "164"
      ]
     },
     "execution_count": 19,
     "metadata": {},
     "output_type": "execute_result"
    }
   ],
   "source": [
    "len(list(dic.values()))"
   ]
  },
  {
   "cell_type": "code",
   "execution_count": 20,
   "metadata": {},
   "outputs": [],
   "source": [
    "import matplotlib.pyplot as plt"
   ]
  },
  {
   "cell_type": "code",
   "execution_count": 21,
   "metadata": {},
   "outputs": [
    {
     "data": {
      "image/png": "[encoded data removed]",
      "text/plain": [
       "<Figure size 2160x360 with 1 Axes>"
      ]
     },
     "metadata": {
      "needs_background": "light"
     },
     "output_type": "display_data"
    }
   ],
   "source": [
    "x = dic.keys()\n",
    "y = dic.values()\n",
    "plt.subplots(figsize=(30,5))\n",
    "plt.bar(x, y, 1, color='b')\n",
    "plt.xticks(list(x), rotation=90, fontsize=14)\n",
    "plt.show()"
   ]
  },
  {
   "cell_type": "markdown",
   "metadata": {},
   "source": [
    "The majority of stop words are 'to', 'you', 'the' and 'a'"
   ]
  },
  {
   "cell_type": "markdown",
   "metadata": {},
   "source": [
    "### Occurences of each word"
   ]
  },
  {
   "cell_type": "code",
   "execution_count": 22,
   "metadata": {},
   "outputs": [],
   "source": [
    "from collections import Counter\n",
    "import seaborn as sns"
   ]
  },
  {
   "cell_type": "code",
   "execution_count": 23,
   "metadata": {},
   "outputs": [
    {
     "data": {
      "text/plain": [
       "<AxesSubplot:>"
      ]
     },
     "execution_count": 23,
     "metadata": {},
     "output_type": "execute_result"
    },
    {
     "data": {
      "image/png": "[encoded data removed]",
      "text/plain": [
       "<Figure size 432x288 with 1 Axes>"
      ]
     },
     "metadata": {
      "needs_background": "light"
     },
     "output_type": "display_data"
    }
   ],
   "source": [
    "#ploting the occurences of each word\n",
    "counter=Counter(corpus)\n",
    "most=counter.most_common()\n",
    "\n",
    "x, y= [], []\n",
    "for word,count in most[:40]:\n",
    "    if (word not in stop):\n",
    "        x.append(word)\n",
    "        y.append(count)\n",
    "        \n",
    "sns.barplot(x=y,y=x)"
   ]
  },
  {
   "cell_type": "markdown",
   "metadata": {},
   "source": [
    "The word 'I' has the biggest occurrence. There are a lot of messages like dashes that can be removed"
   ]
  },
  {
   "cell_type": "markdown",
   "metadata": {},
   "source": [
    "### Get the most frequent n-grams"
   ]
  },
  {
   "cell_type": "code",
   "execution_count": 24,
   "metadata": {},
   "outputs": [],
   "source": [
    "from nltk.util import ngrams"
   ]
  },
  {
   "cell_type": "code",
   "execution_count": 25,
   "metadata": {},
   "outputs": [],
   "source": [
    "#get the most frequent n-grams\n",
    "def get_top_ngram(corpus, n=None):\n",
    "    vec = CountVectorizer(ngram_range=(n, n)).fit(corpus)\n",
    "    bag_of_words = vec.transform(corpus)\n",
    "    sum_words = bag_of_words.sum(axis=0) \n",
    "    words_freq = [(word, sum_words[0, idx]) \n",
    "                  for word, idx in vec.vocabulary_.items()]\n",
    "    words_freq =sorted(words_freq, key = lambda x: x[1], reverse=True)\n",
    "    return words_freq[:10]"
   ]
  },
  {
   "cell_type": "code",
   "execution_count": 26,
   "metadata": {},
   "outputs": [],
   "source": [
    "def plot_n_gram(corpus, n=2):\n",
    "    top_n_bigrams=get_top_ngram(corpus,n)[:10]\n",
    "    x,y=map(list,zip(*top_n_bigrams))\n",
    "    sns.barplot(x=y,y=x)"
   ]
  },
  {
   "cell_type": "code",
   "execution_count": 27,
   "metadata": {},
   "outputs": [
    {
     "data": {
      "image/png": "[encoded data removed]",
      "text/plain": [
       "<Figure size 432x288 with 1 Axes>"
      ]
     },
     "metadata": {
      "needs_background": "light"
     },
     "output_type": "display_data"
    }
   ],
   "source": [
    "plot_n_gram(data, 2)"
   ]
  },
  {
   "cell_type": "markdown",
   "metadata": {},
   "source": [
    "The more frequent bigram is 'you re'"
   ]
  },
  {
   "cell_type": "code",
   "execution_count": 28,
   "metadata": {},
   "outputs": [
    {
     "data": {
      "image/png": "[encoded data removed]",
      "text/plain": [
       "<Figure size 432x288 with 1 Axes>"
      ]
     },
     "metadata": {
      "needs_background": "light"
     },
     "output_type": "display_data"
    }
   ],
   "source": [
    "plot_n_gram(data, 3)"
   ]
  },
  {
   "cell_type": "markdown",
   "metadata": {},
   "source": [
    "There are a lot of short questions like 'what do you...?', 'what are you...?', and answers like 'you want to...'"
   ]
  },
  {
   "cell_type": "code",
   "execution_count": 29,
   "metadata": {},
   "outputs": [
    {
     "data": {
      "image/png": "[encoded data removed]",
      "text/plain": [
       "<Figure size 432x288 with 1 Axes>"
      ]
     },
     "metadata": {
      "needs_background": "light"
     },
     "output_type": "display_data"
    }
   ],
   "source": [
    "plot_n_gram(data, 4)"
   ]
  },
  {
   "cell_type": "markdown",
   "metadata": {},
   "source": [
    "There are a lot of repeated questions and answers or part of them"
   ]
  },
  {
   "cell_type": "markdown",
   "metadata": {},
   "source": [
    "### Sentimental analysis"
   ]
  },
  {
   "cell_type": "code",
   "execution_count": 30,
   "metadata": {},
   "outputs": [],
   "source": [
    "from textblob import TextBlob"
   ]
  },
  {
   "cell_type": "code",
   "execution_count": 31,
   "metadata": {},
   "outputs": [],
   "source": [
    "#checkig the polarity of the messages\n",
    "def polarity(text):\n",
    "    return TextBlob(text).sentiment.polarity"
   ]
  },
  {
   "cell_type": "code",
   "execution_count": 32,
   "metadata": {},
   "outputs": [
    {
     "data": {
      "text/plain": [
       "<AxesSubplot:>"
      ]
     },
     "execution_count": 32,
     "metadata": {},
     "output_type": "execute_result"
    },
    {
     "data": {
      "image/png": "[encoded data removed]",
      "text/plain": [
       "<Figure size 432x288 with 1 Axes>"
      ]
     },
     "metadata": {
      "needs_background": "light"
     },
     "output_type": "display_data"
    }
   ],
   "source": [
    "messages['polarity_score']=data.\\\n",
    "   apply(lambda x : polarity(x))\n",
    "messages['polarity_score'].hist()"
   ]
  },
  {
   "cell_type": "markdown",
   "metadata": {},
   "source": [
    "The majority of polarity is neutral"
   ]
  },
  {
   "cell_type": "markdown",
   "metadata": {},
   "source": [
    "### Named entity recognition"
   ]
  },
  {
   "cell_type": "markdown",
   "metadata": {},
   "source": [
    "- TYPE\tDESCRIPTION\n",
    "- PERSON\tPeople, including fictional.\n",
    "- NORP\tNationalities or religious or political groups.\n",
    "- FAC\tBuildings, airports, highways, bridges, etc.\n",
    "- ORG\tCompanies, agencies, institutions, etc.\n",
    "- GPE\tCountries, cities, states.\n",
    "- LOC\tNon-GPE locations, mountain ranges, bodies of water.\n",
    "- PRODUCT\tObjects, vehicles, foods, etc. (Not services.)\n",
    "- EVENT\tNamed hurricanes, battles, wars, sports events, etc.\n",
    "- WORK_OF_ART\tTitles of books, songs, etc.\n",
    "- LAW\tNamed documents made into laws.\n",
    "- LANGUAGE\tAny named language.\n",
    "- DATE\tAbsolute or relative dates or periods.\n",
    "- TIME\tTimes smaller than a day.\n",
    "- PERCENT\tPercentage, including ”%“.\n",
    "- MONEY\tMonetary values, including unit.\n",
    "- QUANTITY\tMeasurements, as of weight or distance.\n",
    "- ORDINAL\t“first”, “second”, etc.\n",
    "- CARDINAL\tNumerals that do not fall under another type."
   ]
  },
  {
   "cell_type": "code",
   "execution_count": 33,
   "metadata": {},
   "outputs": [],
   "source": [
    "import spacy\n",
    "\n",
    "nlp = spacy.load(\"en_core_web_sm\")"
   ]
  },
  {
   "cell_type": "code",
   "execution_count": 34,
   "metadata": {},
   "outputs": [],
   "source": [
    "#transform the messages in a big document\n",
    "def get_entities(corpus, int_limit=0, end_limit=100):\n",
    "    msg_all = ' '.join(data[int_limit:end_limit])\n",
    "    doc = nlp(msg_all)\n",
    "\n",
    "    entity_list = [(x.text,x.label_) for x in doc.ents]\n",
    "    \n",
    "    return entity_list"
   ]
  },
  {
   "cell_type": "code",
   "execution_count": null,
   "metadata": {},
   "outputs": [
    {
     "name": "stdout",
     "output_type": "stream",
     "text": [
      "Processed 1000 of 304713 messages\n",
      "Processed 2000 of 304713 messages\n",
      "Processed 3000 of 304713 messages\n",
      "Processed 4000 of 304713 messages\n",
      "Processed 5000 of 304713 messages\n",
      "Processed 6000 of 304713 messages\n",
      "Processed 7000 of 304713 messages\n",
      "Processed 8000 of 304713 messages\n",
      "Processed 9000 of 304713 messages\n",
      "Processed 10000 of 304713 messages\n",
      "Processed 11000 of 304713 messages\n",
      "Processed 12000 of 304713 messages\n",
      "Processed 13000 of 304713 messages\n",
      "Processed 14000 of 304713 messages\n",
      "Processed 15000 of 304713 messages\n",
      "Processed 16000 of 304713 messages\n",
      "Processed 17000 of 304713 messages\n",
      "Processed 18000 of 304713 messages\n",
      "Processed 19000 of 304713 messages\n",
      "Processed 20000 of 304713 messages\n",
      "Processed 21000 of 304713 messages\n",
      "Processed 22000 of 304713 messages\n",
      "Processed 23000 of 304713 messages\n",
      "Processed 24000 of 304713 messages\n",
      "Processed 25000 of 304713 messages\n",
      "Processed 26000 of 304713 messages\n",
      "Processed 27000 of 304713 messages\n",
      "Processed 28000 of 304713 messages\n",
      "Processed 29000 of 304713 messages\n",
      "Processed 30000 of 304713 messages\n",
      "Processed 31000 of 304713 messages\n",
      "Processed 32000 of 304713 messages\n",
      "Processed 33000 of 304713 messages\n",
      "Processed 34000 of 304713 messages\n",
      "Processed 35000 of 304713 messages\n",
      "Processed 36000 of 304713 messages\n",
      "Processed 37000 of 304713 messages\n",
      "Processed 38000 of 304713 messages\n",
      "Processed 39000 of 304713 messages\n",
      "Processed 40000 of 304713 messages\n",
      "Processed 41000 of 304713 messages\n",
      "Processed 42000 of 304713 messages\n",
      "Processed 43000 of 304713 messages\n",
      "Processed 44000 of 304713 messages\n",
      "Processed 45000 of 304713 messages\n",
      "Processed 46000 of 304713 messages\n",
      "Processed 47000 of 304713 messages\n",
      "Processed 48000 of 304713 messages\n",
      "Processed 49000 of 304713 messages\n",
      "Processed 50000 of 304713 messages\n",
      "Processed 51000 of 304713 messages\n",
      "Processed 52000 of 304713 messages\n",
      "Processed 53000 of 304713 messages\n",
      "Processed 54000 of 304713 messages\n",
      "Processed 55000 of 304713 messages\n",
      "Processed 56000 of 304713 messages\n",
      "Processed 57000 of 304713 messages\n",
      "Processed 58000 of 304713 messages\n",
      "Processed 59000 of 304713 messages\n",
      "Processed 60000 of 304713 messages\n",
      "Processed 61000 of 304713 messages\n",
      "Processed 62000 of 304713 messages\n",
      "Processed 63000 of 304713 messages\n",
      "Processed 64000 of 304713 messages\n",
      "Processed 65000 of 304713 messages\n",
      "Processed 66000 of 304713 messages\n",
      "Processed 67000 of 304713 messages\n",
      "Processed 68000 of 304713 messages\n",
      "Processed 69000 of 304713 messages\n",
      "Processed 70000 of 304713 messages\n",
      "Processed 71000 of 304713 messages\n",
      "Processed 72000 of 304713 messages\n",
      "Processed 73000 of 304713 messages\n",
      "Processed 74000 of 304713 messages\n",
      "Processed 75000 of 304713 messages\n",
      "Processed 76000 of 304713 messages\n",
      "Processed 77000 of 304713 messages\n",
      "Processed 78000 of 304713 messages\n",
      "Processed 79000 of 304713 messages\n",
      "Processed 80000 of 304713 messages\n",
      "Processed 81000 of 304713 messages\n",
      "Processed 82000 of 304713 messages\n",
      "Processed 83000 of 304713 messages\n",
      "Processed 84000 of 304713 messages\n",
      "Processed 85000 of 304713 messages\n",
      "Processed 86000 of 304713 messages\n",
      "Processed 87000 of 304713 messages\n",
      "Processed 88000 of 304713 messages\n",
      "Processed 89000 of 304713 messages\n",
      "Processed 90000 of 304713 messages\n",
      "Processed 91000 of 304713 messages\n",
      "Processed 92000 of 304713 messages\n",
      "Processed 93000 of 304713 messages\n",
      "Processed 94000 of 304713 messages\n",
      "Processed 95000 of 304713 messages\n",
      "Processed 96000 of 304713 messages\n",
      "Processed 97000 of 304713 messages\n",
      "Processed 98000 of 304713 messages\n",
      "Processed 99000 of 304713 messages\n",
      "Processed 100000 of 304713 messages\n",
      "Processed 101000 of 304713 messages\n",
      "Processed 102000 of 304713 messages\n",
      "Processed 103000 of 304713 messages\n",
      "Processed 104000 of 304713 messages\n",
      "Processed 105000 of 304713 messages\n",
      "Processed 106000 of 304713 messages\n",
      "Processed 107000 of 304713 messages\n",
      "Processed 108000 of 304713 messages\n",
      "Processed 109000 of 304713 messages\n",
      "Processed 110000 of 304713 messages\n",
      "Processed 111000 of 304713 messages\n",
      "Processed 112000 of 304713 messages\n",
      "Processed 113000 of 304713 messages\n",
      "Processed 114000 of 304713 messages\n",
      "Processed 115000 of 304713 messages\n",
      "Processed 116000 of 304713 messages\n",
      "Processed 117000 of 304713 messages\n",
      "Processed 118000 of 304713 messages\n",
      "Processed 119000 of 304713 messages\n",
      "Processed 120000 of 304713 messages\n",
      "Processed 121000 of 304713 messages\n",
      "Processed 122000 of 304713 messages\n",
      "Processed 123000 of 304713 messages\n",
      "Processed 124000 of 304713 messages\n",
      "Processed 125000 of 304713 messages\n",
      "Processed 126000 of 304713 messages\n",
      "Processed 127000 of 304713 messages\n",
      "Processed 128000 of 304713 messages\n",
      "Processed 129000 of 304713 messages\n",
      "Processed 130000 of 304713 messages\n",
      "Processed 131000 of 304713 messages\n",
      "Processed 132000 of 304713 messages\n",
      "Processed 133000 of 304713 messages\n",
      "Processed 134000 of 304713 messages\n",
      "Processed 135000 of 304713 messages\n",
      "Processed 136000 of 304713 messages\n",
      "Processed 137000 of 304713 messages\n",
      "Processed 138000 of 304713 messages\n",
      "Processed 139000 of 304713 messages\n",
      "Processed 140000 of 304713 messages\n",
      "Processed 141000 of 304713 messages\n",
      "Processed 142000 of 304713 messages\n",
      "Processed 143000 of 304713 messages\n",
      "Processed 144000 of 304713 messages\n",
      "Processed 145000 of 304713 messages\n",
      "Processed 146000 of 304713 messages\n",
      "Processed 147000 of 304713 messages\n",
      "Processed 148000 of 304713 messages\n",
      "Processed 149000 of 304713 messages\n",
      "Processed 150000 of 304713 messages\n",
      "Processed 151000 of 304713 messages\n",
      "Processed 152000 of 304713 messages\n",
      "Processed 153000 of 304713 messages\n",
      "Processed 154000 of 304713 messages\n",
      "Processed 155000 of 304713 messages\n",
      "Processed 156000 of 304713 messages\n",
      "Processed 157000 of 304713 messages\n",
      "Processed 158000 of 304713 messages\n",
      "Processed 159000 of 304713 messages\n",
      "Processed 160000 of 304713 messages\n",
      "Processed 161000 of 304713 messages\n",
      "Processed 162000 of 304713 messages\n",
      "Processed 163000 of 304713 messages\n",
      "Processed 164000 of 304713 messages\n",
      "Processed 165000 of 304713 messages\n",
      "Processed 166000 of 304713 messages\n",
      "Processed 167000 of 304713 messages\n",
      "Processed 168000 of 304713 messages\n",
      "Processed 169000 of 304713 messages\n",
      "Processed 170000 of 304713 messages\n",
      "Processed 171000 of 304713 messages\n",
      "Processed 172000 of 304713 messages\n",
      "Processed 173000 of 304713 messages\n",
      "Processed 174000 of 304713 messages\n",
      "Processed 175000 of 304713 messages\n",
      "Processed 176000 of 304713 messages\n",
      "Processed 177000 of 304713 messages\n",
      "Processed 178000 of 304713 messages\n",
      "Processed 179000 of 304713 messages\n",
      "Processed 180000 of 304713 messages\n",
      "Processed 181000 of 304713 messages\n",
      "Processed 182000 of 304713 messages\n",
      "Processed 183000 of 304713 messages\n",
      "Processed 184000 of 304713 messages\n",
      "Processed 185000 of 304713 messages\n",
      "Processed 186000 of 304713 messages\n",
      "Processed 187000 of 304713 messages\n",
      "Processed 188000 of 304713 messages\n",
      "Processed 189000 of 304713 messages\n",
      "Processed 190000 of 304713 messages\n",
      "Processed 191000 of 304713 messages\n",
      "Processed 192000 of 304713 messages\n",
      "Processed 193000 of 304713 messages\n",
      "Processed 194000 of 304713 messages\n",
      "Processed 195000 of 304713 messages\n",
      "Processed 196000 of 304713 messages\n",
      "Processed 197000 of 304713 messages\n",
      "Processed 198000 of 304713 messages\n",
      "Processed 199000 of 304713 messages\n",
      "Processed 200000 of 304713 messages\n",
      "Processed 201000 of 304713 messages\n",
      "Processed 202000 of 304713 messages\n",
      "Processed 203000 of 304713 messages\n",
      "Processed 204000 of 304713 messages\n",
      "Processed 205000 of 304713 messages\n",
      "Processed 206000 of 304713 messages\n",
      "Processed 207000 of 304713 messages\n",
      "Processed 208000 of 304713 messages\n",
      "Processed 209000 of 304713 messages\n",
      "Processed 210000 of 304713 messages\n",
      "Processed 211000 of 304713 messages\n",
      "Processed 212000 of 304713 messages\n",
      "Processed 213000 of 304713 messages\n",
      "Processed 214000 of 304713 messages\n",
      "Processed 215000 of 304713 messages\n",
      "Processed 216000 of 304713 messages\n",
      "Processed 217000 of 304713 messages\n",
      "Processed 218000 of 304713 messages\n",
      "Processed 219000 of 304713 messages\n",
      "Processed 220000 of 304713 messages\n",
      "Processed 221000 of 304713 messages\n",
      "Processed 222000 of 304713 messages\n",
      "Processed 223000 of 304713 messages\n",
      "Processed 224000 of 304713 messages\n",
      "Processed 225000 of 304713 messages\n",
      "Processed 226000 of 304713 messages\n",
      "Processed 227000 of 304713 messages\n",
      "Processed 228000 of 304713 messages\n",
      "Processed 229000 of 304713 messages\n",
      "Processed 230000 of 304713 messages\n",
      "Processed 231000 of 304713 messages\n"
     ]
    },
    {
     "name": "stdout",
     "output_type": "stream",
     "text": [
      "Processed 232000 of 304713 messages\n",
      "Processed 233000 of 304713 messages\n",
      "Processed 234000 of 304713 messages\n",
      "Processed 235000 of 304713 messages\n",
      "Processed 236000 of 304713 messages\n",
      "Processed 237000 of 304713 messages\n",
      "Processed 238000 of 304713 messages\n",
      "Processed 239000 of 304713 messages\n",
      "Processed 240000 of 304713 messages\n",
      "Processed 241000 of 304713 messages\n",
      "Processed 242000 of 304713 messages\n",
      "Processed 243000 of 304713 messages\n",
      "Processed 244000 of 304713 messages\n",
      "Processed 245000 of 304713 messages\n",
      "Processed 246000 of 304713 messages\n",
      "Processed 247000 of 304713 messages\n",
      "Processed 248000 of 304713 messages\n",
      "Processed 249000 of 304713 messages\n",
      "Processed 250000 of 304713 messages\n",
      "Processed 251000 of 304713 messages\n",
      "Processed 252000 of 304713 messages\n",
      "Processed 253000 of 304713 messages\n",
      "Processed 254000 of 304713 messages\n",
      "Processed 255000 of 304713 messages\n",
      "Processed 256000 of 304713 messages\n",
      "Processed 257000 of 304713 messages\n",
      "Processed 258000 of 304713 messages\n",
      "Processed 259000 of 304713 messages\n",
      "Processed 260000 of 304713 messages\n",
      "Processed 261000 of 304713 messages\n",
      "Processed 262000 of 304713 messages\n",
      "Processed 263000 of 304713 messages\n",
      "Processed 264000 of 304713 messages\n",
      "Processed 265000 of 304713 messages\n",
      "Processed 266000 of 304713 messages\n",
      "Processed 267000 of 304713 messages\n",
      "Processed 268000 of 304713 messages\n",
      "Processed 269000 of 304713 messages\n",
      "Processed 270000 of 304713 messages\n",
      "Processed 271000 of 304713 messages\n",
      "Processed 272000 of 304713 messages\n",
      "Processed 273000 of 304713 messages\n",
      "Processed 274000 of 304713 messages\n",
      "Processed 275000 of 304713 messages\n",
      "Processed 276000 of 304713 messages\n",
      "Processed 277000 of 304713 messages\n",
      "Processed 278000 of 304713 messages\n",
      "Processed 279000 of 304713 messages\n",
      "Processed 280000 of 304713 messages\n",
      "Processed 281000 of 304713 messages\n",
      "Processed 282000 of 304713 messages\n",
      "Processed 283000 of 304713 messages\n",
      "Processed 284000 of 304713 messages\n",
      "Processed 285000 of 304713 messages\n",
      "Processed 286000 of 304713 messages\n",
      "Processed 287000 of 304713 messages\n",
      "Processed 288000 of 304713 messages\n",
      "Processed 289000 of 304713 messages\n",
      "Processed 290000 of 304713 messages\n",
      "Processed 291000 of 304713 messages\n",
      "Processed 292000 of 304713 messages\n",
      "Processed 293000 of 304713 messages\n",
      "Processed 294000 of 304713 messages\n",
      "Processed 295000 of 304713 messages\n",
      "Processed 296000 of 304713 messages\n",
      "Processed 297000 of 304713 messages\n"
     ]
    }
   ],
   "source": [
    "%%time\n",
    "\n",
    "ent_list = set()\n",
    "ent_list_res = set()\n",
    "skip = 1000\n",
    "i = 0\n",
    "lim = len(data)\n",
    "#lim = 3000\n",
    "\n",
    "while(i < lim):    \n",
    "    ent_list = set(get_entities(data, i, i+skip))\n",
    "    ent_list_res = ent_list_res.union(ent_list)\n",
    "    i = i + skip\n",
    "    print('Processed '+str(i)+' of '+str(lim)+' messages')"
   ]
  },
  {
   "cell_type": "code",
   "execution_count": 43,
   "metadata": {},
   "outputs": [
    {
     "data": {
      "text/plain": [
       "1015"
      ]
     },
     "execution_count": 43,
     "metadata": {},
     "output_type": "execute_result"
    }
   ],
   "source": [
    "len(ent_list_res)"
   ]
  },
  {
   "cell_type": "code",
   "execution_count": 44,
   "metadata": {},
   "outputs": [
    {
     "data": {
      "text/plain": [
       "{('Reggie', 'PERSON'),\n",
       " (\"New York's\", 'GPE'),\n",
       " ('two weeks', 'DATE'),\n",
       " ('thirteen cents', 'MONEY'),\n",
       " ('Santangel', 'PERSON'),\n",
       " (\"Dino Velvet's\", 'PERSON'),\n",
       " ('second', 'ORDINAL'),\n",
       " (\"Elvis Presley's\", 'PERSON'),\n",
       " ('a fairly crummy day ahead', 'DATE'),\n",
       " ('Vietnam', 'GPE'),\n",
       " ('Sun', 'ORG'),\n",
       " ('I</u', 'GPE'),\n",
       " ('Thirty-two', 'CARDINAL'),\n",
       " ('one day', 'DATE'),\n",
       " ('LaRiviere', 'PERSON'),\n",
       " ('Toby', 'PERSON'),\n",
       " ('Earth', 'LOC'),\n",
       " ('Jew', 'ORG'),\n",
       " ('the King of Portugal', 'PERSON'),\n",
       " ('British', 'NORP'),\n",
       " ('Colon', 'WORK_OF_ART'),\n",
       " ('Evan Twombley Boston', 'ORG'),\n",
       " ('Maria Mitchell', 'PERSON'),\n",
       " ('Thirty', 'CARDINAL'),\n",
       " ('Daya', 'PERSON'),\n",
       " ('these days', 'DATE'),\n",
       " ('the next few days', 'DATE'),\n",
       " ('364000', 'MONEY'),\n",
       " ('dutch', 'NORP'),\n",
       " ('Two minutes', 'TIME'),\n",
       " ('three years', 'DATE'),\n",
       " ('Elbourne', 'PERSON'),\n",
       " ('63rd', 'DATE'),\n",
       " ('Czech', 'NORP'),\n",
       " ('Darling', 'PERSON'),\n",
       " ('the past week', 'DATE'),\n",
       " ('nearly three years', 'DATE'),\n",
       " ('Chacha', 'PERSON'),\n",
       " ('Turkey', 'GPE'),\n",
       " ('Frank', 'PERSON'),\n",
       " ('Russians', 'NORP'),\n",
       " ('Eastern European', 'NORP'),\n",
       " ('half', 'CARDINAL'),\n",
       " ('Christian', 'PERSON'),\n",
       " (\"Four o'clock\", 'TIME'),\n",
       " ('Don Moxica', 'PERSON'),\n",
       " ('Tonight', 'TIME'),\n",
       " ('Verona', 'PERSON'),\n",
       " ('almost fifty', 'CARDINAL'),\n",
       " ('Emil', 'PERSON'),\n",
       " ('winter', 'DATE'),\n",
       " ('Clavius Control', 'PERSON'),\n",
       " ('Fernando', 'LOC'),\n",
       " ('Town Hall', 'FAC'),\n",
       " ('Haden', 'GPE'),\n",
       " ('five years', 'DATE'),\n",
       " ('Madison', 'PERSON'),\n",
       " ('Lillian', 'NORP'),\n",
       " ('Word', 'PERSON'),\n",
       " ('number one', 'CARDINAL'),\n",
       " ('Debbie', 'PERSON'),\n",
       " ('Welles', 'PERSON'),\n",
       " ('One million dollars', 'MONEY'),\n",
       " ('Mark', 'PERSON'),\n",
       " ('forty minutes', 'TIME'),\n",
       " ('F.B.I.', 'ORG'),\n",
       " ('Air Force One', 'PRODUCT'),\n",
       " ('ten-thousand miles', 'QUANTITY'),\n",
       " ('The last 5000 years', 'DATE'),\n",
       " ('Chat', 'PERSON'),\n",
       " ('the Holy Saints', 'LOC'),\n",
       " ('Pizza', 'PERSON'),\n",
       " ('the East Bay', 'LOC'),\n",
       " ('MasterCard', 'ORG'),\n",
       " ('Algren', 'PERSON'),\n",
       " ('Shaft', 'PERSON'),\n",
       " ('Leeloo', 'PERSON'),\n",
       " ('Oh Wade', 'ORG'),\n",
       " ('Max', 'PERSON'),\n",
       " ('forty-one', 'DATE'),\n",
       " ('TOTAL EVIL', 'ORG'),\n",
       " ('M.E.', 'GPE'),\n",
       " ('Queen', 'PERSON'),\n",
       " ('Selectman', 'PERSON'),\n",
       " ('BIANCA', 'ORG'),\n",
       " ('Christian', 'NORP'),\n",
       " ('Don Sanchez', 'PERSON'),\n",
       " ('a few days ago', 'DATE'),\n",
       " ('seven weeks', 'DATE'),\n",
       " ('Spiritus Sancti', 'ORG'),\n",
       " ('a week', 'DATE'),\n",
       " ('Alcatraz', 'PERSON'),\n",
       " ('Jesus Maria', 'PERSON'),\n",
       " ('Milos', 'LOC'),\n",
       " ('Yesterday', 'DATE'),\n",
       " ('Tonto', 'PRODUCT'),\n",
       " ('Will Bogey', 'PERSON'),\n",
       " ('California', 'GPE'),\n",
       " ('shootin', 'PERSON'),\n",
       " ('I. They', 'PERSON'),\n",
       " ('World War Two', 'EVENT'),\n",
       " ('Mitchell', 'PERSON'),\n",
       " ('Oooooh', 'PERSON'),\n",
       " ('Banana', 'PERSON'),\n",
       " ('last week', 'DATE'),\n",
       " ('500', 'MONEY'),\n",
       " ('Halloween', 'DATE'),\n",
       " ('Whitehouse', 'PERSON'),\n",
       " ('French', 'NORP'),\n",
       " ('this year', 'DATE'),\n",
       " ('Polish', 'NORP'),\n",
       " ('Daddy', 'PERSON'),\n",
       " ('Don Colon', 'PERSON'),\n",
       " ('20 years 20 years', 'DATE'),\n",
       " ('Cyclops', 'ORG'),\n",
       " ('45', 'CARDINAL'),\n",
       " ('Speakin', 'PERSON'),\n",
       " ('fifty four dollars', 'MONEY'),\n",
       " ('Evan Twombley', 'PERSON'),\n",
       " ('Listen Colon', 'PERSON'),\n",
       " ('three weeks ago', 'DATE'),\n",
       " ('5', 'CARDINAL'),\n",
       " ('Akta', 'GPE'),\n",
       " ('Zorg', 'GPE'),\n",
       " ('Joey Dorsey', 'PERSON'),\n",
       " ('two months two months', 'DATE'),\n",
       " ('EVIL', 'ORG'),\n",
       " ('one minute', 'TIME'),\n",
       " ('First', 'ORDINAL'),\n",
       " ('40', 'CARDINAL'),\n",
       " ('months', 'DATE'),\n",
       " ('a thousand statute miles', 'QUANTITY'),\n",
       " ('Ikset-kiba', 'PERSON'),\n",
       " ('nine', 'CARDINAL'),\n",
       " ('the West Indies', 'GPE'),\n",
       " ('Katarina', 'PERSON'),\n",
       " ('Jean-Baptiste Emmanuel Zorg', 'PERSON'),\n",
       " ('Ian', 'PERSON'),\n",
       " ('Paleozoic', 'ORG'),\n",
       " ('New England', 'LOC'),\n",
       " ('Newsweek', 'ORG'),\n",
       " ('Fifty', 'CARDINAL'),\n",
       " ('six', 'CARDINAL'),\n",
       " ('Deep Conditioner', 'PERSON'),\n",
       " ('Dino', 'LOC'),\n",
       " ('Diego', 'ORG'),\n",
       " ('Mondoshawan', 'LOC'),\n",
       " ('Half', 'CARDINAL'),\n",
       " ('Thirty thousand', 'CARDINAL'),\n",
       " ('a million', 'CARDINAL'),\n",
       " ('Powell', 'PERSON'),\n",
       " ('Canada', 'GPE'),\n",
       " ('the middle of the night', 'TIME'),\n",
       " ('Naturally Dave', 'PERSON'),\n",
       " ('Five thousand', 'CARDINAL'),\n",
       " ('two years', 'DATE'),\n",
       " ('Two weeks ago', 'DATE'),\n",
       " ('Roxanne Korrine', 'PERSON'),\n",
       " ('257 days', 'DATE'),\n",
       " (\"Bobby Rictor's\", 'PERSON'),\n",
       " ('the Supreme Being', 'FAC'),\n",
       " ('I.D.', 'GPE'),\n",
       " ('Great Joey', 'PERSON'),\n",
       " ('Twenty eight', 'CARDINAL'),\n",
       " ('William Shakespeare', 'PERSON'),\n",
       " (\"don'tchya\", 'PERSON'),\n",
       " ('fifth', 'ORDINAL'),\n",
       " ('every day', 'DATE'),\n",
       " ('Honey', 'PERSON'),\n",
       " ('One night', 'TIME'),\n",
       " ('Bogey', 'PERSON'),\n",
       " ('Dan', 'PERSON'),\n",
       " ('Bangladesh', 'GPE'),\n",
       " ('a few minutes', 'TIME'),\n",
       " ('Marco Polo', 'PERSON'),\n",
       " ('Susie High School', 'ORG'),\n",
       " ('one', 'CARDINAL'),\n",
       " ('year', 'DATE'),\n",
       " ('Nuns', 'PERSON'),\n",
       " ('Filius', 'ORG'),\n",
       " ('State', 'ORG'),\n",
       " ('Skipper', 'PERSON'),\n",
       " ('Diego', 'LOC'),\n",
       " ('Tamina Karlova', 'PERSON'),\n",
       " ('Monica', 'PERSON'),\n",
       " ('The Partridge Family?', 'LAW'),\n",
       " ('Ian Hunt', 'PERSON'),\n",
       " ('more than five minutes', 'TIME'),\n",
       " ('the Sons of Heaven', 'ORG'),\n",
       " ('ten pounds', 'QUANTITY'),\n",
       " ('Army', 'ORG'),\n",
       " ('Oleg', 'PERSON'),\n",
       " ('Ruth', 'PERSON'),\n",
       " ('Kissing', 'GPE'),\n",
       " (\"seven o'clock\", 'TIME'),\n",
       " ('Three more hours', 'TIME'),\n",
       " ('Fifth', 'ORDINAL'),\n",
       " ('Unidentified Flying Objects', 'ORG'),\n",
       " ('Spain', 'GPE'),\n",
       " ('David', 'PERSON'),\n",
       " ('Longdale', 'PERSON'),\n",
       " ('Yvonne', 'PERSON'),\n",
       " ('Concord', 'GPE'),\n",
       " ('the past ten days', 'DATE'),\n",
       " ('ten', 'QUANTITY'),\n",
       " ('Dato', 'PERSON'),\n",
       " ('Hearsay', 'PERSON'),\n",
       " ('Dick Tracy', 'PERSON'),\n",
       " ('Zero', 'CARDINAL'),\n",
       " ('eight', 'CARDINAL'),\n",
       " ('Syria', 'GPE'),\n",
       " ('Caidwell', 'PERSON'),\n",
       " ('Huh', 'PERSON'),\n",
       " ('Simpson', 'PERSON'),\n",
       " ('half an hour', 'TIME'),\n",
       " ('at least fifty', 'CARDINAL'),\n",
       " ('one million dollars', 'MONEY'),\n",
       " ('twenty minutes', 'TIME'),\n",
       " ('A.O.', 'GPE'),\n",
       " ('Discovery', 'PRODUCT'),\n",
       " ('Club Skunk', 'ORG'),\n",
       " ('Tamina', 'GPE'),\n",
       " ('Council', 'ORG'),\n",
       " ('20 minutes', 'TIME'),\n",
       " ('Patrick You', 'PERSON'),\n",
       " ('Twombley', 'ORG'),\n",
       " ('Gibbs', 'PERSON'),\n",
       " ('tens of thousands', 'CARDINAL'),\n",
       " ('a half hour', 'TIME'),\n",
       " ('forty-five years', 'DATE'),\n",
       " ('Yesas', 'PERSON'),\n",
       " ('Eddie', 'ORG'),\n",
       " ('Pod Bay', 'PERSON'),\n",
       " ('Esdras', 'PERSON'),\n",
       " ('Mary Anne', 'PERSON'),\n",
       " ('thousand', 'CARDINAL'),\n",
       " ('Times Square', 'FAC'),\n",
       " ('Cadillac', 'ORG'),\n",
       " ('Jillie', 'PERSON'),\n",
       " ('Aundrea', 'PERSON'),\n",
       " ('ten', 'CARDINAL'),\n",
       " ('Mel', 'PERSON'),\n",
       " ('Dino Velvet', 'PERSON'),\n",
       " (\"Bogey Lowenstein's\", 'PERSON'),\n",
       " ('gore', 'PERSON'),\n",
       " ('Hoover Street', 'FAC'),\n",
       " ('Smyslov', 'PERSON'),\n",
       " ('next year', 'DATE'),\n",
       " ('Dorsey', 'PERSON'),\n",
       " ('kala chon', 'PERSON'),\n",
       " ('Twenty-five', 'CARDINAL'),\n",
       " ('three years old', 'DATE'),\n",
       " ('four hours', 'TIME'),\n",
       " ('Don Bobadilla', 'PERSON'),\n",
       " ('Korben Dallas', 'PERSON'),\n",
       " ('Cyclopes', 'PERSON'),\n",
       " ('Dean', 'PERSON'),\n",
       " ('ten days', 'DATE'),\n",
       " ('a Goddamn', 'WORK_OF_ART'),\n",
       " ('Alma', 'PERSON'),\n",
       " ('Hmm', 'PERSON'),\n",
       " ('Friday night', 'TIME'),\n",
       " ('Virginia', 'GPE'),\n",
       " ('Dorsey.', 'GPE'),\n",
       " (\"Don't Disturb\", 'WORK_OF_ART'),\n",
       " ('Sally', 'PERSON'),\n",
       " ('last year', 'DATE'),\n",
       " ('East Coast', 'LOC'),\n",
       " ('first day of season', 'DATE'),\n",
       " ('Sarah Lawrence', 'PERSON'),\n",
       " (\"WE'RE HOOKED\", 'PERSON'),\n",
       " ('about 30 yards', 'QUANTITY'),\n",
       " ('Freddy', 'PERSON'),\n",
       " ('Shark', 'FAC'),\n",
       " ('Berkeley', 'ORG'),\n",
       " ('two months', 'DATE'),\n",
       " ('the last three months', 'DATE'),\n",
       " ('Joey', 'PERSON'),\n",
       " ('Giacomo Colon', 'PERSON'),\n",
       " ('Lawyer', 'PERSON'),\n",
       " ('a few years back', 'DATE'),\n",
       " ('Ellesmere Island', 'GPE'),\n",
       " ('<u', 'PERSON'),\n",
       " ('Margie Fogg', 'PERSON'),\n",
       " ('morning', 'TIME'),\n",
       " ('MCC', 'ORG'),\n",
       " ('American', 'NORP'),\n",
       " ('Vito', 'PERSON'),\n",
       " ('This spring', 'DATE'),\n",
       " ('Hungary', 'GPE'),\n",
       " ('The North Pole', 'LOC'),\n",
       " ('two seconds ago', 'TIME'),\n",
       " ('Clavius', 'GPE'),\n",
       " ('Amy', 'PERSON'),\n",
       " ('the Vice Squad', 'ORG'),\n",
       " ('Stravanvitch', 'PERSON'),\n",
       " ('zero', 'CARDINAL'),\n",
       " ('Big Mac', 'ORG'),\n",
       " ('Jimmy', 'PERSON'),\n",
       " ('a few years ago', 'DATE'),\n",
       " ('200000', 'CARDINAL'),\n",
       " ('Santo Domingo', 'PERSON'),\n",
       " ('Fire Marshall', 'PERSON'),\n",
       " ('a few weeks', 'DATE'),\n",
       " ('day', 'DATE'),\n",
       " ('Tower', 'GPE'),\n",
       " ('Stones', 'LOC'),\n",
       " ('Clemens', 'PERSON'),\n",
       " ('hundred bucks', 'MONEY'),\n",
       " ('Shit', 'LOC'),\n",
       " ('two hundred thousand', 'CARDINAL'),\n",
       " ('Dumbo', 'NORP'),\n",
       " ('one night', 'TIME'),\n",
       " ('Christ', 'ORG'),\n",
       " ('more than a week', 'DATE'),\n",
       " ('Angel', 'PERSON'),\n",
       " ('English', 'LANGUAGE'),\n",
       " ('Eto Akta Gamat', 'PERSON'),\n",
       " ('Paulie', 'PERSON'),\n",
       " ('Mandella', 'PERSON'),\n",
       " ('Asia', 'LOC'),\n",
       " ('almost three weeks', 'DATE'),\n",
       " ('seventy-two hours', 'TIME'),\n",
       " ('Lillian', 'PERSON'),\n",
       " ('Ted Bundy - famous', 'PERSON'),\n",
       " (\"LaRiviere's\", 'ORG'),\n",
       " ('Playboy', 'ORG'),\n",
       " ('six years', 'DATE'),\n",
       " ('years', 'DATE'),\n",
       " ('twelve', 'CARDINAL'),\n",
       " ('William - he', 'PERSON'),\n",
       " ('two hundred', 'CARDINAL'),\n",
       " ('the Middle East', 'LOC'),\n",
       " ('seconds', 'TIME'),\n",
       " ('Bobby', 'PERSON'),\n",
       " ('Kristen', 'PERSON'),\n",
       " ('Fender', 'ORG'),\n",
       " ('N.C.M.E.C.', 'GPE'),\n",
       " ('Maria', 'PERSON'),\n",
       " ('Six hours ago', 'TIME'),\n",
       " ('Uncle Tony', 'PERSON'),\n",
       " ('two days', 'DATE'),\n",
       " ('Hal', 'PERSON'),\n",
       " ('Neil Cole', 'PERSON'),\n",
       " ('Patrolman', 'PERSON'),\n",
       " ('Exec', 'ORG'),\n",
       " ('Two and three', 'CARDINAL'),\n",
       " ('Carlton Fisk', 'ORG'),\n",
       " ('Whaddya', 'ORG'),\n",
       " ('Saturn', 'PRODUCT'),\n",
       " ('Don Alonso de Bobadilla', 'PERSON'),\n",
       " ('Portuguese', 'NORP'),\n",
       " ('kinda accident', 'PERSON'),\n",
       " ('Miller', 'PERSON'),\n",
       " ('five minutes', 'TIME'),\n",
       " ('Frank Capra', 'PERSON'),\n",
       " ('William', 'PERSON'),\n",
       " ('three', 'CARDINAL'),\n",
       " ('five thousand', 'CARDINAL'),\n",
       " ('Julie', 'PERSON'),\n",
       " ('a few days', 'DATE'),\n",
       " ('Twombley Evan Twombley', 'PERSON'),\n",
       " ('six hundred', 'CARDINAL'),\n",
       " ('Hammond Reggie Hammond', 'PERSON'),\n",
       " ('Romania', 'GPE'),\n",
       " ('Bobby Bobby', 'PERSON'),\n",
       " ('57 hours', 'TIME'),\n",
       " ('A hundred and eighty', 'CARDINAL'),\n",
       " ('E.V.A.', 'ORG'),\n",
       " ('Sox', 'PERSON'),\n",
       " (\"Penny's\", 'FAC'),\n",
       " ('Sears', 'PERSON'),\n",
       " ('eighteen', 'DATE'),\n",
       " ('Vano da mechteba', 'PERSON'),\n",
       " ('Zeus', 'PERSON'),\n",
       " ('Buyl', 'PERSON'),\n",
       " ('this week', 'DATE'),\n",
       " ('CAR', 'ORG'),\n",
       " ('Thousands', 'CARDINAL'),\n",
       " ('Two weeks holiday', 'DATE'),\n",
       " ('Nome Alaska', 'PERSON'),\n",
       " ('the Canary Islands', 'GPE'),\n",
       " ('Melicertes', 'PERSON'),\n",
       " ('Congress', 'ORG'),\n",
       " ('forty-eight hours', 'TIME'),\n",
       " (\"films'll\", 'ORG'),\n",
       " ('FBI', 'ORG'),\n",
       " ('Jesus Rolfe', 'PERSON'),\n",
       " ('June', 'DATE'),\n",
       " ('all day long', 'DATE'),\n",
       " ('Entebe', 'GPE'),\n",
       " ('Coulda', 'ORG'),\n",
       " ('Vroman', 'PERSON'),\n",
       " ('St. Christopher', 'PERSON'),\n",
       " ('fifty', 'CARDINAL'),\n",
       " ('the King Edward Hotel', 'FAC'),\n",
       " ('Cindy', 'PERSON'),\n",
       " ('Clifford Kent', 'PERSON'),\n",
       " ('30 seconds', 'TIME'),\n",
       " ('\" Love... Not hard to find you...just follow the Chaos...', 'WORK_OF_ART'),\n",
       " ('Skipper Neilsen', 'PERSON'),\n",
       " ('Merritt', 'PERSON'),\n",
       " ('48 hours', 'TIME'),\n",
       " ('Goddam', 'ORG'),\n",
       " ('babe', 'PERSON'),\n",
       " ('three hundred thousand six hundred', 'CARDINAL'),\n",
       " ('Czechoslovakia', 'GPE'),\n",
       " ('three years ago', 'DATE'),\n",
       " ('Oleg Razgul', 'PERSON'),\n",
       " ('Snuff', 'PERSON'),\n",
       " ('Academy', 'ORG'),\n",
       " ('30 35 yards', 'QUANTITY'),\n",
       " ('Philadelphia', 'GPE'),\n",
       " ('the two weeks', 'DATE'),\n",
       " ('Thomas', 'PERSON'),\n",
       " ('Cyclops', 'NORP'),\n",
       " ('Barbie', 'PERSON'),\n",
       " ('the white House', 'ORG'),\n",
       " ('a month', 'DATE'),\n",
       " ('this morning', 'TIME'),\n",
       " ('Goddamn', 'PERSON'),\n",
       " ('this weekend', 'DATE'),\n",
       " ('Emil', 'GPE'),\n",
       " ('Eddie Flemming', 'PERSON'),\n",
       " ('the last few hours', 'TIME'),\n",
       " ('next week', 'DATE'),\n",
       " ('Airport', 'GPE'),\n",
       " ('the Center for Missing and Exploited Children', 'ORG'),\n",
       " ('Gigglepuss', 'PERSON'),\n",
       " ('Polly Perfect', 'FAC'),\n",
       " ('Tiger Shark', 'PERSON'),\n",
       " ('eighteen thousand feet', 'QUANTITY'),\n",
       " ('Twenty minutes', 'TIME'),\n",
       " ('no more than a week', 'DATE'),\n",
       " ('0100 hours', 'TIME'),\n",
       " ('15', 'CARDINAL'),\n",
       " ('Dallas', 'PERSON'),\n",
       " ('900 million dollars', 'MONEY'),\n",
       " ('Six days ago', 'DATE'),\n",
       " ('MiGs', 'PRODUCT'),\n",
       " ('Tuesday', 'DATE'),\n",
       " ('forty-five', 'CARDINAL'),\n",
       " ('Akta Gamat', 'PERSON'),\n",
       " ('750', 'CARDINAL'),\n",
       " ('the Magnetic Pole', 'LOC'),\n",
       " ('Tommy', 'PERSON'),\n",
       " ('Thirty-four seconds', 'TIME'),\n",
       " ('Time', 'ORG'),\n",
       " ('Georgia', 'GPE'),\n",
       " ('Cuba', 'GPE'),\n",
       " ('vagina', 'PERSON'),\n",
       " ('another three months', 'DATE'),\n",
       " ('10 minutes', 'TIME'),\n",
       " ('the Federated Army', 'ORG'),\n",
       " ('Choke or Devil', 'WORK_OF_ART'),\n",
       " ('the Town Hall', 'FAC'),\n",
       " ('Gloria Steinem', 'WORK_OF_ART'),\n",
       " ('the Supreme Council', 'ORG'),\n",
       " ('two days ago', 'DATE'),\n",
       " ('Murmansk', 'PERSON'),\n",
       " ('Perm', 'PERSON'),\n",
       " ('the Diva Plavalaguna', 'LOC'),\n",
       " ('Shark', 'PERSON'),\n",
       " ('Walter', 'PERSON'),\n",
       " ('Christopher', 'PERSON'),\n",
       " ('Debbie', 'ORG'),\n",
       " ('Archie', 'GPE'),\n",
       " ('Vito Cornelius', 'PERSON'),\n",
       " ('Mafia', 'ORG'),\n",
       " ('747', 'PRODUCT'),\n",
       " ('Patrick', 'PERSON'),\n",
       " ('the morning', 'TIME'),\n",
       " ('today', 'DATE'),\n",
       " ('millions', 'CARDINAL'),\n",
       " ('Pinzon Pinzon', 'PERSON'),\n",
       " ('the last minute', 'TIME'),\n",
       " ('FIS', 'ORG'),\n",
       " ('the Son of Sam Law', 'WORK_OF_ART'),\n",
       " ('more than six or', 'CARDINAL'),\n",
       " ('Poland', 'GPE'),\n",
       " (\"Jack'll\", 'ORG'),\n",
       " ('Dave Milburn', 'PERSON'),\n",
       " ('Fish and Game', 'WORK_OF_ART'),\n",
       " ('Korben', 'PERSON'),\n",
       " ('Russian', 'NORP'),\n",
       " ('Nicky', 'PERSON'),\n",
       " ('about five thousand', 'CARDINAL'),\n",
       " ('two nights ago three', 'DATE'),\n",
       " ('Finland', 'GPE'),\n",
       " ('kiddin', 'PERSON'),\n",
       " ('Scurvy', 'ORG'),\n",
       " ('Wong Henry Wong', 'PERSON'),\n",
       " ('Truman Capote', 'PERSON'),\n",
       " ('Los Angeles', 'GPE'),\n",
       " ('Tomcats', 'NORP'),\n",
       " ('Fhloston Paradise', 'GPE'),\n",
       " ('thousands', 'CARDINAL'),\n",
       " ('Diva', 'PERSON'),\n",
       " ('Mactilburgh', 'GPE'),\n",
       " ('Andrew Barrett', 'PERSON'),\n",
       " ('Marilyn Manson', 'PERSON'),\n",
       " ('tomorrow', 'DATE'),\n",
       " ('Mouth', 'PERSON'),\n",
       " ('4', 'CARDINAL'),\n",
       " ('Fifteen thousand dollars', 'MONEY'),\n",
       " ('Katarina Stratford', 'PERSON'),\n",
       " ('A week', 'DATE'),\n",
       " ('Lungfish', 'ORG'),\n",
       " ('Gordon', 'PERSON'),\n",
       " ('Jesus Christ', 'PERSON'),\n",
       " ('last month', 'DATE'),\n",
       " ('Marchena', 'ORG'),\n",
       " ('last night', 'TIME'),\n",
       " ('Six', 'CARDINAL'),\n",
       " ('Explorer', 'LOC'),\n",
       " ('Washington Skipper', 'ORG'),\n",
       " ('Billy Bear', 'PERSON'),\n",
       " ('Chub Merritt', 'PERSON'),\n",
       " ('the Black Sea', 'LOC'),\n",
       " ('Flemming - Bobby Korfin', 'PERSON'),\n",
       " ('three days', 'DATE'),\n",
       " ('Eastern Europe', 'LOC'),\n",
       " ('150', 'CARDINAL'),\n",
       " ('Sassy', 'ORG'),\n",
       " ('Marshall', 'PERSON'),\n",
       " ('Rolfe', 'PERSON'),\n",
       " ('The Fifth Element', 'ORG'),\n",
       " ('U.S.', 'GPE'),\n",
       " ('Second', 'ORDINAL'),\n",
       " ('Las Minas', 'GPE'),\n",
       " ('Luther', 'PERSON'),\n",
       " ('earth', 'LOC'),\n",
       " ('Hoyts', 'PERSON'),\n",
       " ('Pole', 'LOC'),\n",
       " ('six cents', 'MONEY'),\n",
       " ('Gothic Hardcore', 'PERSON'),\n",
       " ('Czech', 'LANGUAGE'),\n",
       " ('three days ago', 'DATE'),\n",
       " ('Neil', 'PERSON'),\n",
       " ('Few days ago', 'DATE'),\n",
       " ('Bitches Who Need Prozac', 'WORK_OF_ART'),\n",
       " ('Twombley', 'PERSON'),\n",
       " ('Two', 'CARDINAL'),\n",
       " ('summer', 'DATE'),\n",
       " ('Kent', 'PERSON'),\n",
       " ('Boeing', 'ORG'),\n",
       " (\"Skipper Neilsen's\", 'PERSON'),\n",
       " ('Sheraton', 'ORG'),\n",
       " ('Three hundred thousand dollars', 'MONEY'),\n",
       " ('Thomas Edison', 'PERSON'),\n",
       " ('Greenland', 'GPE'),\n",
       " ('Guillermo', 'ORG'),\n",
       " ('Jared Leto', 'PERSON'),\n",
       " ('New Hampshire', 'GPE'),\n",
       " ('Thai', 'NORP'),\n",
       " ('Half a million', 'CARDINAL'),\n",
       " ('Brooklyn', 'GPE'),\n",
       " ('Home Made Cooking', 'WORK_OF_ART'),\n",
       " ('sec', 'ORG'),\n",
       " ('Dave', 'PERSON'),\n",
       " ('Surprise Luther', 'PERSON'),\n",
       " ('Gone', 'PERSON'),\n",
       " ('Speak English', 'PERSON'),\n",
       " ('24 hours', 'TIME'),\n",
       " ('weeks', 'DATE'),\n",
       " ('Fillmore', 'PRODUCT'),\n",
       " ('Stones', 'ORG'),\n",
       " ('Prada', 'ORG'),\n",
       " ('six months', 'DATE'),\n",
       " ('Hammond', 'PERSON'),\n",
       " ('some 200 billion', 'MONEY'),\n",
       " ('the Accounting Office at Mission Control', 'ORG'),\n",
       " ('Queen Harry', 'PERSON'),\n",
       " ('English Doc', 'PERSON'),\n",
       " ('Ten or twelve thousand dollars', 'MONEY'),\n",
       " ('Helen', 'PERSON'),\n",
       " ('Marg', 'PERSON'),\n",
       " ('Motherfucker', 'PERSON'),\n",
       " ('Fernando', 'PERSON'),\n",
       " ('DJ', 'ORG'),\n",
       " ('Ocean', 'LOC'),\n",
       " ('Clint Eastwood', 'PERSON'),\n",
       " ('Two hours', 'TIME'),\n",
       " ('the last two years', 'DATE'),\n",
       " ('seven years', 'DATE'),\n",
       " ('Space Station Five', 'ORG'),\n",
       " ('Twombley Jesus', 'PERSON'),\n",
       " ('about twenty minutes', 'TIME'),\n",
       " ('the last 2000 years', 'DATE'),\n",
       " ('eighteen', 'CARDINAL'),\n",
       " ('third', 'ORDINAL'),\n",
       " ('Fhloston Paradise', 'LOC'),\n",
       " ('Tons', 'WORK_OF_ART'),\n",
       " ('Guy', 'PERSON'),\n",
       " ('I. Alright', 'PERSON'),\n",
       " ('Springwood', 'GPE'),\n",
       " ('Monday', 'DATE'),\n",
       " ('Two weeks', 'DATE'),\n",
       " ('A couple hundred', 'CARDINAL'),\n",
       " ('Houston', 'GPE'),\n",
       " ('Ganz', 'ORG'),\n",
       " ('Hettie Rodgers', 'ORG'),\n",
       " ('Christian Tom Welles', 'PERSON'),\n",
       " ('the day', 'DATE'),\n",
       " ('Jack Hewitt', 'PERSON'),\n",
       " ('Priest', 'PERSON'),\n",
       " ('six years ago', 'DATE'),\n",
       " ('a couple hours', 'TIME'),\n",
       " ('all day', 'DATE'),\n",
       " ('Amanda', 'ORG'),\n",
       " ('Floyd', 'PERSON'),\n",
       " ('Zedeck', 'PERSON'),\n",
       " ('Longdale', 'ORG'),\n",
       " ('Paris', 'GPE'),\n",
       " ('Boston', 'GPE'),\n",
       " ('Granada', 'PERSON'),\n",
       " ('Swing', 'PERSON'),\n",
       " ('Super', 'ORG'),\n",
       " ('Fuck', 'PERSON'),\n",
       " ('He', 'PERSON'),\n",
       " ('Betty', 'PERSON'),\n",
       " ('Dad', 'PERSON'),\n",
       " ('June 11th 1992', 'DATE'),\n",
       " ('100', 'MONEY'),\n",
       " ('Susan', 'PERSON'),\n",
       " ('Elena', 'PERSON'),\n",
       " ('FPC', 'ORG'),\n",
       " ('Jim', 'PERSON'),\n",
       " ('Five', 'CARDINAL'),\n",
       " ('Milos', 'PERSON'),\n",
       " ('five four', 'TIME'),\n",
       " (\"Leon Jackson's\", 'PERSON'),\n",
       " ('a few thousand', 'CARDINAL'),\n",
       " ('Sheila', 'PERSON'),\n",
       " ('Moscow', 'GPE'),\n",
       " ('Ken', 'PERSON'),\n",
       " ('Kat', 'PERSON'),\n",
       " ('Mary', 'PERSON'),\n",
       " ('Commander</u', 'PERSON'),\n",
       " ('450 500 bucks', 'MONEY'),\n",
       " ('Akina', 'GPE'),\n",
       " ('Clavius', 'ORG'),\n",
       " ('San Francisco', 'GPE'),\n",
       " ('50-50', 'CARDINAL'),\n",
       " ('Roger', 'PERSON'),\n",
       " ('Richard Holloway', 'PERSON'),\n",
       " ('the Fifth Element', 'ORG'),\n",
       " ('Rodney King', 'PERSON'),\n",
       " ('Last night', 'TIME'),\n",
       " ('Robert', 'PERSON'),\n",
       " ('Tryin', 'ORG'),\n",
       " ('Viceroy', 'PERSON'),\n",
       " ('Thirty percent', 'PERCENT'),\n",
       " ('Jesus', 'PERSON'),\n",
       " ('Honors Biology', 'WORK_OF_ART'),\n",
       " ('Surf', 'PERSON'),\n",
       " ('Sanchez', 'PERSON'),\n",
       " ('Cor', 'PERSON'),\n",
       " ('Lesbian', 'GPE'),\n",
       " ('the Two Gordons', 'FAC'),\n",
       " ('every night', 'TIME'),\n",
       " ('this Vito Cornelius', 'PERSON'),\n",
       " ('Dino', 'PERSON'),\n",
       " ('Broadway', 'FAC'),\n",
       " ('twenty', 'CARDINAL'),\n",
       " ('million', 'CARDINAL'),\n",
       " ('Mathews', 'PERSON'),\n",
       " ('Fhloston Paradise Hotel', 'FAC'),\n",
       " ('Grey', 'PERSON'),\n",
       " ('Retrieve four', 'PERSON'),\n",
       " ('three hours', 'TIME'),\n",
       " ('Rose', 'PERSON'),\n",
       " ('900', 'MONEY'),\n",
       " ('BOOM', 'ORG'),\n",
       " ('five hundred dollar', 'MONEY'),\n",
       " ('Friday', 'DATE'),\n",
       " ('Indians', 'NORP'),\n",
       " ('7', 'CARDINAL'),\n",
       " ('Nome', 'LOC'),\n",
       " ('The Feminine Mystique', 'WORK_OF_ART'),\n",
       " ('CONINUED', 'ORG'),\n",
       " ('Leeloo Minai', 'PERSON'),\n",
       " ('Playboy', 'WORK_OF_ART'),\n",
       " ('Freddy', 'ORG'),\n",
       " (\"Joey Dorsey's\", 'PERSON'),\n",
       " ('the United States', 'GPE'),\n",
       " ('Billy', 'PERSON'),\n",
       " ('the last few years', 'DATE'),\n",
       " ('Apipoussan', 'PERSON'),\n",
       " ('Academy Awards', 'ORG'),\n",
       " ('Cyclops', 'PERSON'),\n",
       " ('tomorrow night', 'TIME'),\n",
       " ('the past two weeks', 'DATE'),\n",
       " ('Ma', 'PERSON'),\n",
       " ('Neilsen', 'PERSON'),\n",
       " ('250', 'CARDINAL'),\n",
       " ('Mtv', 'PERSON'),\n",
       " ('The night', 'TIME'),\n",
       " (\"Machine's\", 'ORG'),\n",
       " (\"Penthouse'll be Hustler\", 'ORG'),\n",
       " ('Jesus H. Christ', 'PERSON'),\n",
       " ('Turkienistan', 'NORP'),\n",
       " ('A. New Britain', 'GPE'),\n",
       " ('chandler', 'PERSON'),\n",
       " ('half a million', 'CARDINAL'),\n",
       " ('29', 'CARDINAL'),\n",
       " ('the Mission Communication Center', 'ORG'),\n",
       " ('Lillian', 'GPE'),\n",
       " ('a month ago', 'DATE'),\n",
       " ('Harvard', 'ORG'),\n",
       " ('every two days', 'DATE'),\n",
       " ('a thousand', 'CARDINAL'),\n",
       " ('Tomorrow', 'DATE'),\n",
       " ('Jesus Christ Jack', 'PERSON'),\n",
       " (\"Herb Crane's\", 'ORG'),\n",
       " ('only two', 'CARDINAL'),\n",
       " ('Watermellon', 'ORG'),\n",
       " ('Bolshoi', 'ORG'),\n",
       " ('New York', 'GPE'),\n",
       " ('MTV', 'ORG'),\n",
       " ('747', 'CARDINAL'),\n",
       " ('Rick', 'PERSON'),\n",
       " ('puttin', 'PERSON'),\n",
       " ('Kmart', 'ORG'),\n",
       " ('Bullshit', 'PERSON'),\n",
       " ('Pat Verona', 'PERSON'),\n",
       " ('Jill', 'PERSON'),\n",
       " ('San Agamat', 'GPE'),\n",
       " ('Hoyt', 'PERSON'),\n",
       " ('Hearn', 'PERSON'),\n",
       " ('Washington', 'GPE'),\n",
       " ('About a year', 'DATE'),\n",
       " ('2', 'CARDINAL'),\n",
       " ('Lad', 'PERSON'),\n",
       " ('Korfin', 'PERSON'),\n",
       " ('startin', 'ORG'),\n",
       " ('Indian', 'NORP'),\n",
       " ('The Elite Special Forces Unit', 'ORG'),\n",
       " ('Zorg', 'PERSON'),\n",
       " ('a hundred-fifty thousand dollars', 'CARDINAL'),\n",
       " ('Rio de Janeiro', 'GPE'),\n",
       " ('five hundred', 'CARDINAL'),\n",
       " ('five', 'CARDINAL'),\n",
       " ('Bianca Stratford', 'PERSON'),\n",
       " ('Birthday Party', 'ORG'),\n",
       " ('land days ago', 'DATE'),\n",
       " ('A half mile', 'QUANTITY'),\n",
       " ('Thirty seven', 'CARDINAL'),\n",
       " ('George Michael', 'PERSON'),\n",
       " ('Frogmen', 'ORG'),\n",
       " ('between 5 and 7', 'CARDINAL'),\n",
       " ('a few miles', 'QUANTITY'),\n",
       " ('April 24 1976', 'DATE'),\n",
       " ('the last two days', 'DATE'),\n",
       " ('America', 'GPE'),\n",
       " ('Soun', 'PERSON'),\n",
       " ('Fred Krueger', 'PERSON'),\n",
       " ('Lee', 'PERSON'),\n",
       " ('Shep', 'ORG'),\n",
       " ('four', 'CARDINAL'),\n",
       " ('Harrisburg', 'GPE'),\n",
       " ('the Red Sox', 'ORG'),\n",
       " ('Pennsylvania', 'GPE'),\n",
       " ('Tomorrow morning', 'TIME'),\n",
       " ('Slovakia', 'GPE'),\n",
       " ('Three', 'CARDINAL'),\n",
       " ('Blaise', 'PERSON'),\n",
       " ('Jim Marshall', 'PERSON'),\n",
       " ('Krueger', 'PERSON'),\n",
       " ('White House', 'ORG'),\n",
       " (\"My head's\", 'PERSON'),\n",
       " ('Littleton', 'GPE'),\n",
       " ('Nine', 'CARDINAL'),\n",
       " ('Nimitz', 'FAC'),\n",
       " ('a day', 'DATE'),\n",
       " ('8 am', 'TIME'),\n",
       " ('ZFX200', 'NORP'),\n",
       " ('Tomorrow night', 'WORK_OF_ART'),\n",
       " ('Lawford', 'GPE'),\n",
       " ('Handcuff', 'PERSON'),\n",
       " ('the White House', 'ORG'),\n",
       " ('a thousand years', 'DATE'),\n",
       " ('a year', 'DATE'),\n",
       " ('Garcia', 'PERSON'),\n",
       " ('Slavs', 'ORG'),\n",
       " ('Tower Air Force One', 'FAC'),\n",
       " ('Grandpa', 'PERSON'),\n",
       " ('Apipoussan', 'WORK_OF_ART'),\n",
       " ('Elbourne', 'PRODUCT'),\n",
       " ('Ludwig', 'PERSON'),\n",
       " (\"ten o'clock\", 'TIME'),\n",
       " ('Turkienistan Muslims', 'NORP'),\n",
       " ('Press Relations for the Flight Office', 'ORG'),\n",
       " ('Patrick Pat', 'PERSON'),\n",
       " ('Hoppi-hoppa', 'PERSON'),\n",
       " ('Bastard', 'GPE'),\n",
       " (\"Hustler'll\", 'ORG'),\n",
       " ('Griff', 'PERSON'),\n",
       " ('Massachusetts', 'GPE'),\n",
       " ('Marchena', 'PERSON'),\n",
       " ('Bob', 'PERSON'),\n",
       " ('Arojaz', 'PERSON'),\n",
       " ('Six years ago', 'DATE'),\n",
       " ('Couple thousand', 'CARDINAL'),\n",
       " ('Payroll', 'WORK_OF_ART'),\n",
       " ('Petrov', 'PERSON'),\n",
       " ('I.A.C.', 'ORG'),\n",
       " ('six-thirty', 'TIME'),\n",
       " ('Mom', 'PERSON'),\n",
       " ('Bullshit', 'WORK_OF_ART'),\n",
       " ('keepin', 'PERSON'),\n",
       " ('Manhattan', 'GPE'),\n",
       " ('Romeo Tango Zulu', 'PERSON'),\n",
       " ('Lancaster', 'GPE'),\n",
       " ('Four hundred', 'CARDINAL'),\n",
       " ('Eighteen thousand feet', 'QUANTITY'),\n",
       " ('four hundred', 'CARDINAL'),\n",
       " ('Dan Excuse', 'PERSON'),\n",
       " ('Jesus Pop', 'PERSON'),\n",
       " ('Selectman', 'NORP'),\n",
       " ('about twenty-four hours', 'TIME'),\n",
       " ('Wade', 'PERSON'),\n",
       " ('Alice', 'PERSON'),\n",
       " ('Kissing', 'PERSON'),\n",
       " ('the Czech Republic', 'GPE'),\n",
       " ('Carney', 'PERSON'),\n",
       " ('Tom', 'PERSON'),\n",
       " ('Dallas', 'GPE'),\n",
       " ('the Kingdom of China', 'GPE'),\n",
       " ('Cindy', 'ORG'),\n",
       " ('Taylor', 'PERSON'),\n",
       " ('Concord', 'PERSON'),\n",
       " ('the Fire Marshall', 'FAC'),\n",
       " ('Eddie', 'PERSON'),\n",
       " ('Janie', 'ORG'),\n",
       " ('Margie', 'PERSON'),\n",
       " ('Pittsburgh', 'GPE'),\n",
       " ('Wade Whitehouse', 'PERSON'),\n",
       " ('Make Love', 'PERSON'),\n",
       " ('Lungfish', 'NORP'),\n",
       " ('Wheel of Fortune', 'WORK_OF_ART'),\n",
       " ('Dollar Night', 'PERSON'),\n",
       " ('Iraqi', 'NORP'),\n",
       " ('tonight', 'TIME'),\n",
       " ('just one night', 'TIME'),\n",
       " ('Goddamn', 'ORG'),\n",
       " ('Pina Coladas', 'PERSON'),\n",
       " ('as half', 'CARDINAL'),\n",
       " ('Leon', 'PERSON'),\n",
       " ('Mel Gordon', 'PERSON'),\n",
       " ('Ludwig', 'GPE'),\n",
       " ('A hundred bucks', 'MONEY'),\n",
       " ('Tamina', 'PERSON'),\n",
       " ('Iraq', 'GPE'),\n",
       " ('Shit', 'PERSON'),\n",
       " ('Four', 'CARDINAL'),\n",
       " ('Don Cristobal', 'PERSON'),\n",
       " ('Detective Jackson', 'PERSON'),\n",
       " ('Neuro', 'PERSON'),\n",
       " ('Hustler', 'ORG'),\n",
       " ('Valo massa', 'PERSON'),\n",
       " ('thirds and fourths', 'CARDINAL'),\n",
       " ('R.C.M.P.', 'GPE'),\n",
       " ('sixth', 'ORDINAL'),\n",
       " ('Congressional', 'ORG'),\n",
       " ('about four years ago', 'DATE'),\n",
       " ('Jordy', 'PERSON'),\n",
       " ('twenty bucks', 'MONEY'),\n",
       " ('Earth', 'PERSON'),\n",
       " ('Candy', 'PERSON'),\n",
       " ('Ten days', 'DATE'),\n",
       " ('four days', 'DATE'),\n",
       " ('Dakota', 'GPE'),\n",
       " ('the weekend', 'DATE'),\n",
       " ('Wickham', 'PERSON'),\n",
       " ('Hettie', 'GPE'),\n",
       " ('five thousand dollars', 'MONEY'),\n",
       " ('Wade', 'GPE'),\n",
       " ('Rosalie', 'PERSON'),\n",
       " ('Thirty-percent', 'PERCENT'),\n",
       " ('I. I', 'PERSON'),\n",
       " ('about four million years ago', 'DATE'),\n",
       " ('Crystal', 'PERSON'),\n",
       " ('Carl', 'PERSON'),\n",
       " ('Hershey', 'GPE'),\n",
       " ('6.03', 'CARDINAL'),\n",
       " (\"KH-ll's\", 'PERSON'),\n",
       " ('thirty', 'CARDINAL'),\n",
       " ('Fhloston', 'ORG'),\n",
       " ('N.C.I.C.', 'GPE'),\n",
       " ('the First Family against the Presidential Seal', 'ORG'),\n",
       " ('Another hundred', 'CARDINAL'),\n",
       " ('Sure Sparky', 'PERSON'),\n",
       " ('Saturday', 'DATE'),\n",
       " ('two', 'CARDINAL'),\n",
       " ('a few weeks ago', 'DATE'),\n",
       " ('BMW', 'ORG'),\n",
       " ('the Northcountry Development Association', 'ORG'),\n",
       " ('400', 'MONEY'),\n",
       " ('South', 'LOC'),\n",
       " ('Eber', 'PERSON'),\n",
       " ('Chub Meritt', 'PERSON'),\n",
       " ('Bartolome', 'PERSON'),\n",
       " ('9', 'CARDINAL'),\n",
       " ('American Express', 'ORG'),\n",
       " ('Nicolette', 'PERSON'),\n",
       " ('Thomas Welles', 'PERSON'),\n",
       " ('Germans', 'NORP'),\n",
       " ('Brown', 'PERSON'),\n",
       " ('Dave Kent', 'PERSON'),\n",
       " ('Don', 'PERSON'),\n",
       " ('50 billion', 'CARDINAL'),\n",
       " ('81', 'CARDINAL'),\n",
       " ('Night', 'TIME'),\n",
       " ('Three four years', 'DATE'),\n",
       " ('Nomine Patris', 'PERSON'),\n",
       " ('D.A.', 'PERSON'),\n",
       " ('fifty bucks', 'MONEY'),\n",
       " ('Burnside', 'ORG'),\n",
       " ('One', 'CARDINAL'),\n",
       " ('the past two days', 'DATE'),\n",
       " ('CB', 'ORG'),\n",
       " ('PA', 'ORG'),\n",
       " ('Serge', 'PERSON'),\n",
       " ('Alonso', 'PERSON'),\n",
       " ('Skipper', 'PRODUCT'),\n",
       " ('Tower', 'PERSON'),\n",
       " ('Bianca', 'PERSON'),\n",
       " ('Five hundred', 'CARDINAL'),\n",
       " ('Jackson', 'PERSON'),\n",
       " ('Greta', 'PERSON'),\n",
       " (\"Ludwig's\", 'ORG'),\n",
       " ('Approximately five years', 'DATE'),\n",
       " ('Special Agent Gibbs', 'ORG'),\n",
       " ('Stravanavitch', 'PERSON'),\n",
       " ('Universe', 'ORG'),\n",
       " ('Americans', 'NORP'),\n",
       " ('90210', 'DATE'),\n",
       " ('five-hundred dollars', 'MONEY'),\n",
       " ('MiGs', 'LANGUAGE'),\n",
       " ('the Air Force', 'ORG'),\n",
       " ('another five thousand', 'CARDINAL'),\n",
       " ('a minute wait a minute', 'TIME'),\n",
       " ('Romeo Tango', 'PERSON'),\n",
       " ('Please Sister', 'PERSON'),\n",
       " ('Veronica', 'WORK_OF_ART'),\n",
       " ('Shakespeare', 'PERSON'),\n",
       " ('Mars', 'LOC'),\n",
       " ('9th', 'ORDINAL'),\n",
       " ('Three days', 'DATE'),\n",
       " ('a damn half hour', 'TIME'),\n",
       " ('Mary Anne Mathews', 'PERSON'),\n",
       " ('Whaddya', 'PERSON'),\n",
       " ('Cole', 'PRODUCT'),\n",
       " ('Kincaid', 'PERSON'),\n",
       " ('Jack', 'PERSON'),\n",
       " ('the Auditing Department of the Territorial Administrator', 'ORG'),\n",
       " (\"5'7\", 'WORK_OF_ART'),\n",
       " ('Savior', 'PERSON'),\n",
       " ('Appipulai Leeloo Minai', 'PERSON'),\n",
       " ('Thomas Jones', 'PERSON'),\n",
       " ('bell', 'ORG'),\n",
       " ('Pay', 'PERSON'),\n",
       " ('next month', 'DATE'),\n",
       " ('Gordon LaRiviere', 'PERSON'),\n",
       " ('Martell', 'PERSON'),\n",
       " ('P.I.', 'ORG'),\n",
       " ('Capra', 'PERSON'),\n",
       " ('Brucie', 'PRODUCT'),\n",
       " ('over - a thousand', 'CARDINAL'),\n",
       " ('a Spice Girl', 'WORK_OF_ART'),\n",
       " ('Milos die', 'GPE'),\n",
       " (\"Bogey Lowenbrau's\", 'PERSON'),\n",
       " ('17-year', 'DATE'),\n",
       " ('twenty-two', 'QUANTITY'),\n",
       " ('Jacob', 'PERSON'),\n",
       " ('only one', 'CARDINAL'),\n",
       " ('Patrick Verona Random', 'PERSON'),\n",
       " ('22000', 'CARDINAL'),\n",
       " ('first', 'ORDINAL'),\n",
       " ('Bonchowski', 'PERSON'),\n",
       " ('Mommy', 'PERSON'),\n",
       " ('a Francis Capra', 'PERSON'),\n",
       " ('the Federal Army', 'ORG'),\n",
       " ('the Justice Department', 'ORG'),\n",
       " ('Musta', 'NORP'),\n",
       " ('\"It\\'s a Wonderful Life\"', 'WORK_OF_ART'),\n",
       " ('Ga', 'PERSON'),\n",
       " ('some night', 'TIME'),\n",
       " ('Utapan', 'PERSON'),\n",
       " ('Cameron', 'PERSON'),\n",
       " ('Gregor', 'PERSON'),\n",
       " ('the U.S. Resource Center for Missing Persons', 'ORG'),\n",
       " ('3', 'MONEY'),\n",
       " ('Antigua', 'PERSON'),\n",
       " ('six days', 'DATE'),\n",
       " ('night', 'TIME'),\n",
       " ('Senor Colon', 'PERSON'),\n",
       " (\"Ganz'll\", 'PERSON'),\n",
       " ('all night', 'TIME'),\n",
       " ...}"
      ]
     },
     "execution_count": 44,
     "metadata": {},
     "output_type": "execute_result"
    }
   ],
   "source": [
    "ent_list_res"
   ]
  },
  {
   "cell_type": "code",
   "execution_count": null,
   "metadata": {},
   "outputs": [],
   "source": [
    "outF = open(\"./chatdata/entityFile.txt\", \"w\")\n",
    "for line in ent_list_res:\n",
    "  print >>outF, line\n",
    "outF.close()"
   ]
  },
  {
   "cell_type": "markdown",
   "metadata": {},
   "source": [
    "There are some personal names, real locals, name of organizations and work of art that can be removed or replaced for generic terms. "
   ]
  },
  {
   "cell_type": "code",
   "execution_count": 60,
   "metadata": {},
   "outputs": [],
   "source": [
    "ent_df = pd.DataFrame(list(ent_list))"
   ]
  },
  {
   "cell_type": "code",
   "execution_count": 61,
   "metadata": {},
   "outputs": [
    {
     "data": {
      "text/html": [
       "<div>\n",
       "<style scoped>\n",
       "    .dataframe tbody tr th:only-of-type {\n",
       "        vertical-align: middle;\n",
       "    }\n",
       "\n",
       "    .dataframe tbody tr th {\n",
       "        vertical-align: top;\n",
       "    }\n",
       "\n",
       "    .dataframe thead th {\n",
       "        text-align: right;\n",
       "    }\n",
       "</style>\n",
       "<table border=\"1\" class=\"dataframe\">\n",
       "  <thead>\n",
       "    <tr style=\"text-align: right;\">\n",
       "      <th></th>\n",
       "      <th>0</th>\n",
       "      <th>1</th>\n",
       "    </tr>\n",
       "  </thead>\n",
       "  <tbody>\n",
       "    <tr>\n",
       "      <th>0</th>\n",
       "      <td>Delbruck</td>\n",
       "      <td>PERSON</td>\n",
       "    </tr>\n",
       "    <tr>\n",
       "      <th>1</th>\n",
       "      <td>Trying</td>\n",
       "      <td>NORP</td>\n",
       "    </tr>\n",
       "    <tr>\n",
       "      <th>2</th>\n",
       "      <td>ten-thirty</td>\n",
       "      <td>CARDINAL</td>\n",
       "    </tr>\n",
       "    <tr>\n",
       "      <th>3</th>\n",
       "      <td>ten</td>\n",
       "      <td>CARDINAL</td>\n",
       "    </tr>\n",
       "    <tr>\n",
       "      <th>4</th>\n",
       "      <td>The Con-ti-nen-tal</td>\n",
       "      <td>WORK_OF_ART</td>\n",
       "    </tr>\n",
       "    <tr>\n",
       "      <th>...</th>\n",
       "      <td>...</td>\n",
       "      <td>...</td>\n",
       "    </tr>\n",
       "    <tr>\n",
       "      <th>185</th>\n",
       "      <td>Zululand</td>\n",
       "      <td>PERSON</td>\n",
       "    </tr>\n",
       "    <tr>\n",
       "      <th>186</th>\n",
       "      <td>Zululand</td>\n",
       "      <td>GPE</td>\n",
       "    </tr>\n",
       "    <tr>\n",
       "      <th>187</th>\n",
       "      <td>MMMmmmm</td>\n",
       "      <td>ORG</td>\n",
       "    </tr>\n",
       "    <tr>\n",
       "      <th>188</th>\n",
       "      <td>Goodbye</td>\n",
       "      <td>PERSON</td>\n",
       "    </tr>\n",
       "    <tr>\n",
       "      <th>189</th>\n",
       "      <td>Darwin</td>\n",
       "      <td>PERSON</td>\n",
       "    </tr>\n",
       "  </tbody>\n",
       "</table>\n",
       "<p>190 rows × 2 columns</p>\n",
       "</div>"
      ],
      "text/plain": [
       "                      0            1\n",
       "0              Delbruck       PERSON\n",
       "1                Trying         NORP\n",
       "2            ten-thirty     CARDINAL\n",
       "3                   ten     CARDINAL\n",
       "4    The Con-ti-nen-tal  WORK_OF_ART\n",
       "..                  ...          ...\n",
       "185            Zululand       PERSON\n",
       "186            Zululand          GPE\n",
       "187             MMMmmmm          ORG\n",
       "188             Goodbye       PERSON\n",
       "189              Darwin       PERSON\n",
       "\n",
       "[190 rows x 2 columns]"
      ]
     },
     "execution_count": 61,
     "metadata": {},
     "output_type": "execute_result"
    }
   ],
   "source": [
    "ent_df"
   ]
  },
  {
   "cell_type": "code",
   "execution_count": 62,
   "metadata": {},
   "outputs": [],
   "source": [
    "ent_df.to_csv('./chatdata/entity_list.tsv', index=False, sep='\\t', header=False)"
   ]
  },
  {
   "cell_type": "markdown",
   "metadata": {},
   "source": [
    "### Entity frequency"
   ]
  },
  {
   "cell_type": "code",
   "execution_count": 63,
   "metadata": {},
   "outputs": [],
   "source": [
    "def ner(text):\n",
    "    doc=nlp(text)\n",
    "    return [X.label_ for X in doc.ents]"
   ]
  },
  {
   "cell_type": "code",
   "execution_count": 64,
   "metadata": {},
   "outputs": [
    {
     "name": "stdout",
     "output_type": "stream",
     "text": [
      "CPU times: user 58min 9s, sys: 4.12 s, total: 58min 13s\n",
      "Wall time: 58min 44s\n"
     ]
    }
   ],
   "source": [
    "%%time\n",
    "#count the number of each entity\n",
    "ent=data.\\\n",
    "    apply(lambda x : ner(x))\n",
    "ent=[x for sub in ent for x in sub]\n",
    "\n",
    "counter=Counter(ent)\n",
    "count=counter.most_common()"
   ]
  },
  {
   "cell_type": "code",
   "execution_count": 65,
   "metadata": {},
   "outputs": [
    {
     "data": {
      "text/plain": [
       "<AxesSubplot:>"
      ]
     },
     "execution_count": 65,
     "metadata": {},
     "output_type": "execute_result"
    },
    {
     "data": {
      "image/png": "[encoded data removed]",
      "text/plain": [
       "<Figure size 432x288 with 1 Axes>"
      ]
     },
     "metadata": {
      "needs_background": "light"
     },
     "output_type": "display_data"
    }
   ],
   "source": [
    "x,y=map(list,zip(*count))\n",
    "sns.barplot(x=y,y=x)"
   ]
  },
  {
   "cell_type": "markdown",
   "metadata": {},
   "source": [
    "### Most comon tokens per entity"
   ]
  },
  {
   "cell_type": "code",
   "execution_count": 66,
   "metadata": {},
   "outputs": [],
   "source": [
    "def ner(text,ent=\"PERSON\"):\n",
    "    doc=nlp(text)\n",
    "    return [X.text for X in doc.ents if X.label_ == ent]"
   ]
  },
  {
   "cell_type": "code",
   "execution_count": 67,
   "metadata": {},
   "outputs": [
    {
     "ename": "KeyboardInterrupt",
     "evalue": "",
     "output_type": "error",
     "traceback": [
      "\u001b[0;31m---------------------------------------------------------------------------\u001b[0m",
      "\u001b[0;31mKeyboardInterrupt\u001b[0m                         Traceback (most recent call last)",
      "\u001b[0;32m<timed exec>\u001b[0m in \u001b[0;36m<module>\u001b[0;34m\u001b[0m\n",
      "\u001b[0;32m~/.local/lib/python3.8/site-packages/pandas/core/series.py\u001b[0m in \u001b[0;36mapply\u001b[0;34m(self, func, convert_dtype, args, **kwds)\u001b[0m\n\u001b[1;32m   4198\u001b[0m             \u001b[0;32melse\u001b[0m\u001b[0;34m:\u001b[0m\u001b[0;34m\u001b[0m\u001b[0;34m\u001b[0m\u001b[0m\n\u001b[1;32m   4199\u001b[0m                 \u001b[0mvalues\u001b[0m \u001b[0;34m=\u001b[0m \u001b[0mself\u001b[0m\u001b[0;34m.\u001b[0m\u001b[0mastype\u001b[0m\u001b[0;34m(\u001b[0m\u001b[0mobject\u001b[0m\u001b[0;34m)\u001b[0m\u001b[0;34m.\u001b[0m\u001b[0m_values\u001b[0m\u001b[0;34m\u001b[0m\u001b[0;34m\u001b[0m\u001b[0m\n\u001b[0;32m-> 4200\u001b[0;31m                 \u001b[0mmapped\u001b[0m \u001b[0;34m=\u001b[0m \u001b[0mlib\u001b[0m\u001b[0;34m.\u001b[0m\u001b[0mmap_infer\u001b[0m\u001b[0;34m(\u001b[0m\u001b[0mvalues\u001b[0m\u001b[0;34m,\u001b[0m \u001b[0mf\u001b[0m\u001b[0;34m,\u001b[0m \u001b[0mconvert\u001b[0m\u001b[0;34m=\u001b[0m\u001b[0mconvert_dtype\u001b[0m\u001b[0;34m)\u001b[0m\u001b[0;34m\u001b[0m\u001b[0;34m\u001b[0m\u001b[0m\n\u001b[0m\u001b[1;32m   4201\u001b[0m \u001b[0;34m\u001b[0m\u001b[0m\n\u001b[1;32m   4202\u001b[0m         \u001b[0;32mif\u001b[0m \u001b[0mlen\u001b[0m\u001b[0;34m(\u001b[0m\u001b[0mmapped\u001b[0m\u001b[0;34m)\u001b[0m \u001b[0;32mand\u001b[0m \u001b[0misinstance\u001b[0m\u001b[0;34m(\u001b[0m\u001b[0mmapped\u001b[0m\u001b[0;34m[\u001b[0m\u001b[0;36m0\u001b[0m\u001b[0;34m]\u001b[0m\u001b[0;34m,\u001b[0m \u001b[0mSeries\u001b[0m\u001b[0;34m)\u001b[0m\u001b[0;34m:\u001b[0m\u001b[0;34m\u001b[0m\u001b[0;34m\u001b[0m\u001b[0m\n",
      "\u001b[0;32mpandas/_libs/lib.pyx\u001b[0m in \u001b[0;36mpandas._libs.lib.map_infer\u001b[0;34m()\u001b[0m\n",
      "\u001b[0;32m<timed exec>\u001b[0m in \u001b[0;36m<lambda>\u001b[0;34m(x)\u001b[0m\n",
      "\u001b[0;32m<ipython-input-66-475c65757930>\u001b[0m in \u001b[0;36mner\u001b[0;34m(text, ent)\u001b[0m\n\u001b[1;32m      1\u001b[0m \u001b[0;32mdef\u001b[0m \u001b[0mner\u001b[0m\u001b[0;34m(\u001b[0m\u001b[0mtext\u001b[0m\u001b[0;34m,\u001b[0m\u001b[0ment\u001b[0m\u001b[0;34m=\u001b[0m\u001b[0;34m\"PERSON\"\u001b[0m\u001b[0;34m)\u001b[0m\u001b[0;34m:\u001b[0m\u001b[0;34m\u001b[0m\u001b[0;34m\u001b[0m\u001b[0m\n\u001b[0;32m----> 2\u001b[0;31m     \u001b[0mdoc\u001b[0m\u001b[0;34m=\u001b[0m\u001b[0mnlp\u001b[0m\u001b[0;34m(\u001b[0m\u001b[0mtext\u001b[0m\u001b[0;34m)\u001b[0m\u001b[0;34m\u001b[0m\u001b[0;34m\u001b[0m\u001b[0m\n\u001b[0m\u001b[1;32m      3\u001b[0m     \u001b[0;32mreturn\u001b[0m \u001b[0;34m[\u001b[0m\u001b[0mX\u001b[0m\u001b[0;34m.\u001b[0m\u001b[0mtext\u001b[0m \u001b[0;32mfor\u001b[0m \u001b[0mX\u001b[0m \u001b[0;32min\u001b[0m \u001b[0mdoc\u001b[0m\u001b[0;34m.\u001b[0m\u001b[0ments\u001b[0m \u001b[0;32mif\u001b[0m \u001b[0mX\u001b[0m\u001b[0;34m.\u001b[0m\u001b[0mlabel_\u001b[0m \u001b[0;34m==\u001b[0m \u001b[0ment\u001b[0m\u001b[0;34m]\u001b[0m\u001b[0;34m\u001b[0m\u001b[0;34m\u001b[0m\u001b[0m\n",
      "\u001b[0;32m~/.local/lib/python3.8/site-packages/spacy/language.py\u001b[0m in \u001b[0;36m__call__\u001b[0;34m(self, text, disable, component_cfg)\u001b[0m\n\u001b[1;32m    447\u001b[0m             \u001b[0;32mif\u001b[0m \u001b[0;32mnot\u001b[0m \u001b[0mhasattr\u001b[0m\u001b[0;34m(\u001b[0m\u001b[0mproc\u001b[0m\u001b[0;34m,\u001b[0m \u001b[0;34m\"__call__\"\u001b[0m\u001b[0;34m)\u001b[0m\u001b[0;34m:\u001b[0m\u001b[0;34m\u001b[0m\u001b[0;34m\u001b[0m\u001b[0m\n\u001b[1;32m    448\u001b[0m                 \u001b[0;32mraise\u001b[0m \u001b[0mValueError\u001b[0m\u001b[0;34m(\u001b[0m\u001b[0mErrors\u001b[0m\u001b[0;34m.\u001b[0m\u001b[0mE003\u001b[0m\u001b[0;34m.\u001b[0m\u001b[0mformat\u001b[0m\u001b[0;34m(\u001b[0m\u001b[0mcomponent\u001b[0m\u001b[0;34m=\u001b[0m\u001b[0mtype\u001b[0m\u001b[0;34m(\u001b[0m\u001b[0mproc\u001b[0m\u001b[0;34m)\u001b[0m\u001b[0;34m,\u001b[0m \u001b[0mname\u001b[0m\u001b[0;34m=\u001b[0m\u001b[0mname\u001b[0m\u001b[0;34m)\u001b[0m\u001b[0;34m)\u001b[0m\u001b[0;34m\u001b[0m\u001b[0;34m\u001b[0m\u001b[0m\n\u001b[0;32m--> 449\u001b[0;31m             \u001b[0mdoc\u001b[0m \u001b[0;34m=\u001b[0m \u001b[0mproc\u001b[0m\u001b[0;34m(\u001b[0m\u001b[0mdoc\u001b[0m\u001b[0;34m,\u001b[0m \u001b[0;34m**\u001b[0m\u001b[0mcomponent_cfg\u001b[0m\u001b[0;34m.\u001b[0m\u001b[0mget\u001b[0m\u001b[0;34m(\u001b[0m\u001b[0mname\u001b[0m\u001b[0;34m,\u001b[0m \u001b[0;34m{\u001b[0m\u001b[0;34m}\u001b[0m\u001b[0;34m)\u001b[0m\u001b[0;34m)\u001b[0m\u001b[0;34m\u001b[0m\u001b[0;34m\u001b[0m\u001b[0m\n\u001b[0m\u001b[1;32m    450\u001b[0m             \u001b[0;32mif\u001b[0m \u001b[0mdoc\u001b[0m \u001b[0;32mis\u001b[0m \u001b[0;32mNone\u001b[0m\u001b[0;34m:\u001b[0m\u001b[0;34m\u001b[0m\u001b[0;34m\u001b[0m\u001b[0m\n\u001b[1;32m    451\u001b[0m                 \u001b[0;32mraise\u001b[0m \u001b[0mValueError\u001b[0m\u001b[0;34m(\u001b[0m\u001b[0mErrors\u001b[0m\u001b[0;34m.\u001b[0m\u001b[0mE005\u001b[0m\u001b[0;34m.\u001b[0m\u001b[0mformat\u001b[0m\u001b[0;34m(\u001b[0m\u001b[0mname\u001b[0m\u001b[0;34m=\u001b[0m\u001b[0mname\u001b[0m\u001b[0;34m)\u001b[0m\u001b[0;34m)\u001b[0m\u001b[0;34m\u001b[0m\u001b[0;34m\u001b[0m\u001b[0m\n",
      "\u001b[0;32mpipes.pyx\u001b[0m in \u001b[0;36mspacy.pipeline.pipes.Tagger.__call__\u001b[0;34m()\u001b[0m\n",
      "\u001b[0;32mpipes.pyx\u001b[0m in \u001b[0;36mspacy.pipeline.pipes.Tagger.predict\u001b[0;34m()\u001b[0m\n",
      "\u001b[0;32m~/.local/lib/python3.8/site-packages/thinc/neural/_classes/model.py\u001b[0m in \u001b[0;36m__call__\u001b[0;34m(self, x)\u001b[0m\n\u001b[1;32m    165\u001b[0m             \u001b[0mMust\u001b[0m \u001b[0mmatch\u001b[0m \u001b[0mexpected\u001b[0m \u001b[0mshape\u001b[0m\u001b[0;34m\u001b[0m\u001b[0;34m\u001b[0m\u001b[0m\n\u001b[1;32m    166\u001b[0m         \"\"\"\n\u001b[0;32m--> 167\u001b[0;31m         \u001b[0;32mreturn\u001b[0m \u001b[0mself\u001b[0m\u001b[0;34m.\u001b[0m\u001b[0mpredict\u001b[0m\u001b[0;34m(\u001b[0m\u001b[0mx\u001b[0m\u001b[0;34m)\u001b[0m\u001b[0;34m\u001b[0m\u001b[0;34m\u001b[0m\u001b[0m\n\u001b[0m\u001b[1;32m    168\u001b[0m \u001b[0;34m\u001b[0m\u001b[0m\n\u001b[1;32m    169\u001b[0m     \u001b[0;32mdef\u001b[0m \u001b[0mpipe\u001b[0m\u001b[0;34m(\u001b[0m\u001b[0mself\u001b[0m\u001b[0;34m,\u001b[0m \u001b[0mstream\u001b[0m\u001b[0;34m,\u001b[0m \u001b[0mbatch_size\u001b[0m\u001b[0;34m=\u001b[0m\u001b[0;36m128\u001b[0m\u001b[0;34m)\u001b[0m\u001b[0;34m:\u001b[0m\u001b[0;34m\u001b[0m\u001b[0;34m\u001b[0m\u001b[0m\n",
      "\u001b[0;32m~/.local/lib/python3.8/site-packages/thinc/neural/_classes/feed_forward.py\u001b[0m in \u001b[0;36mpredict\u001b[0;34m(self, X)\u001b[0m\n\u001b[1;32m     38\u001b[0m     \u001b[0;32mdef\u001b[0m \u001b[0mpredict\u001b[0m\u001b[0;34m(\u001b[0m\u001b[0mself\u001b[0m\u001b[0;34m,\u001b[0m \u001b[0mX\u001b[0m\u001b[0;34m)\u001b[0m\u001b[0;34m:\u001b[0m\u001b[0;34m\u001b[0m\u001b[0;34m\u001b[0m\u001b[0m\n\u001b[1;32m     39\u001b[0m         \u001b[0;32mfor\u001b[0m \u001b[0mlayer\u001b[0m \u001b[0;32min\u001b[0m \u001b[0mself\u001b[0m\u001b[0;34m.\u001b[0m\u001b[0m_layers\u001b[0m\u001b[0;34m:\u001b[0m\u001b[0;34m\u001b[0m\u001b[0;34m\u001b[0m\u001b[0m\n\u001b[0;32m---> 40\u001b[0;31m             \u001b[0mX\u001b[0m \u001b[0;34m=\u001b[0m \u001b[0mlayer\u001b[0m\u001b[0;34m(\u001b[0m\u001b[0mX\u001b[0m\u001b[0;34m)\u001b[0m\u001b[0;34m\u001b[0m\u001b[0;34m\u001b[0m\u001b[0m\n\u001b[0m\u001b[1;32m     41\u001b[0m         \u001b[0;32mreturn\u001b[0m \u001b[0mX\u001b[0m\u001b[0;34m\u001b[0m\u001b[0;34m\u001b[0m\u001b[0m\n\u001b[1;32m     42\u001b[0m \u001b[0;34m\u001b[0m\u001b[0m\n",
      "\u001b[0;32m~/.local/lib/python3.8/site-packages/thinc/neural/_classes/model.py\u001b[0m in \u001b[0;36m__call__\u001b[0;34m(self, x)\u001b[0m\n\u001b[1;32m    165\u001b[0m             \u001b[0mMust\u001b[0m \u001b[0mmatch\u001b[0m \u001b[0mexpected\u001b[0m \u001b[0mshape\u001b[0m\u001b[0;34m\u001b[0m\u001b[0;34m\u001b[0m\u001b[0m\n\u001b[1;32m    166\u001b[0m         \"\"\"\n\u001b[0;32m--> 167\u001b[0;31m         \u001b[0;32mreturn\u001b[0m \u001b[0mself\u001b[0m\u001b[0;34m.\u001b[0m\u001b[0mpredict\u001b[0m\u001b[0;34m(\u001b[0m\u001b[0mx\u001b[0m\u001b[0;34m)\u001b[0m\u001b[0;34m\u001b[0m\u001b[0;34m\u001b[0m\u001b[0m\n\u001b[0m\u001b[1;32m    168\u001b[0m \u001b[0;34m\u001b[0m\u001b[0m\n\u001b[1;32m    169\u001b[0m     \u001b[0;32mdef\u001b[0m \u001b[0mpipe\u001b[0m\u001b[0;34m(\u001b[0m\u001b[0mself\u001b[0m\u001b[0;34m,\u001b[0m \u001b[0mstream\u001b[0m\u001b[0;34m,\u001b[0m \u001b[0mbatch_size\u001b[0m\u001b[0;34m=\u001b[0m\u001b[0;36m128\u001b[0m\u001b[0;34m)\u001b[0m\u001b[0;34m:\u001b[0m\u001b[0;34m\u001b[0m\u001b[0;34m\u001b[0m\u001b[0m\n",
      "\u001b[0;32m~/.local/lib/python3.8/site-packages/thinc/api.py\u001b[0m in \u001b[0;36mpredict\u001b[0;34m(seqs_in)\u001b[0m\n\u001b[1;32m    308\u001b[0m     \u001b[0;32mdef\u001b[0m \u001b[0mpredict\u001b[0m\u001b[0;34m(\u001b[0m\u001b[0mseqs_in\u001b[0m\u001b[0;34m)\u001b[0m\u001b[0;34m:\u001b[0m\u001b[0;34m\u001b[0m\u001b[0;34m\u001b[0m\u001b[0m\n\u001b[1;32m    309\u001b[0m         \u001b[0mlengths\u001b[0m \u001b[0;34m=\u001b[0m \u001b[0mlayer\u001b[0m\u001b[0;34m.\u001b[0m\u001b[0mops\u001b[0m\u001b[0;34m.\u001b[0m\u001b[0masarray\u001b[0m\u001b[0;34m(\u001b[0m\u001b[0;34m[\u001b[0m\u001b[0mlen\u001b[0m\u001b[0;34m(\u001b[0m\u001b[0mseq\u001b[0m\u001b[0;34m)\u001b[0m \u001b[0;32mfor\u001b[0m \u001b[0mseq\u001b[0m \u001b[0;32min\u001b[0m \u001b[0mseqs_in\u001b[0m\u001b[0;34m]\u001b[0m\u001b[0;34m)\u001b[0m\u001b[0;34m\u001b[0m\u001b[0;34m\u001b[0m\u001b[0m\n\u001b[0;32m--> 310\u001b[0;31m         \u001b[0mX\u001b[0m \u001b[0;34m=\u001b[0m \u001b[0mlayer\u001b[0m\u001b[0;34m(\u001b[0m\u001b[0mlayer\u001b[0m\u001b[0;34m.\u001b[0m\u001b[0mops\u001b[0m\u001b[0;34m.\u001b[0m\u001b[0mflatten\u001b[0m\u001b[0;34m(\u001b[0m\u001b[0mseqs_in\u001b[0m\u001b[0;34m,\u001b[0m \u001b[0mpad\u001b[0m\u001b[0;34m=\u001b[0m\u001b[0mpad\u001b[0m\u001b[0;34m)\u001b[0m\u001b[0;34m)\u001b[0m\u001b[0;34m\u001b[0m\u001b[0;34m\u001b[0m\u001b[0m\n\u001b[0m\u001b[1;32m    311\u001b[0m         \u001b[0;32mreturn\u001b[0m \u001b[0mlayer\u001b[0m\u001b[0;34m.\u001b[0m\u001b[0mops\u001b[0m\u001b[0;34m.\u001b[0m\u001b[0munflatten\u001b[0m\u001b[0;34m(\u001b[0m\u001b[0mX\u001b[0m\u001b[0;34m,\u001b[0m \u001b[0mlengths\u001b[0m\u001b[0;34m,\u001b[0m \u001b[0mpad\u001b[0m\u001b[0;34m=\u001b[0m\u001b[0mpad\u001b[0m\u001b[0;34m)\u001b[0m\u001b[0;34m\u001b[0m\u001b[0;34m\u001b[0m\u001b[0m\n\u001b[1;32m    312\u001b[0m \u001b[0;34m\u001b[0m\u001b[0m\n",
      "\u001b[0;32m~/.local/lib/python3.8/site-packages/thinc/neural/_classes/model.py\u001b[0m in \u001b[0;36m__call__\u001b[0;34m(self, x)\u001b[0m\n\u001b[1;32m    165\u001b[0m             \u001b[0mMust\u001b[0m \u001b[0mmatch\u001b[0m \u001b[0mexpected\u001b[0m \u001b[0mshape\u001b[0m\u001b[0;34m\u001b[0m\u001b[0;34m\u001b[0m\u001b[0m\n\u001b[1;32m    166\u001b[0m         \"\"\"\n\u001b[0;32m--> 167\u001b[0;31m         \u001b[0;32mreturn\u001b[0m \u001b[0mself\u001b[0m\u001b[0;34m.\u001b[0m\u001b[0mpredict\u001b[0m\u001b[0;34m(\u001b[0m\u001b[0mx\u001b[0m\u001b[0;34m)\u001b[0m\u001b[0;34m\u001b[0m\u001b[0;34m\u001b[0m\u001b[0m\n\u001b[0m\u001b[1;32m    168\u001b[0m \u001b[0;34m\u001b[0m\u001b[0m\n\u001b[1;32m    169\u001b[0m     \u001b[0;32mdef\u001b[0m \u001b[0mpipe\u001b[0m\u001b[0;34m(\u001b[0m\u001b[0mself\u001b[0m\u001b[0;34m,\u001b[0m \u001b[0mstream\u001b[0m\u001b[0;34m,\u001b[0m \u001b[0mbatch_size\u001b[0m\u001b[0;34m=\u001b[0m\u001b[0;36m128\u001b[0m\u001b[0;34m)\u001b[0m\u001b[0;34m:\u001b[0m\u001b[0;34m\u001b[0m\u001b[0;34m\u001b[0m\u001b[0m\n",
      "\u001b[0;32m~/.local/lib/python3.8/site-packages/thinc/neural/_classes/feed_forward.py\u001b[0m in \u001b[0;36mpredict\u001b[0;34m(self, X)\u001b[0m\n\u001b[1;32m     38\u001b[0m     \u001b[0;32mdef\u001b[0m \u001b[0mpredict\u001b[0m\u001b[0;34m(\u001b[0m\u001b[0mself\u001b[0m\u001b[0;34m,\u001b[0m \u001b[0mX\u001b[0m\u001b[0;34m)\u001b[0m\u001b[0;34m:\u001b[0m\u001b[0;34m\u001b[0m\u001b[0;34m\u001b[0m\u001b[0m\n\u001b[1;32m     39\u001b[0m         \u001b[0;32mfor\u001b[0m \u001b[0mlayer\u001b[0m \u001b[0;32min\u001b[0m \u001b[0mself\u001b[0m\u001b[0;34m.\u001b[0m\u001b[0m_layers\u001b[0m\u001b[0;34m:\u001b[0m\u001b[0;34m\u001b[0m\u001b[0;34m\u001b[0m\u001b[0m\n\u001b[0;32m---> 40\u001b[0;31m             \u001b[0mX\u001b[0m \u001b[0;34m=\u001b[0m \u001b[0mlayer\u001b[0m\u001b[0;34m(\u001b[0m\u001b[0mX\u001b[0m\u001b[0;34m)\u001b[0m\u001b[0;34m\u001b[0m\u001b[0;34m\u001b[0m\u001b[0m\n\u001b[0m\u001b[1;32m     41\u001b[0m         \u001b[0;32mreturn\u001b[0m \u001b[0mX\u001b[0m\u001b[0;34m\u001b[0m\u001b[0;34m\u001b[0m\u001b[0m\n\u001b[1;32m     42\u001b[0m \u001b[0;34m\u001b[0m\u001b[0m\n",
      "\u001b[0;32m~/.local/lib/python3.8/site-packages/thinc/neural/_classes/model.py\u001b[0m in \u001b[0;36m__call__\u001b[0;34m(self, x)\u001b[0m\n\u001b[1;32m    165\u001b[0m             \u001b[0mMust\u001b[0m \u001b[0mmatch\u001b[0m \u001b[0mexpected\u001b[0m \u001b[0mshape\u001b[0m\u001b[0;34m\u001b[0m\u001b[0;34m\u001b[0m\u001b[0m\n\u001b[1;32m    166\u001b[0m         \"\"\"\n\u001b[0;32m--> 167\u001b[0;31m         \u001b[0;32mreturn\u001b[0m \u001b[0mself\u001b[0m\u001b[0;34m.\u001b[0m\u001b[0mpredict\u001b[0m\u001b[0;34m(\u001b[0m\u001b[0mx\u001b[0m\u001b[0;34m)\u001b[0m\u001b[0;34m\u001b[0m\u001b[0;34m\u001b[0m\u001b[0m\n\u001b[0m\u001b[1;32m    168\u001b[0m \u001b[0;34m\u001b[0m\u001b[0m\n\u001b[1;32m    169\u001b[0m     \u001b[0;32mdef\u001b[0m \u001b[0mpipe\u001b[0m\u001b[0;34m(\u001b[0m\u001b[0mself\u001b[0m\u001b[0;34m,\u001b[0m \u001b[0mstream\u001b[0m\u001b[0;34m,\u001b[0m \u001b[0mbatch_size\u001b[0m\u001b[0;34m=\u001b[0m\u001b[0;36m128\u001b[0m\u001b[0;34m)\u001b[0m\u001b[0;34m:\u001b[0m\u001b[0;34m\u001b[0m\u001b[0;34m\u001b[0m\u001b[0m\n",
      "\u001b[0;32m~/.local/lib/python3.8/site-packages/thinc/neural/_classes/model.py\u001b[0m in \u001b[0;36mpredict\u001b[0;34m(self, X)\u001b[0m\n\u001b[1;32m    129\u001b[0m \u001b[0;34m\u001b[0m\u001b[0m\n\u001b[1;32m    130\u001b[0m     \u001b[0;32mdef\u001b[0m \u001b[0mpredict\u001b[0m\u001b[0;34m(\u001b[0m\u001b[0mself\u001b[0m\u001b[0;34m,\u001b[0m \u001b[0mX\u001b[0m\u001b[0;34m)\u001b[0m\u001b[0;34m:\u001b[0m\u001b[0;34m\u001b[0m\u001b[0;34m\u001b[0m\u001b[0m\n\u001b[0;32m--> 131\u001b[0;31m         \u001b[0my\u001b[0m\u001b[0;34m,\u001b[0m \u001b[0m_\u001b[0m \u001b[0;34m=\u001b[0m \u001b[0mself\u001b[0m\u001b[0;34m.\u001b[0m\u001b[0mbegin_update\u001b[0m\u001b[0;34m(\u001b[0m\u001b[0mX\u001b[0m\u001b[0;34m,\u001b[0m \u001b[0mdrop\u001b[0m\u001b[0;34m=\u001b[0m\u001b[0;32mNone\u001b[0m\u001b[0;34m)\u001b[0m\u001b[0;34m\u001b[0m\u001b[0;34m\u001b[0m\u001b[0m\n\u001b[0m\u001b[1;32m    132\u001b[0m         \u001b[0;32mreturn\u001b[0m \u001b[0my\u001b[0m\u001b[0;34m\u001b[0m\u001b[0;34m\u001b[0m\u001b[0m\n\u001b[1;32m    133\u001b[0m \u001b[0;34m\u001b[0m\u001b[0m\n",
      "\u001b[0;32m~/.local/lib/python3.8/site-packages/thinc/api.py\u001b[0m in \u001b[0;36muniqued_fwd\u001b[0;34m(X, drop)\u001b[0m\n\u001b[1;32m    377\u001b[0m         )\n\u001b[1;32m    378\u001b[0m         \u001b[0mX_uniq\u001b[0m \u001b[0;34m=\u001b[0m \u001b[0mlayer\u001b[0m\u001b[0;34m.\u001b[0m\u001b[0mops\u001b[0m\u001b[0;34m.\u001b[0m\u001b[0mxp\u001b[0m\u001b[0;34m.\u001b[0m\u001b[0mascontiguousarray\u001b[0m\u001b[0;34m(\u001b[0m\u001b[0mX\u001b[0m\u001b[0;34m[\u001b[0m\u001b[0mind\u001b[0m\u001b[0;34m]\u001b[0m\u001b[0;34m)\u001b[0m\u001b[0;34m\u001b[0m\u001b[0;34m\u001b[0m\u001b[0m\n\u001b[0;32m--> 379\u001b[0;31m         \u001b[0mY_uniq\u001b[0m\u001b[0;34m,\u001b[0m \u001b[0mbp_Y_uniq\u001b[0m \u001b[0;34m=\u001b[0m \u001b[0mlayer\u001b[0m\u001b[0;34m.\u001b[0m\u001b[0mbegin_update\u001b[0m\u001b[0;34m(\u001b[0m\u001b[0mX_uniq\u001b[0m\u001b[0;34m,\u001b[0m \u001b[0mdrop\u001b[0m\u001b[0;34m=\u001b[0m\u001b[0mdrop\u001b[0m\u001b[0;34m)\u001b[0m\u001b[0;34m\u001b[0m\u001b[0;34m\u001b[0m\u001b[0m\n\u001b[0m\u001b[1;32m    380\u001b[0m         \u001b[0mY\u001b[0m \u001b[0;34m=\u001b[0m \u001b[0mY_uniq\u001b[0m\u001b[0;34m[\u001b[0m\u001b[0minv\u001b[0m\u001b[0;34m]\u001b[0m\u001b[0;34m.\u001b[0m\u001b[0mreshape\u001b[0m\u001b[0;34m(\u001b[0m\u001b[0;34m(\u001b[0m\u001b[0mX\u001b[0m\u001b[0;34m.\u001b[0m\u001b[0mshape\u001b[0m\u001b[0;34m[\u001b[0m\u001b[0;36m0\u001b[0m\u001b[0;34m]\u001b[0m\u001b[0;34m,\u001b[0m\u001b[0;34m)\u001b[0m \u001b[0;34m+\u001b[0m \u001b[0mY_uniq\u001b[0m\u001b[0;34m.\u001b[0m\u001b[0mshape\u001b[0m\u001b[0;34m[\u001b[0m\u001b[0;36m1\u001b[0m\u001b[0;34m:\u001b[0m\u001b[0;34m]\u001b[0m\u001b[0;34m)\u001b[0m\u001b[0;34m\u001b[0m\u001b[0;34m\u001b[0m\u001b[0m\n\u001b[1;32m    381\u001b[0m \u001b[0;34m\u001b[0m\u001b[0m\n",
      "\u001b[0;32m~/.local/lib/python3.8/site-packages/thinc/neural/_classes/feed_forward.py\u001b[0m in \u001b[0;36mbegin_update\u001b[0;34m(self, X, drop)\u001b[0m\n\u001b[1;32m     44\u001b[0m         \u001b[0mcallbacks\u001b[0m \u001b[0;34m=\u001b[0m \u001b[0;34m[\u001b[0m\u001b[0;34m]\u001b[0m\u001b[0;34m\u001b[0m\u001b[0;34m\u001b[0m\u001b[0m\n\u001b[1;32m     45\u001b[0m         \u001b[0;32mfor\u001b[0m \u001b[0mlayer\u001b[0m \u001b[0;32min\u001b[0m \u001b[0mself\u001b[0m\u001b[0;34m.\u001b[0m\u001b[0m_layers\u001b[0m\u001b[0;34m:\u001b[0m\u001b[0;34m\u001b[0m\u001b[0;34m\u001b[0m\u001b[0m\n\u001b[0;32m---> 46\u001b[0;31m             \u001b[0mX\u001b[0m\u001b[0;34m,\u001b[0m \u001b[0minc_layer_grad\u001b[0m \u001b[0;34m=\u001b[0m \u001b[0mlayer\u001b[0m\u001b[0;34m.\u001b[0m\u001b[0mbegin_update\u001b[0m\u001b[0;34m(\u001b[0m\u001b[0mX\u001b[0m\u001b[0;34m,\u001b[0m \u001b[0mdrop\u001b[0m\u001b[0;34m=\u001b[0m\u001b[0mdrop\u001b[0m\u001b[0;34m)\u001b[0m\u001b[0;34m\u001b[0m\u001b[0;34m\u001b[0m\u001b[0m\n\u001b[0m\u001b[1;32m     47\u001b[0m             \u001b[0mcallbacks\u001b[0m\u001b[0;34m.\u001b[0m\u001b[0mappend\u001b[0m\u001b[0;34m(\u001b[0m\u001b[0minc_layer_grad\u001b[0m\u001b[0;34m)\u001b[0m\u001b[0;34m\u001b[0m\u001b[0;34m\u001b[0m\u001b[0m\n\u001b[1;32m     48\u001b[0m \u001b[0;34m\u001b[0m\u001b[0m\n",
      "\u001b[0;32m~/.local/lib/python3.8/site-packages/thinc/neural/_classes/layernorm.py\u001b[0m in \u001b[0;36mbegin_update\u001b[0;34m(self, X, drop)\u001b[0m\n\u001b[1;32m     67\u001b[0m         \u001b[0mXhat\u001b[0m \u001b[0;34m=\u001b[0m \u001b[0m_forward\u001b[0m\u001b[0;34m(\u001b[0m\u001b[0mself\u001b[0m\u001b[0;34m.\u001b[0m\u001b[0mops\u001b[0m\u001b[0;34m,\u001b[0m \u001b[0mX\u001b[0m\u001b[0;34m,\u001b[0m \u001b[0mmu\u001b[0m\u001b[0;34m,\u001b[0m \u001b[0mvar\u001b[0m\u001b[0;34m)\u001b[0m\u001b[0;34m\u001b[0m\u001b[0;34m\u001b[0m\u001b[0m\n\u001b[1;32m     68\u001b[0m \u001b[0;34m\u001b[0m\u001b[0m\n\u001b[0;32m---> 69\u001b[0;31m         \u001b[0my\u001b[0m\u001b[0;34m,\u001b[0m \u001b[0mbackprop_rescale\u001b[0m \u001b[0;34m=\u001b[0m \u001b[0mself\u001b[0m\u001b[0;34m.\u001b[0m\u001b[0m_begin_update_scale_shift\u001b[0m\u001b[0;34m(\u001b[0m\u001b[0mXhat\u001b[0m\u001b[0;34m)\u001b[0m\u001b[0;34m\u001b[0m\u001b[0;34m\u001b[0m\u001b[0m\n\u001b[0m\u001b[1;32m     70\u001b[0m \u001b[0;34m\u001b[0m\u001b[0m\n\u001b[1;32m     71\u001b[0m         \u001b[0;32mdef\u001b[0m \u001b[0mfinish_update\u001b[0m\u001b[0;34m(\u001b[0m\u001b[0mdy\u001b[0m\u001b[0;34m,\u001b[0m \u001b[0msgd\u001b[0m\u001b[0;34m=\u001b[0m\u001b[0;32mNone\u001b[0m\u001b[0;34m)\u001b[0m\u001b[0;34m:\u001b[0m\u001b[0;34m\u001b[0m\u001b[0;34m\u001b[0m\u001b[0m\n",
      "\u001b[0;32m~/.local/lib/python3.8/site-packages/thinc/neural/_classes/layernorm.py\u001b[0m in \u001b[0;36m_begin_update_scale_shift\u001b[0;34m(self, input__BI)\u001b[0m\n\u001b[1;32m     90\u001b[0m         \u001b[0;32mreturn\u001b[0m \u001b[0my\u001b[0m\u001b[0;34m,\u001b[0m \u001b[0mbp_dropout\u001b[0m\u001b[0;34m(\u001b[0m\u001b[0mfinish_update\u001b[0m\u001b[0;34m)\u001b[0m\u001b[0;34m\u001b[0m\u001b[0;34m\u001b[0m\u001b[0m\n\u001b[1;32m     91\u001b[0m \u001b[0;34m\u001b[0m\u001b[0m\n\u001b[0;32m---> 92\u001b[0;31m     \u001b[0;32mdef\u001b[0m \u001b[0m_begin_update_scale_shift\u001b[0m\u001b[0;34m(\u001b[0m\u001b[0mself\u001b[0m\u001b[0;34m,\u001b[0m \u001b[0minput__BI\u001b[0m\u001b[0;34m)\u001b[0m\u001b[0;34m:\u001b[0m\u001b[0;34m\u001b[0m\u001b[0;34m\u001b[0m\u001b[0m\n\u001b[0m\u001b[1;32m     93\u001b[0m         \u001b[0;32mdef\u001b[0m \u001b[0mfinish_update\u001b[0m\u001b[0;34m(\u001b[0m\u001b[0mgradient__BI\u001b[0m\u001b[0;34m,\u001b[0m \u001b[0msgd\u001b[0m\u001b[0;34m=\u001b[0m\u001b[0;32mNone\u001b[0m\u001b[0;34m)\u001b[0m\u001b[0;34m:\u001b[0m\u001b[0;34m\u001b[0m\u001b[0;34m\u001b[0m\u001b[0m\n\u001b[1;32m     94\u001b[0m             \u001b[0mself\u001b[0m\u001b[0;34m.\u001b[0m\u001b[0md_b\u001b[0m \u001b[0;34m+=\u001b[0m \u001b[0mgradient__BI\u001b[0m\u001b[0;34m.\u001b[0m\u001b[0msum\u001b[0m\u001b[0;34m(\u001b[0m\u001b[0maxis\u001b[0m\u001b[0;34m=\u001b[0m\u001b[0;36m0\u001b[0m\u001b[0;34m)\u001b[0m\u001b[0;34m\u001b[0m\u001b[0;34m\u001b[0m\u001b[0m\n",
      "\u001b[0;31mKeyboardInterrupt\u001b[0m: "
     ]
    }
   ],
   "source": [
    "%%time\n",
    "#count the tokens for a given entity type\n",
    "gpe=data.apply(lambda x: ner(x, 'PERSON'))\n",
    "gpe=[i for x in gpe for i in x]\n",
    "counter=Counter(gpe)"
   ]
  },
  {
   "cell_type": "code",
   "execution_count": 68,
   "metadata": {},
   "outputs": [
    {
     "name": "stderr",
     "output_type": "stream",
     "text": [
      "/home/douglas/.local/lib/python3.8/site-packages/seaborn/_decorators.py:36: FutureWarning: Pass the following variables as keyword args: x, y. From version 0.12, the only valid positional argument will be `data`, and passing other arguments without an explicit keyword will result in an error or misinterpretation.\n",
      "  warnings.warn(\n"
     ]
    },
    {
     "data": {
      "text/plain": [
       "<AxesSubplot:>"
      ]
     },
     "execution_count": 68,
     "metadata": {},
     "output_type": "execute_result"
    },
    {
     "data": {
      "image/png": "[encoded data removed]",
      "text/plain": [
       "<Figure size 432x288 with 1 Axes>"
      ]
     },
     "metadata": {
      "needs_background": "light"
     },
     "output_type": "display_data"
    }
   ],
   "source": [
    "x,y=map(list,zip(*counter.most_common(10)))\n",
    "sns.barplot(y,x)"
   ]
  },
  {
   "cell_type": "markdown",
   "metadata": {},
   "source": [
    "## Parts of Speach Tagging"
   ]
  },
  {
   "cell_type": "markdown",
   "metadata": {},
   "source": [
    "There are eight main parts of speech:\n",
    "\n",
    "- Noun (NN)- Joseph, London, table, cat, teacher, pen, city\n",
    "- Verb (VB)- read, speak, run, eat, play, live, walk, have, like, are, is\n",
    "- Adjective(JJ)- beautiful, happy, sad, young, fun, three\n",
    "- Adverb(RB)- slowly, quietly, very, always, never, too, well, tomorrow\n",
    "- Preposition (IN)- at, on, in, from, with, near, between, about, under\n",
    "- Conjunction (CC)- and, or, but, because, so, yet, unless, since, if\n",
    "- Pronoun(PRP)- I, you, we, they, he, she, it, me, us, them, him, her, this\n",
    "- Interjection (INT)- Ouch! Wow! Great! Help! Oh! Hey! Hi!"
   ]
  },
  {
   "cell_type": "code",
   "execution_count": null,
   "metadata": {},
   "outputs": [],
   "source": [
    "nltk.download('averaged_perceptron_tagger')\n",
    "from nltk.tokenize import word_tokenize"
   ]
  },
  {
   "cell_type": "code",
   "execution_count": null,
   "metadata": {},
   "outputs": [],
   "source": [
    "def remove_duplicated_spaces(corpus):\n",
    "    #remove duplicated spaces\n",
    "    corpus_alt = re.sub(r' +', ' ', corpus)\n",
    "\n",
    "    return corpus_alt"
   ]
  },
  {
   "cell_type": "code",
   "execution_count": null,
   "metadata": {},
   "outputs": [],
   "source": [
    "msg_no_space = [remove_duplicated_spaces(str(m)) for m in data]\n",
    "msg_no_space = pd.Series(msg_no_space)"
   ]
  },
  {
   "cell_type": "code",
   "execution_count": null,
   "metadata": {},
   "outputs": [],
   "source": [
    "def pos(text):\n",
    "    #matched = re.match(r\" +\", text)\n",
    "    if text != ' ':\n",
    "        #print(text)\n",
    "        pos=nltk.pos_tag(word_tokenize(text))\n",
    "        #print(pos)\n",
    "        pos=list(map(list,zip(*pos)))[1]\n",
    "        return pos\n",
    "    return"
   ]
  },
  {
   "cell_type": "code",
   "execution_count": null,
   "metadata": {},
   "outputs": [],
   "source": [
    "%%time\n",
    "tags=msg_no_space[0:5000].apply(lambda x : pos(x))\n",
    "#tags = [pos(m) for m in msg_no_space[0:10000]]\n",
    "#tags\n",
    "tags=[x for l in tags for x in l]\n",
    "counter=Counter(tags)"
   ]
  },
  {
   "cell_type": "code",
   "execution_count": null,
   "metadata": {},
   "outputs": [],
   "source": [
    "x,y=list(map(list,zip(*counter.most_common(7))))\n",
    "sns.barplot(x=y,y=x)"
   ]
  },
  {
   "cell_type": "code",
   "execution_count": null,
   "metadata": {},
   "outputs": [],
   "source": [
    "### most commonly nouns\n",
    "def get_adjs(text, _tag='PRP'):\n",
    "    adj=[]\n",
    "    pos=nltk.pos_tag(word_tokenize(text))\n",
    "    for word,tag in pos:\n",
    "        if tag == _tag:\n",
    "            adj.append(word)\n",
    "    return adj"
   ]
  },
  {
   "cell_type": "code",
   "execution_count": null,
   "metadata": {},
   "outputs": [],
   "source": [
    "%%time\n",
    "words=msg.apply(lambda x : get_adjs(x))\n",
    "words=[x for l in words for x in l]\n",
    "counter=Counter(words)"
   ]
  },
  {
   "cell_type": "code",
   "execution_count": null,
   "metadata": {},
   "outputs": [],
   "source": [
    "x,y=list(map(list,zip(*counter.most_common(7))))\n",
    "sns.barplot(x=y,y=x)"
   ]
  },
  {
   "cell_type": "markdown",
   "metadata": {},
   "source": [
    "## Text complexy"
   ]
  },
  {
   "cell_type": "markdown",
   "metadata": {},
   "source": [
    "Flesch Reading Ease (FRE)\n",
    "<br>Higher scores indicate material that is easier to read, lower numbers mark harder-to-read passages:\n",
    "- 0-30 College\n",
    "- 50-60 High school\n",
    "- 60+ Fourth grade"
   ]
  },
  {
   "cell_type": "code",
   "execution_count": null,
   "metadata": {},
   "outputs": [],
   "source": [
    "from textstat import flesch_reading_ease"
   ]
  },
  {
   "cell_type": "code",
   "execution_count": null,
   "metadata": {},
   "outputs": [],
   "source": [
    "%%time\n",
    "reading = msg.\\\n",
    "   apply(lambda x : flesch_reading_ease(x))\n",
    "reading.hist()"
   ]
  },
  {
   "cell_type": "markdown",
   "metadata": {},
   "source": [
    "The text is easy to read"
   ]
  },
  {
   "cell_type": "code",
   "execution_count": null,
   "metadata": {},
   "outputs": [],
   "source": [
    "x=[i for i in range(len(reading)) if reading[i]<0]\n",
    "\n",
    "messages.iloc[x]['msg'].head()"
   ]
  },
  {
   "cell_type": "code",
   "execution_count": null,
   "metadata": {},
   "outputs": [],
   "source": []
  },
  {
   "cell_type": "code",
   "execution_count": null,
   "metadata": {},
   "outputs": [],
   "source": []
  },
  {
   "cell_type": "code",
   "execution_count": null,
   "metadata": {},
   "outputs": [],
   "source": []
  },
  {
   "cell_type": "code",
   "execution_count": null,
   "metadata": {},
   "outputs": [],
   "source": []
  },
  {
   "cell_type": "code",
   "execution_count": null,
   "metadata": {},
   "outputs": [],
   "source": []
  },
  {
   "cell_type": "code",
   "execution_count": null,
   "metadata": {},
   "outputs": [],
   "source": []
  },
  {
   "cell_type": "code",
   "execution_count": null,
   "metadata": {},
   "outputs": [],
   "source": []
  },
  {
   "cell_type": "code",
   "execution_count": null,
   "metadata": {},
   "outputs": [],
   "source": []
  },
  {
   "cell_type": "code",
   "execution_count": null,
   "metadata": {},
   "outputs": [],
   "source": []
  },
  {
   "cell_type": "code",
   "execution_count": null,
   "metadata": {},
   "outputs": [],
   "source": []
  }
 ],
 "metadata": {
  "kernelspec": {
   "display_name": "Python 3",
   "language": "python",
   "name": "python3"
  },
  "language_info": {
   "codemirror_mode": {
    "name": "ipython",
    "version": 3
   },
   "file_extension": ".py",
   "mimetype": "text/x-python",
   "name": "python",
   "nbconvert_exporter": "python",
   "pygments_lexer": "ipython3",
   "version": "3.8.5"
  }
 },
 "nbformat": 4,
 "nbformat_minor": 4
}
