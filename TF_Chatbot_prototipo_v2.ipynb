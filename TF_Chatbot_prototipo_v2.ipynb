{
  "nbformat": 4,
  "nbformat_minor": 0,
  "metadata": {
    "kernelspec": {
      "display_name": "Python 3",
      "language": "python",
      "name": "python3"
    },
    "language_info": {
      "codemirror_mode": {
        "name": "ipython",
        "version": 3
      },
      "file_extension": ".py",
      "mimetype": "text/x-python",
      "name": "python",
      "nbconvert_exporter": "python",
      "pygments_lexer": "ipython3",
      "version": "3.8.5"
    },
    "colab": {
      "name": "TF - Chatbot-protptipo-v2.ipynb",
      "provenance": []
    },
    "accelerator": "GPU"
  },
  "cells": [
    {
      "cell_type": "markdown",
      "metadata": {
        "id": "-BSEigEE-utQ"
      },
      "source": [
        "## A intenção do projeto é criar um chatbot baseado em reviews de filmes para que se possa fazer perguntas e manter uma conversa livre sobre este tema\n",
        "\n",
        "- link do banco de dados https://www.kaggle.com/Cornell-University/movie-dialog-corpus?select=movie_lines.tsv\n",
        "- referências\n",
        ">- https://shanebarker.com/blog/deep-learning-chatbot/\n",
        "> -https://towardsdatascience.com/how-to-create-a-chatbot-with-python-deep-learning-in-less-than-an-hour-56a063bdfc44"
      ]
    },
    {
      "cell_type": "code",
      "metadata": {
        "id": "lw-oAKcF-utS",
        "outputId": "10f24e18-2993-4cc4-f33f-62449feb4ba5",
        "colab": {
          "base_uri": "https://localhost:8080/"
        }
      },
      "source": [
        "!pip3 install gensim\n",
        "!pip3 install tensorflow\n",
        "!pip3 install keras"
      ],
      "execution_count": 1,
      "outputs": [
        {
          "output_type": "stream",
          "text": [
            "Requirement already satisfied: gensim in /usr/local/lib/python3.6/dist-packages (3.6.0)\n",
            "Requirement already satisfied: scipy>=0.18.1 in /usr/local/lib/python3.6/dist-packages (from gensim) (1.4.1)\n",
            "Requirement already satisfied: six>=1.5.0 in /usr/local/lib/python3.6/dist-packages (from gensim) (1.15.0)\n",
            "Requirement already satisfied: numpy>=1.11.3 in /usr/local/lib/python3.6/dist-packages (from gensim) (1.18.5)\n",
            "Requirement already satisfied: smart-open>=1.2.1 in /usr/local/lib/python3.6/dist-packages (from gensim) (3.0.0)\n",
            "Requirement already satisfied: requests in /usr/local/lib/python3.6/dist-packages (from smart-open>=1.2.1->gensim) (2.23.0)\n",
            "Requirement already satisfied: urllib3!=1.25.0,!=1.25.1,<1.26,>=1.21.1 in /usr/local/lib/python3.6/dist-packages (from requests->smart-open>=1.2.1->gensim) (1.24.3)\n",
            "Requirement already satisfied: certifi>=2017.4.17 in /usr/local/lib/python3.6/dist-packages (from requests->smart-open>=1.2.1->gensim) (2020.6.20)\n",
            "Requirement already satisfied: chardet<4,>=3.0.2 in /usr/local/lib/python3.6/dist-packages (from requests->smart-open>=1.2.1->gensim) (3.0.4)\n",
            "Requirement already satisfied: idna<3,>=2.5 in /usr/local/lib/python3.6/dist-packages (from requests->smart-open>=1.2.1->gensim) (2.10)\n",
            "Requirement already satisfied: tensorflow in /usr/local/lib/python3.6/dist-packages (2.3.0)\n",
            "Requirement already satisfied: absl-py>=0.7.0 in /usr/local/lib/python3.6/dist-packages (from tensorflow) (0.10.0)\n",
            "Requirement already satisfied: h5py<2.11.0,>=2.10.0 in /usr/local/lib/python3.6/dist-packages (from tensorflow) (2.10.0)\n",
            "Requirement already satisfied: tensorflow-estimator<2.4.0,>=2.3.0 in /usr/local/lib/python3.6/dist-packages (from tensorflow) (2.3.0)\n",
            "Requirement already satisfied: wrapt>=1.11.1 in /usr/local/lib/python3.6/dist-packages (from tensorflow) (1.12.1)\n",
            "Requirement already satisfied: six>=1.12.0 in /usr/local/lib/python3.6/dist-packages (from tensorflow) (1.15.0)\n",
            "Requirement already satisfied: scipy==1.4.1 in /usr/local/lib/python3.6/dist-packages (from tensorflow) (1.4.1)\n",
            "Requirement already satisfied: termcolor>=1.1.0 in /usr/local/lib/python3.6/dist-packages (from tensorflow) (1.1.0)\n",
            "Requirement already satisfied: protobuf>=3.9.2 in /usr/local/lib/python3.6/dist-packages (from tensorflow) (3.12.4)\n",
            "Requirement already satisfied: gast==0.3.3 in /usr/local/lib/python3.6/dist-packages (from tensorflow) (0.3.3)\n",
            "Requirement already satisfied: astunparse==1.6.3 in /usr/local/lib/python3.6/dist-packages (from tensorflow) (1.6.3)\n",
            "Requirement already satisfied: google-pasta>=0.1.8 in /usr/local/lib/python3.6/dist-packages (from tensorflow) (0.2.0)\n",
            "Requirement already satisfied: wheel>=0.26 in /usr/local/lib/python3.6/dist-packages (from tensorflow) (0.35.1)\n",
            "Requirement already satisfied: grpcio>=1.8.6 in /usr/local/lib/python3.6/dist-packages (from tensorflow) (1.33.2)\n",
            "Requirement already satisfied: numpy<1.19.0,>=1.16.0 in /usr/local/lib/python3.6/dist-packages (from tensorflow) (1.18.5)\n",
            "Requirement already satisfied: opt-einsum>=2.3.2 in /usr/local/lib/python3.6/dist-packages (from tensorflow) (3.3.0)\n",
            "Requirement already satisfied: keras-preprocessing<1.2,>=1.1.1 in /usr/local/lib/python3.6/dist-packages (from tensorflow) (1.1.2)\n",
            "Requirement already satisfied: tensorboard<3,>=2.3.0 in /usr/local/lib/python3.6/dist-packages (from tensorflow) (2.3.0)\n",
            "Requirement already satisfied: setuptools in /usr/local/lib/python3.6/dist-packages (from protobuf>=3.9.2->tensorflow) (50.3.2)\n",
            "Requirement already satisfied: requests<3,>=2.21.0 in /usr/local/lib/python3.6/dist-packages (from tensorboard<3,>=2.3.0->tensorflow) (2.23.0)\n",
            "Requirement already satisfied: markdown>=2.6.8 in /usr/local/lib/python3.6/dist-packages (from tensorboard<3,>=2.3.0->tensorflow) (3.3.3)\n",
            "Requirement already satisfied: google-auth<2,>=1.6.3 in /usr/local/lib/python3.6/dist-packages (from tensorboard<3,>=2.3.0->tensorflow) (1.17.2)\n",
            "Requirement already satisfied: werkzeug>=0.11.15 in /usr/local/lib/python3.6/dist-packages (from tensorboard<3,>=2.3.0->tensorflow) (1.0.1)\n",
            "Requirement already satisfied: google-auth-oauthlib<0.5,>=0.4.1 in /usr/local/lib/python3.6/dist-packages (from tensorboard<3,>=2.3.0->tensorflow) (0.4.2)\n",
            "Requirement already satisfied: tensorboard-plugin-wit>=1.6.0 in /usr/local/lib/python3.6/dist-packages (from tensorboard<3,>=2.3.0->tensorflow) (1.7.0)\n",
            "Requirement already satisfied: certifi>=2017.4.17 in /usr/local/lib/python3.6/dist-packages (from requests<3,>=2.21.0->tensorboard<3,>=2.3.0->tensorflow) (2020.6.20)\n",
            "Requirement already satisfied: chardet<4,>=3.0.2 in /usr/local/lib/python3.6/dist-packages (from requests<3,>=2.21.0->tensorboard<3,>=2.3.0->tensorflow) (3.0.4)\n",
            "Requirement already satisfied: urllib3!=1.25.0,!=1.25.1,<1.26,>=1.21.1 in /usr/local/lib/python3.6/dist-packages (from requests<3,>=2.21.0->tensorboard<3,>=2.3.0->tensorflow) (1.24.3)\n",
            "Requirement already satisfied: idna<3,>=2.5 in /usr/local/lib/python3.6/dist-packages (from requests<3,>=2.21.0->tensorboard<3,>=2.3.0->tensorflow) (2.10)\n",
            "Requirement already satisfied: importlib-metadata; python_version < \"3.8\" in /usr/local/lib/python3.6/dist-packages (from markdown>=2.6.8->tensorboard<3,>=2.3.0->tensorflow) (2.0.0)\n",
            "Requirement already satisfied: rsa<5,>=3.1.4; python_version >= \"3\" in /usr/local/lib/python3.6/dist-packages (from google-auth<2,>=1.6.3->tensorboard<3,>=2.3.0->tensorflow) (4.6)\n",
            "Requirement already satisfied: pyasn1-modules>=0.2.1 in /usr/local/lib/python3.6/dist-packages (from google-auth<2,>=1.6.3->tensorboard<3,>=2.3.0->tensorflow) (0.2.8)\n",
            "Requirement already satisfied: cachetools<5.0,>=2.0.0 in /usr/local/lib/python3.6/dist-packages (from google-auth<2,>=1.6.3->tensorboard<3,>=2.3.0->tensorflow) (4.1.1)\n",
            "Requirement already satisfied: requests-oauthlib>=0.7.0 in /usr/local/lib/python3.6/dist-packages (from google-auth-oauthlib<0.5,>=0.4.1->tensorboard<3,>=2.3.0->tensorflow) (1.3.0)\n",
            "Requirement already satisfied: zipp>=0.5 in /usr/local/lib/python3.6/dist-packages (from importlib-metadata; python_version < \"3.8\"->markdown>=2.6.8->tensorboard<3,>=2.3.0->tensorflow) (3.4.0)\n",
            "Requirement already satisfied: pyasn1>=0.1.3 in /usr/local/lib/python3.6/dist-packages (from rsa<5,>=3.1.4; python_version >= \"3\"->google-auth<2,>=1.6.3->tensorboard<3,>=2.3.0->tensorflow) (0.4.8)\n",
            "Requirement already satisfied: oauthlib>=3.0.0 in /usr/local/lib/python3.6/dist-packages (from requests-oauthlib>=0.7.0->google-auth-oauthlib<0.5,>=0.4.1->tensorboard<3,>=2.3.0->tensorflow) (3.1.0)\n",
            "Requirement already satisfied: keras in /usr/local/lib/python3.6/dist-packages (2.4.3)\n",
            "Requirement already satisfied: scipy>=0.14 in /usr/local/lib/python3.6/dist-packages (from keras) (1.4.1)\n",
            "Requirement already satisfied: numpy>=1.9.1 in /usr/local/lib/python3.6/dist-packages (from keras) (1.18.5)\n",
            "Requirement already satisfied: pyyaml in /usr/local/lib/python3.6/dist-packages (from keras) (3.13)\n",
            "Requirement already satisfied: h5py in /usr/local/lib/python3.6/dist-packages (from keras) (2.10.0)\n",
            "Requirement already satisfied: six in /usr/local/lib/python3.6/dist-packages (from h5py->keras) (1.15.0)\n"
          ],
          "name": "stdout"
        }
      ]
    },
    {
      "cell_type": "code",
      "metadata": {
        "id": "AgR-ezT5-utZ",
        "outputId": "f773f454-e438-42fd-81a2-70b325be7745",
        "colab": {
          "base_uri": "https://localhost:8080/"
        }
      },
      "source": [
        "import string\n",
        "import nltk\n",
        "nltk.download('wordnet')\n",
        "from nltk.stem import WordNetLemmatizer\n",
        "import pandas as pd\n",
        "import re\n",
        "import gensim\n",
        "from keras.layers import Dense, Activation, Dropout\n",
        "from keras.optimizers import SGD\n",
        "import numpy as np\n",
        "from sklearn.feature_extraction.text import CountVectorizer\n",
        "from keras.models import Sequential\n",
        "from keras.preprocessing.text import Tokenizer\n",
        "from scipy.spatial import distance\n",
        "from sklearn.model_selection import train_test_split\n",
        "import math\n",
        "import random"
      ],
      "execution_count": 2,
      "outputs": [
        {
          "output_type": "stream",
          "text": [
            "[nltk_data] Downloading package wordnet to /root/nltk_data...\n",
            "[nltk_data]   Unzipping corpora/wordnet.zip.\n"
          ],
          "name": "stdout"
        }
      ]
    },
    {
      "cell_type": "markdown",
      "metadata": {
        "id": "6Um5L0h0-utn"
      },
      "source": [
        "### Opening movie reviews"
      ]
    },
    {
      "cell_type": "code",
      "metadata": {
        "id": "-phop0QuChK3"
      },
      "source": [
        "def load_data():\n",
        "  from google.colab import drive\n",
        "  drive.mount('/content/drive/')\n",
        "  import os\n",
        "  os.chdir('/content/drive/My Drive/Colab Notebooks/NLP/')\n",
        "  !ls\n",
        "  !head eventos.csv"
      ],
      "execution_count": 3,
      "outputs": []
    },
    {
      "cell_type": "code",
      "metadata": {
        "id": "2eJ4ERxkCsje",
        "outputId": "f7367850-2ff7-44c7-e88b-bf21e2551027",
        "colab": {
          "base_uri": "https://localhost:8080/"
        }
      },
      "source": [
        "load_data()"
      ],
      "execution_count": 4,
      "outputs": [
        {
          "output_type": "stream",
          "text": [
            "Mounted at /content/drive/\n",
            " Aula_1_IAAM_O3_1_Douglas_Cardoso.ipynb      chatbot_model.h5\n",
            "'Aula 2 - IAAM_3_1_Douglas_Cardoso.ipynb'    chatdata\n",
            " Aula_3_IAAM_3_1_Douglas_Cardoso.ipynb\t    'TF - Chatbot.ipynb'\n",
            "'Aula 4 - IAAM 03_1_Douglas_Cardoso.ipynb'  'TF - Chatbot-v2.ipynb'\n",
            "'Aula 5 - IAAM 31 - Douglas_Cardoso.ipynb'\n",
            "head: cannot open 'eventos.csv' for reading: No such file or directory\n"
          ],
          "name": "stdout"
        }
      ]
    },
    {
      "cell_type": "code",
      "metadata": {
        "id": "Crtu4lkNCvuE"
      },
      "source": [
        "messages = pd.read_csv('./chatdata/movie_lines.tsv', header = None, delimiter=\"\\t\", quoting=3, encoding='ISO-8859-2')"
      ],
      "execution_count": 5,
      "outputs": []
    },
    {
      "cell_type": "code",
      "metadata": {
        "id": "lPpD5i2O-ut8",
        "outputId": "5652b189-b4d8-41c2-9d25-672498bd921f",
        "colab": {
          "base_uri": "https://localhost:8080/",
          "height": 348
        }
      },
      "source": [
        "messages.head(10)"
      ],
      "execution_count": 6,
      "outputs": [
        {
          "output_type": "execute_result",
          "data": {
            "text/html": [
              "<div>\n",
              "<style scoped>\n",
              "    .dataframe tbody tr th:only-of-type {\n",
              "        vertical-align: middle;\n",
              "    }\n",
              "\n",
              "    .dataframe tbody tr th {\n",
              "        vertical-align: top;\n",
              "    }\n",
              "\n",
              "    .dataframe thead th {\n",
              "        text-align: right;\n",
              "    }\n",
              "</style>\n",
              "<table border=\"1\" class=\"dataframe\">\n",
              "  <thead>\n",
              "    <tr style=\"text-align: right;\">\n",
              "      <th></th>\n",
              "      <th>0</th>\n",
              "      <th>1</th>\n",
              "      <th>2</th>\n",
              "      <th>3</th>\n",
              "      <th>4</th>\n",
              "    </tr>\n",
              "  </thead>\n",
              "  <tbody>\n",
              "    <tr>\n",
              "      <th>0</th>\n",
              "      <td>L1045</td>\n",
              "      <td>u0</td>\n",
              "      <td>m0</td>\n",
              "      <td>BIANCA</td>\n",
              "      <td>They do not!</td>\n",
              "    </tr>\n",
              "    <tr>\n",
              "      <th>1</th>\n",
              "      <td>L1044</td>\n",
              "      <td>u2</td>\n",
              "      <td>m0</td>\n",
              "      <td>CAMERON</td>\n",
              "      <td>They do to!</td>\n",
              "    </tr>\n",
              "    <tr>\n",
              "      <th>2</th>\n",
              "      <td>L985</td>\n",
              "      <td>u0</td>\n",
              "      <td>m0</td>\n",
              "      <td>BIANCA</td>\n",
              "      <td>I hope so.</td>\n",
              "    </tr>\n",
              "    <tr>\n",
              "      <th>3</th>\n",
              "      <td>L984</td>\n",
              "      <td>u2</td>\n",
              "      <td>m0</td>\n",
              "      <td>CAMERON</td>\n",
              "      <td>She okay?</td>\n",
              "    </tr>\n",
              "    <tr>\n",
              "      <th>4</th>\n",
              "      <td>L925</td>\n",
              "      <td>u0</td>\n",
              "      <td>m0</td>\n",
              "      <td>BIANCA</td>\n",
              "      <td>Let's go.</td>\n",
              "    </tr>\n",
              "    <tr>\n",
              "      <th>5</th>\n",
              "      <td>L924</td>\n",
              "      <td>u2</td>\n",
              "      <td>m0</td>\n",
              "      <td>CAMERON</td>\n",
              "      <td>Wow</td>\n",
              "    </tr>\n",
              "    <tr>\n",
              "      <th>6</th>\n",
              "      <td>L872</td>\n",
              "      <td>u0</td>\n",
              "      <td>m0</td>\n",
              "      <td>BIANCA</td>\n",
              "      <td>Okay -- you're gonna need to learn how to lie.</td>\n",
              "    </tr>\n",
              "    <tr>\n",
              "      <th>7</th>\n",
              "      <td>L871</td>\n",
              "      <td>u2</td>\n",
              "      <td>m0</td>\n",
              "      <td>CAMERON</td>\n",
              "      <td>No</td>\n",
              "    </tr>\n",
              "    <tr>\n",
              "      <th>8</th>\n",
              "      <td>\"L870</td>\n",
              "      <td>u0</td>\n",
              "      <td>m0</td>\n",
              "      <td>BIANCA</td>\n",
              "      <td>I'm kidding.  You know how sometimes you just ...</td>\n",
              "    </tr>\n",
              "    <tr>\n",
              "      <th>9</th>\n",
              "      <td>L869</td>\n",
              "      <td>u0</td>\n",
              "      <td>m0</td>\n",
              "      <td>BIANCA</td>\n",
              "      <td>Like my fear of wearing pastels?</td>\n",
              "    </tr>\n",
              "  </tbody>\n",
              "</table>\n",
              "</div>"
            ],
            "text/plain": [
              "       0   1   2        3                                                  4\n",
              "0  L1045  u0  m0   BIANCA                                       They do not!\n",
              "1  L1044  u2  m0  CAMERON                                        They do to!\n",
              "2   L985  u0  m0   BIANCA                                         I hope so.\n",
              "3   L984  u2  m0  CAMERON                                          She okay?\n",
              "4   L925  u0  m0   BIANCA                                          Let's go.\n",
              "5   L924  u2  m0  CAMERON                                                Wow\n",
              "6   L872  u0  m0   BIANCA     Okay -- you're gonna need to learn how to lie.\n",
              "7   L871  u2  m0  CAMERON                                                 No\n",
              "8  \"L870  u0  m0   BIANCA  I'm kidding.  You know how sometimes you just ...\n",
              "9   L869  u0  m0   BIANCA                   Like my fear of wearing pastels?"
            ]
          },
          "metadata": {
            "tags": []
          },
          "execution_count": 6
        }
      ]
    },
    {
      "cell_type": "markdown",
      "metadata": {
        "id": "suw3SOJl-uuF"
      },
      "source": [
        "### Cleaning the index of the conversations"
      ]
    },
    {
      "cell_type": "code",
      "metadata": {
        "id": "_C-PgIGR-uuF"
      },
      "source": [
        "messages.columns = ['msg_line', 'user1_id', 'movie_id', 'user_name', 'msg']"
      ],
      "execution_count": 7,
      "outputs": []
    },
    {
      "cell_type": "code",
      "metadata": {
        "id": "FqD3IJCq-uuL"
      },
      "source": [
        "def remove_char(txt):\n",
        "    return re.sub('[^0-9]','', txt)"
      ],
      "execution_count": 8,
      "outputs": []
    },
    {
      "cell_type": "code",
      "metadata": {
        "id": "MnwDRnuj-uuR"
      },
      "source": [
        "#leaving just the number of the index, so L872 changes to 872\n",
        "messages['msg_line_clean'] = [remove_char(msg) for msg in messages['msg_line']]"
      ],
      "execution_count": 9,
      "outputs": []
    },
    {
      "cell_type": "code",
      "metadata": {
        "id": "lxO3JxI7-uuk"
      },
      "source": [
        "#change the column type to number\n",
        "messages['msg_line_clean'] = pd.to_numeric(messages['msg_line_clean'])"
      ],
      "execution_count": 10,
      "outputs": []
    },
    {
      "cell_type": "code",
      "metadata": {
        "id": "PoOMsQQM-uuY",
        "outputId": "9a66c998-73dd-4b66-b1d8-b31685525a41",
        "colab": {
          "base_uri": "https://localhost:8080/",
          "height": 407
        }
      },
      "source": [
        "messages.sort_values(by=['msg_line_clean'])"
      ],
      "execution_count": 11,
      "outputs": [
        {
          "output_type": "execute_result",
          "data": {
            "text/html": [
              "<div>\n",
              "<style scoped>\n",
              "    .dataframe tbody tr th:only-of-type {\n",
              "        vertical-align: middle;\n",
              "    }\n",
              "\n",
              "    .dataframe tbody tr th {\n",
              "        vertical-align: top;\n",
              "    }\n",
              "\n",
              "    .dataframe thead th {\n",
              "        text-align: right;\n",
              "    }\n",
              "</style>\n",
              "<table border=\"1\" class=\"dataframe\">\n",
              "  <thead>\n",
              "    <tr style=\"text-align: right;\">\n",
              "      <th></th>\n",
              "      <th>msg_line</th>\n",
              "      <th>user1_id</th>\n",
              "      <th>movie_id</th>\n",
              "      <th>user_name</th>\n",
              "      <th>msg</th>\n",
              "      <th>msg_line_clean</th>\n",
              "    </tr>\n",
              "  </thead>\n",
              "  <tbody>\n",
              "    <tr>\n",
              "      <th>86</th>\n",
              "      <td>L49</td>\n",
              "      <td>u0</td>\n",
              "      <td>m0</td>\n",
              "      <td>BIANCA</td>\n",
              "      <td>Did you change your hair?</td>\n",
              "      <td>49</td>\n",
              "    </tr>\n",
              "    <tr>\n",
              "      <th>85</th>\n",
              "      <td>L50</td>\n",
              "      <td>u3</td>\n",
              "      <td>m0</td>\n",
              "      <td>CHASTITY</td>\n",
              "      <td>No.</td>\n",
              "      <td>50</td>\n",
              "    </tr>\n",
              "    <tr>\n",
              "      <th>84</th>\n",
              "      <td>L51</td>\n",
              "      <td>u0</td>\n",
              "      <td>m0</td>\n",
              "      <td>BIANCA</td>\n",
              "      <td>You might wanna think about it</td>\n",
              "      <td>51</td>\n",
              "    </tr>\n",
              "    <tr>\n",
              "      <th>648</th>\n",
              "      <td>L59</td>\n",
              "      <td>u9</td>\n",
              "      <td>m0</td>\n",
              "      <td>PATRICK</td>\n",
              "      <td>I missed you.</td>\n",
              "      <td>59</td>\n",
              "    </tr>\n",
              "    <tr>\n",
              "      <th>647</th>\n",
              "      <td>L60</td>\n",
              "      <td>u8</td>\n",
              "      <td>m0</td>\n",
              "      <td>MISS PERKY</td>\n",
              "      <td>It says here you exposed yourself to a group o...</td>\n",
              "      <td>60</td>\n",
              "    </tr>\n",
              "    <tr>\n",
              "      <th>...</th>\n",
              "      <td>...</td>\n",
              "      <td>...</td>\n",
              "      <td>...</td>\n",
              "      <td>...</td>\n",
              "      <td>...</td>\n",
              "      <td>...</td>\n",
              "    </tr>\n",
              "    <tr>\n",
              "      <th>304704</th>\n",
              "      <td>L666522</td>\n",
              "      <td>u9034</td>\n",
              "      <td>m616</td>\n",
              "      <td>VEREKER</td>\n",
              "      <td>So far only their scouts. But we have had repo...</td>\n",
              "      <td>666522</td>\n",
              "    </tr>\n",
              "    <tr>\n",
              "      <th>304679</th>\n",
              "      <td>L666546</td>\n",
              "      <td>u9027</td>\n",
              "      <td>m616</td>\n",
              "      <td>CHELMSFORD</td>\n",
              "      <td>Splendid site Crealock splendil I want to esta...</td>\n",
              "      <td>666546</td>\n",
              "    </tr>\n",
              "    <tr>\n",
              "      <th>304678</th>\n",
              "      <td>L666547</td>\n",
              "      <td>u9029</td>\n",
              "      <td>m616</td>\n",
              "      <td>CREALOCK</td>\n",
              "      <td>Certainly Sin</td>\n",
              "      <td>666547</td>\n",
              "    </tr>\n",
              "    <tr>\n",
              "      <th>304696</th>\n",
              "      <td>L666575</td>\n",
              "      <td>u9028</td>\n",
              "      <td>m616</td>\n",
              "      <td>COGHILL</td>\n",
              "      <td>Choose your targets men. That's right Watch th...</td>\n",
              "      <td>666575</td>\n",
              "    </tr>\n",
              "    <tr>\n",
              "      <th>304695</th>\n",
              "      <td>L666576</td>\n",
              "      <td>u9031</td>\n",
              "      <td>m616</td>\n",
              "      <td>MELVILL</td>\n",
              "      <td>Keep steady. You're the best shots of the Twen...</td>\n",
              "      <td>666576</td>\n",
              "    </tr>\n",
              "  </tbody>\n",
              "</table>\n",
              "<p>304713 rows × 6 columns</p>\n",
              "</div>"
            ],
            "text/plain": [
              "       msg_line  ... msg_line_clean\n",
              "86          L49  ...             49\n",
              "85          L50  ...             50\n",
              "84          L51  ...             51\n",
              "648         L59  ...             59\n",
              "647         L60  ...             60\n",
              "...         ...  ...            ...\n",
              "304704  L666522  ...         666522\n",
              "304679  L666546  ...         666546\n",
              "304678  L666547  ...         666547\n",
              "304696  L666575  ...         666575\n",
              "304695  L666576  ...         666576\n",
              "\n",
              "[304713 rows x 6 columns]"
            ]
          },
          "metadata": {
            "tags": []
          },
          "execution_count": 11
        }
      ]
    },
    {
      "cell_type": "code",
      "metadata": {
        "id": "VoBhDvuC-uu_"
      },
      "source": [
        "#set the column as the index\n",
        "messages = messages.set_index('msg_line_clean')"
      ],
      "execution_count": 12,
      "outputs": []
    },
    {
      "cell_type": "code",
      "metadata": {
        "id": "jdUesfac-uvI",
        "outputId": "5d9e7d94-20f1-4258-b51e-5581d0668930",
        "colab": {
          "base_uri": "https://localhost:8080/",
          "height": 378
        }
      },
      "source": [
        "messages.head(10)"
      ],
      "execution_count": 13,
      "outputs": [
        {
          "output_type": "execute_result",
          "data": {
            "text/html": [
              "<div>\n",
              "<style scoped>\n",
              "    .dataframe tbody tr th:only-of-type {\n",
              "        vertical-align: middle;\n",
              "    }\n",
              "\n",
              "    .dataframe tbody tr th {\n",
              "        vertical-align: top;\n",
              "    }\n",
              "\n",
              "    .dataframe thead th {\n",
              "        text-align: right;\n",
              "    }\n",
              "</style>\n",
              "<table border=\"1\" class=\"dataframe\">\n",
              "  <thead>\n",
              "    <tr style=\"text-align: right;\">\n",
              "      <th></th>\n",
              "      <th>msg_line</th>\n",
              "      <th>user1_id</th>\n",
              "      <th>movie_id</th>\n",
              "      <th>user_name</th>\n",
              "      <th>msg</th>\n",
              "    </tr>\n",
              "    <tr>\n",
              "      <th>msg_line_clean</th>\n",
              "      <th></th>\n",
              "      <th></th>\n",
              "      <th></th>\n",
              "      <th></th>\n",
              "      <th></th>\n",
              "    </tr>\n",
              "  </thead>\n",
              "  <tbody>\n",
              "    <tr>\n",
              "      <th>1045</th>\n",
              "      <td>L1045</td>\n",
              "      <td>u0</td>\n",
              "      <td>m0</td>\n",
              "      <td>BIANCA</td>\n",
              "      <td>They do not!</td>\n",
              "    </tr>\n",
              "    <tr>\n",
              "      <th>1044</th>\n",
              "      <td>L1044</td>\n",
              "      <td>u2</td>\n",
              "      <td>m0</td>\n",
              "      <td>CAMERON</td>\n",
              "      <td>They do to!</td>\n",
              "    </tr>\n",
              "    <tr>\n",
              "      <th>985</th>\n",
              "      <td>L985</td>\n",
              "      <td>u0</td>\n",
              "      <td>m0</td>\n",
              "      <td>BIANCA</td>\n",
              "      <td>I hope so.</td>\n",
              "    </tr>\n",
              "    <tr>\n",
              "      <th>984</th>\n",
              "      <td>L984</td>\n",
              "      <td>u2</td>\n",
              "      <td>m0</td>\n",
              "      <td>CAMERON</td>\n",
              "      <td>She okay?</td>\n",
              "    </tr>\n",
              "    <tr>\n",
              "      <th>925</th>\n",
              "      <td>L925</td>\n",
              "      <td>u0</td>\n",
              "      <td>m0</td>\n",
              "      <td>BIANCA</td>\n",
              "      <td>Let's go.</td>\n",
              "    </tr>\n",
              "    <tr>\n",
              "      <th>924</th>\n",
              "      <td>L924</td>\n",
              "      <td>u2</td>\n",
              "      <td>m0</td>\n",
              "      <td>CAMERON</td>\n",
              "      <td>Wow</td>\n",
              "    </tr>\n",
              "    <tr>\n",
              "      <th>872</th>\n",
              "      <td>L872</td>\n",
              "      <td>u0</td>\n",
              "      <td>m0</td>\n",
              "      <td>BIANCA</td>\n",
              "      <td>Okay -- you're gonna need to learn how to lie.</td>\n",
              "    </tr>\n",
              "    <tr>\n",
              "      <th>871</th>\n",
              "      <td>L871</td>\n",
              "      <td>u2</td>\n",
              "      <td>m0</td>\n",
              "      <td>CAMERON</td>\n",
              "      <td>No</td>\n",
              "    </tr>\n",
              "    <tr>\n",
              "      <th>870</th>\n",
              "      <td>\"L870</td>\n",
              "      <td>u0</td>\n",
              "      <td>m0</td>\n",
              "      <td>BIANCA</td>\n",
              "      <td>I'm kidding.  You know how sometimes you just ...</td>\n",
              "    </tr>\n",
              "    <tr>\n",
              "      <th>869</th>\n",
              "      <td>L869</td>\n",
              "      <td>u0</td>\n",
              "      <td>m0</td>\n",
              "      <td>BIANCA</td>\n",
              "      <td>Like my fear of wearing pastels?</td>\n",
              "    </tr>\n",
              "  </tbody>\n",
              "</table>\n",
              "</div>"
            ],
            "text/plain": [
              "               msg_line  ...                                                msg\n",
              "msg_line_clean           ...                                                   \n",
              "1045              L1045  ...                                       They do not!\n",
              "1044              L1044  ...                                        They do to!\n",
              "985                L985  ...                                         I hope so.\n",
              "984                L984  ...                                          She okay?\n",
              "925                L925  ...                                          Let's go.\n",
              "924                L924  ...                                                Wow\n",
              "872                L872  ...     Okay -- you're gonna need to learn how to lie.\n",
              "871                L871  ...                                                 No\n",
              "870               \"L870  ...  I'm kidding.  You know how sometimes you just ...\n",
              "869                L869  ...                   Like my fear of wearing pastels?\n",
              "\n",
              "[10 rows x 5 columns]"
            ]
          },
          "metadata": {
            "tags": []
          },
          "execution_count": 13
        }
      ]
    },
    {
      "cell_type": "markdown",
      "metadata": {
        "id": "mgQ0XkQ0-uvT"
      },
      "source": [
        "### Opening conversation sequence"
      ]
    },
    {
      "cell_type": "code",
      "metadata": {
        "id": "j9UdxwDA-uvV"
      },
      "source": [
        "#read the file with the conversation sequence\n",
        "conv_seq = pd.read_csv('./chatdata/movie_conversations.tsv', header = None, delimiter=\"\\t\", quoting=3, encoding='ISO-8859-2')"
      ],
      "execution_count": 14,
      "outputs": []
    },
    {
      "cell_type": "code",
      "metadata": {
        "id": "BNv6rvyk-uve",
        "outputId": "892bc640-0b14-4edc-93b2-b3a69b8af16f",
        "colab": {
          "base_uri": "https://localhost:8080/",
          "height": 348
        }
      },
      "source": [
        "conv_seq.head(10)"
      ],
      "execution_count": 15,
      "outputs": [
        {
          "output_type": "execute_result",
          "data": {
            "text/html": [
              "<div>\n",
              "<style scoped>\n",
              "    .dataframe tbody tr th:only-of-type {\n",
              "        vertical-align: middle;\n",
              "    }\n",
              "\n",
              "    .dataframe tbody tr th {\n",
              "        vertical-align: top;\n",
              "    }\n",
              "\n",
              "    .dataframe thead th {\n",
              "        text-align: right;\n",
              "    }\n",
              "</style>\n",
              "<table border=\"1\" class=\"dataframe\">\n",
              "  <thead>\n",
              "    <tr style=\"text-align: right;\">\n",
              "      <th></th>\n",
              "      <th>0</th>\n",
              "      <th>1</th>\n",
              "      <th>2</th>\n",
              "      <th>3</th>\n",
              "    </tr>\n",
              "  </thead>\n",
              "  <tbody>\n",
              "    <tr>\n",
              "      <th>0</th>\n",
              "      <td>u0</td>\n",
              "      <td>u2</td>\n",
              "      <td>m0</td>\n",
              "      <td>['L194' 'L195' 'L196' 'L197']</td>\n",
              "    </tr>\n",
              "    <tr>\n",
              "      <th>1</th>\n",
              "      <td>u0</td>\n",
              "      <td>u2</td>\n",
              "      <td>m0</td>\n",
              "      <td>['L198' 'L199']</td>\n",
              "    </tr>\n",
              "    <tr>\n",
              "      <th>2</th>\n",
              "      <td>u0</td>\n",
              "      <td>u2</td>\n",
              "      <td>m0</td>\n",
              "      <td>['L200' 'L201' 'L202' 'L203']</td>\n",
              "    </tr>\n",
              "    <tr>\n",
              "      <th>3</th>\n",
              "      <td>u0</td>\n",
              "      <td>u2</td>\n",
              "      <td>m0</td>\n",
              "      <td>['L204' 'L205' 'L206']</td>\n",
              "    </tr>\n",
              "    <tr>\n",
              "      <th>4</th>\n",
              "      <td>u0</td>\n",
              "      <td>u2</td>\n",
              "      <td>m0</td>\n",
              "      <td>['L207' 'L208']</td>\n",
              "    </tr>\n",
              "    <tr>\n",
              "      <th>5</th>\n",
              "      <td>u0</td>\n",
              "      <td>u2</td>\n",
              "      <td>m0</td>\n",
              "      <td>['L271' 'L272' 'L273' 'L274' 'L275']</td>\n",
              "    </tr>\n",
              "    <tr>\n",
              "      <th>6</th>\n",
              "      <td>u0</td>\n",
              "      <td>u2</td>\n",
              "      <td>m0</td>\n",
              "      <td>['L276' 'L277']</td>\n",
              "    </tr>\n",
              "    <tr>\n",
              "      <th>7</th>\n",
              "      <td>u0</td>\n",
              "      <td>u2</td>\n",
              "      <td>m0</td>\n",
              "      <td>['L280' 'L281']</td>\n",
              "    </tr>\n",
              "    <tr>\n",
              "      <th>8</th>\n",
              "      <td>u0</td>\n",
              "      <td>u2</td>\n",
              "      <td>m0</td>\n",
              "      <td>['L363' 'L364']</td>\n",
              "    </tr>\n",
              "    <tr>\n",
              "      <th>9</th>\n",
              "      <td>u0</td>\n",
              "      <td>u2</td>\n",
              "      <td>m0</td>\n",
              "      <td>['L365' 'L366']</td>\n",
              "    </tr>\n",
              "  </tbody>\n",
              "</table>\n",
              "</div>"
            ],
            "text/plain": [
              "    0   1   2                                     3\n",
              "0  u0  u2  m0         ['L194' 'L195' 'L196' 'L197']\n",
              "1  u0  u2  m0                       ['L198' 'L199']\n",
              "2  u0  u2  m0         ['L200' 'L201' 'L202' 'L203']\n",
              "3  u0  u2  m0                ['L204' 'L205' 'L206']\n",
              "4  u0  u2  m0                       ['L207' 'L208']\n",
              "5  u0  u2  m0  ['L271' 'L272' 'L273' 'L274' 'L275']\n",
              "6  u0  u2  m0                       ['L276' 'L277']\n",
              "7  u0  u2  m0                       ['L280' 'L281']\n",
              "8  u0  u2  m0                       ['L363' 'L364']\n",
              "9  u0  u2  m0                       ['L365' 'L366']"
            ]
          },
          "metadata": {
            "tags": []
          },
          "execution_count": 15
        }
      ]
    },
    {
      "cell_type": "code",
      "metadata": {
        "id": "SD-sm3ct-uvl"
      },
      "source": [
        "conv_seq.columns = ['user1_id', 'user2_id', 'movie_id', 'sequence']"
      ],
      "execution_count": 16,
      "outputs": []
    },
    {
      "cell_type": "code",
      "metadata": {
        "id": "RcAh2wOW-uvs",
        "outputId": "566a7f81-9f9d-412e-da9f-7cad1a30237f",
        "colab": {
          "base_uri": "https://localhost:8080/",
          "height": 348
        }
      },
      "source": [
        "conv_seq.head(10)"
      ],
      "execution_count": 17,
      "outputs": [
        {
          "output_type": "execute_result",
          "data": {
            "text/html": [
              "<div>\n",
              "<style scoped>\n",
              "    .dataframe tbody tr th:only-of-type {\n",
              "        vertical-align: middle;\n",
              "    }\n",
              "\n",
              "    .dataframe tbody tr th {\n",
              "        vertical-align: top;\n",
              "    }\n",
              "\n",
              "    .dataframe thead th {\n",
              "        text-align: right;\n",
              "    }\n",
              "</style>\n",
              "<table border=\"1\" class=\"dataframe\">\n",
              "  <thead>\n",
              "    <tr style=\"text-align: right;\">\n",
              "      <th></th>\n",
              "      <th>user1_id</th>\n",
              "      <th>user2_id</th>\n",
              "      <th>movie_id</th>\n",
              "      <th>sequence</th>\n",
              "    </tr>\n",
              "  </thead>\n",
              "  <tbody>\n",
              "    <tr>\n",
              "      <th>0</th>\n",
              "      <td>u0</td>\n",
              "      <td>u2</td>\n",
              "      <td>m0</td>\n",
              "      <td>['L194' 'L195' 'L196' 'L197']</td>\n",
              "    </tr>\n",
              "    <tr>\n",
              "      <th>1</th>\n",
              "      <td>u0</td>\n",
              "      <td>u2</td>\n",
              "      <td>m0</td>\n",
              "      <td>['L198' 'L199']</td>\n",
              "    </tr>\n",
              "    <tr>\n",
              "      <th>2</th>\n",
              "      <td>u0</td>\n",
              "      <td>u2</td>\n",
              "      <td>m0</td>\n",
              "      <td>['L200' 'L201' 'L202' 'L203']</td>\n",
              "    </tr>\n",
              "    <tr>\n",
              "      <th>3</th>\n",
              "      <td>u0</td>\n",
              "      <td>u2</td>\n",
              "      <td>m0</td>\n",
              "      <td>['L204' 'L205' 'L206']</td>\n",
              "    </tr>\n",
              "    <tr>\n",
              "      <th>4</th>\n",
              "      <td>u0</td>\n",
              "      <td>u2</td>\n",
              "      <td>m0</td>\n",
              "      <td>['L207' 'L208']</td>\n",
              "    </tr>\n",
              "    <tr>\n",
              "      <th>5</th>\n",
              "      <td>u0</td>\n",
              "      <td>u2</td>\n",
              "      <td>m0</td>\n",
              "      <td>['L271' 'L272' 'L273' 'L274' 'L275']</td>\n",
              "    </tr>\n",
              "    <tr>\n",
              "      <th>6</th>\n",
              "      <td>u0</td>\n",
              "      <td>u2</td>\n",
              "      <td>m0</td>\n",
              "      <td>['L276' 'L277']</td>\n",
              "    </tr>\n",
              "    <tr>\n",
              "      <th>7</th>\n",
              "      <td>u0</td>\n",
              "      <td>u2</td>\n",
              "      <td>m0</td>\n",
              "      <td>['L280' 'L281']</td>\n",
              "    </tr>\n",
              "    <tr>\n",
              "      <th>8</th>\n",
              "      <td>u0</td>\n",
              "      <td>u2</td>\n",
              "      <td>m0</td>\n",
              "      <td>['L363' 'L364']</td>\n",
              "    </tr>\n",
              "    <tr>\n",
              "      <th>9</th>\n",
              "      <td>u0</td>\n",
              "      <td>u2</td>\n",
              "      <td>m0</td>\n",
              "      <td>['L365' 'L366']</td>\n",
              "    </tr>\n",
              "  </tbody>\n",
              "</table>\n",
              "</div>"
            ],
            "text/plain": [
              "  user1_id user2_id movie_id                              sequence\n",
              "0       u0       u2       m0         ['L194' 'L195' 'L196' 'L197']\n",
              "1       u0       u2       m0                       ['L198' 'L199']\n",
              "2       u0       u2       m0         ['L200' 'L201' 'L202' 'L203']\n",
              "3       u0       u2       m0                ['L204' 'L205' 'L206']\n",
              "4       u0       u2       m0                       ['L207' 'L208']\n",
              "5       u0       u2       m0  ['L271' 'L272' 'L273' 'L274' 'L275']\n",
              "6       u0       u2       m0                       ['L276' 'L277']\n",
              "7       u0       u2       m0                       ['L280' 'L281']\n",
              "8       u0       u2       m0                       ['L363' 'L364']\n",
              "9       u0       u2       m0                       ['L365' 'L366']"
            ]
          },
          "metadata": {
            "tags": []
          },
          "execution_count": 17
        }
      ]
    },
    {
      "cell_type": "markdown",
      "metadata": {
        "id": "w-lscQ_z-uvz"
      },
      "source": [
        "### Build conversation sequence"
      ]
    },
    {
      "cell_type": "code",
      "metadata": {
        "id": "MdH5_-1J-uv1"
      },
      "source": [
        "def split_conversation(txt):\n",
        "    txt_alt = txt.split(' ')\n",
        "    return txt_alt"
      ],
      "execution_count": 18,
      "outputs": []
    },
    {
      "cell_type": "code",
      "metadata": {
        "id": "_725CFTF-uv5"
      },
      "source": [
        "def seq_to_list(seq):\n",
        "    seq_list = [remove_char(s) for s in seq]\n",
        "    return seq_list"
      ],
      "execution_count": 19,
      "outputs": []
    },
    {
      "cell_type": "code",
      "metadata": {
        "id": "96GzaYvK-uwE"
      },
      "source": [
        "#initializing the msg_2 column\n",
        "messages['msg_2'] = '-'"
      ],
      "execution_count": 20,
      "outputs": []
    },
    {
      "cell_type": "code",
      "metadata": {
        "id": "63L_vxvm-uwJ"
      },
      "source": [
        "def link_conversations(seq_list, df, filter1, filter2):\n",
        "    i = 0\n",
        "    while i in range(len(seq_list)):\n",
        "        if i+1 < len(seq_list):\n",
        "            next_msg = df.loc[int(seq_list[i+1]), filter1]\n",
        "            df.at[int(seq_list[i]), filter2] = next_msg\n",
        "        i+=1"
      ],
      "execution_count": 21,
      "outputs": []
    },
    {
      "cell_type": "code",
      "metadata": {
        "id": "feAL4Y-5-uwd"
      },
      "source": [
        "#link each message with its answer\n",
        "for conv in conv_seq['sequence']:\n",
        "    #split each sequence by space\n",
        "    seq = split_conversation(conv)\n",
        "\n",
        "    #remove the char L from the sequences\n",
        "    txt_alt = [remove_char(s) for s in seq]\n",
        "\n",
        "    #use the conversation sequence to build the target answer for each message\n",
        "    link_conversations(txt_alt, messages, 'msg', 'msg_2')"
      ],
      "execution_count": 22,
      "outputs": []
    },
    {
      "cell_type": "code",
      "metadata": {
        "id": "63uZAAbm-uwk",
        "outputId": "4eff9982-1533-471d-e7d8-f003283d8572",
        "colab": {
          "base_uri": "https://localhost:8080/",
          "height": 978
        }
      },
      "source": [
        "messages.head(30)"
      ],
      "execution_count": 23,
      "outputs": [
        {
          "output_type": "execute_result",
          "data": {
            "text/html": [
              "<div>\n",
              "<style scoped>\n",
              "    .dataframe tbody tr th:only-of-type {\n",
              "        vertical-align: middle;\n",
              "    }\n",
              "\n",
              "    .dataframe tbody tr th {\n",
              "        vertical-align: top;\n",
              "    }\n",
              "\n",
              "    .dataframe thead th {\n",
              "        text-align: right;\n",
              "    }\n",
              "</style>\n",
              "<table border=\"1\" class=\"dataframe\">\n",
              "  <thead>\n",
              "    <tr style=\"text-align: right;\">\n",
              "      <th></th>\n",
              "      <th>msg_line</th>\n",
              "      <th>user1_id</th>\n",
              "      <th>movie_id</th>\n",
              "      <th>user_name</th>\n",
              "      <th>msg</th>\n",
              "      <th>msg_2</th>\n",
              "    </tr>\n",
              "    <tr>\n",
              "      <th>msg_line_clean</th>\n",
              "      <th></th>\n",
              "      <th></th>\n",
              "      <th></th>\n",
              "      <th></th>\n",
              "      <th></th>\n",
              "      <th></th>\n",
              "    </tr>\n",
              "  </thead>\n",
              "  <tbody>\n",
              "    <tr>\n",
              "      <th>1045</th>\n",
              "      <td>L1045</td>\n",
              "      <td>u0</td>\n",
              "      <td>m0</td>\n",
              "      <td>BIANCA</td>\n",
              "      <td>They do not!</td>\n",
              "      <td>-</td>\n",
              "    </tr>\n",
              "    <tr>\n",
              "      <th>1044</th>\n",
              "      <td>L1044</td>\n",
              "      <td>u2</td>\n",
              "      <td>m0</td>\n",
              "      <td>CAMERON</td>\n",
              "      <td>They do to!</td>\n",
              "      <td>They do not!</td>\n",
              "    </tr>\n",
              "    <tr>\n",
              "      <th>985</th>\n",
              "      <td>L985</td>\n",
              "      <td>u0</td>\n",
              "      <td>m0</td>\n",
              "      <td>BIANCA</td>\n",
              "      <td>I hope so.</td>\n",
              "      <td>-</td>\n",
              "    </tr>\n",
              "    <tr>\n",
              "      <th>984</th>\n",
              "      <td>L984</td>\n",
              "      <td>u2</td>\n",
              "      <td>m0</td>\n",
              "      <td>CAMERON</td>\n",
              "      <td>She okay?</td>\n",
              "      <td>I hope so.</td>\n",
              "    </tr>\n",
              "    <tr>\n",
              "      <th>925</th>\n",
              "      <td>L925</td>\n",
              "      <td>u0</td>\n",
              "      <td>m0</td>\n",
              "      <td>BIANCA</td>\n",
              "      <td>Let's go.</td>\n",
              "      <td>-</td>\n",
              "    </tr>\n",
              "    <tr>\n",
              "      <th>924</th>\n",
              "      <td>L924</td>\n",
              "      <td>u2</td>\n",
              "      <td>m0</td>\n",
              "      <td>CAMERON</td>\n",
              "      <td>Wow</td>\n",
              "      <td>Let's go.</td>\n",
              "    </tr>\n",
              "    <tr>\n",
              "      <th>872</th>\n",
              "      <td>L872</td>\n",
              "      <td>u0</td>\n",
              "      <td>m0</td>\n",
              "      <td>BIANCA</td>\n",
              "      <td>Okay -- you're gonna need to learn how to lie.</td>\n",
              "      <td>-</td>\n",
              "    </tr>\n",
              "    <tr>\n",
              "      <th>871</th>\n",
              "      <td>L871</td>\n",
              "      <td>u2</td>\n",
              "      <td>m0</td>\n",
              "      <td>CAMERON</td>\n",
              "      <td>No</td>\n",
              "      <td>Okay -- you're gonna need to learn how to lie.</td>\n",
              "    </tr>\n",
              "    <tr>\n",
              "      <th>870</th>\n",
              "      <td>\"L870</td>\n",
              "      <td>u0</td>\n",
              "      <td>m0</td>\n",
              "      <td>BIANCA</td>\n",
              "      <td>I'm kidding.  You know how sometimes you just ...</td>\n",
              "      <td>No</td>\n",
              "    </tr>\n",
              "    <tr>\n",
              "      <th>869</th>\n",
              "      <td>L869</td>\n",
              "      <td>u0</td>\n",
              "      <td>m0</td>\n",
              "      <td>BIANCA</td>\n",
              "      <td>Like my fear of wearing pastels?</td>\n",
              "      <td>-</td>\n",
              "    </tr>\n",
              "    <tr>\n",
              "      <th>868</th>\n",
              "      <td>\"L868</td>\n",
              "      <td>u2</td>\n",
              "      <td>m0</td>\n",
              "      <td>CAMERON</td>\n",
              "      <td>The \"\"real you\"\".\"</td>\n",
              "      <td>Like my fear of wearing pastels?</td>\n",
              "    </tr>\n",
              "    <tr>\n",
              "      <th>867</th>\n",
              "      <td>L867</td>\n",
              "      <td>u0</td>\n",
              "      <td>m0</td>\n",
              "      <td>BIANCA</td>\n",
              "      <td>What good stuff?</td>\n",
              "      <td>The \"\"real you\"\".\"</td>\n",
              "    </tr>\n",
              "    <tr>\n",
              "      <th>866</th>\n",
              "      <td>L866</td>\n",
              "      <td>u2</td>\n",
              "      <td>m0</td>\n",
              "      <td>CAMERON</td>\n",
              "      <td>I figured you'd get to the good stuff eventually.</td>\n",
              "      <td>What good stuff?</td>\n",
              "    </tr>\n",
              "    <tr>\n",
              "      <th>865</th>\n",
              "      <td>L865</td>\n",
              "      <td>u2</td>\n",
              "      <td>m0</td>\n",
              "      <td>CAMERON</td>\n",
              "      <td>Thank God!  If I had to hear one more story ab...</td>\n",
              "      <td>-</td>\n",
              "    </tr>\n",
              "    <tr>\n",
              "      <th>864</th>\n",
              "      <td>L864</td>\n",
              "      <td>u0</td>\n",
              "      <td>m0</td>\n",
              "      <td>BIANCA</td>\n",
              "      <td>Me.  This endless ...blonde babble. I'm like b...</td>\n",
              "      <td>Thank God!  If I had to hear one more story ab...</td>\n",
              "    </tr>\n",
              "    <tr>\n",
              "      <th>863</th>\n",
              "      <td>L863</td>\n",
              "      <td>u2</td>\n",
              "      <td>m0</td>\n",
              "      <td>CAMERON</td>\n",
              "      <td>What crap?</td>\n",
              "      <td>Me.  This endless ...blonde babble. I'm like b...</td>\n",
              "    </tr>\n",
              "    <tr>\n",
              "      <th>862</th>\n",
              "      <td>L862</td>\n",
              "      <td>u0</td>\n",
              "      <td>m0</td>\n",
              "      <td>BIANCA</td>\n",
              "      <td>do you listen to this crap?</td>\n",
              "      <td>What crap?</td>\n",
              "    </tr>\n",
              "    <tr>\n",
              "      <th>861</th>\n",
              "      <td>L861</td>\n",
              "      <td>u2</td>\n",
              "      <td>m0</td>\n",
              "      <td>CAMERON</td>\n",
              "      <td>No...</td>\n",
              "      <td>-</td>\n",
              "    </tr>\n",
              "    <tr>\n",
              "      <th>860</th>\n",
              "      <td>\"L860</td>\n",
              "      <td>u0</td>\n",
              "      <td>m0</td>\n",
              "      <td>BIANCA</td>\n",
              "      <td>Then Guillermo says \"\"If you go any lighter yo...</td>\n",
              "      <td>No...</td>\n",
              "    </tr>\n",
              "    <tr>\n",
              "      <th>699</th>\n",
              "      <td>L699</td>\n",
              "      <td>u2</td>\n",
              "      <td>m0</td>\n",
              "      <td>CAMERON</td>\n",
              "      <td>You always been this selfish?</td>\n",
              "      <td>-</td>\n",
              "    </tr>\n",
              "    <tr>\n",
              "      <th>698</th>\n",
              "      <td>L698</td>\n",
              "      <td>u0</td>\n",
              "      <td>m0</td>\n",
              "      <td>BIANCA</td>\n",
              "      <td>But</td>\n",
              "      <td>You always been this selfish?</td>\n",
              "    </tr>\n",
              "    <tr>\n",
              "      <th>697</th>\n",
              "      <td>L697</td>\n",
              "      <td>u2</td>\n",
              "      <td>m0</td>\n",
              "      <td>CAMERON</td>\n",
              "      <td>Then that's all you had to say.</td>\n",
              "      <td>But</td>\n",
              "    </tr>\n",
              "    <tr>\n",
              "      <th>696</th>\n",
              "      <td>L696</td>\n",
              "      <td>u0</td>\n",
              "      <td>m0</td>\n",
              "      <td>BIANCA</td>\n",
              "      <td>Well no...</td>\n",
              "      <td>Then that's all you had to say.</td>\n",
              "    </tr>\n",
              "    <tr>\n",
              "      <th>695</th>\n",
              "      <td>L695</td>\n",
              "      <td>u2</td>\n",
              "      <td>m0</td>\n",
              "      <td>CAMERON</td>\n",
              "      <td>You never wanted to go out with 'me did you?</td>\n",
              "      <td>-</td>\n",
              "    </tr>\n",
              "    <tr>\n",
              "      <th>694</th>\n",
              "      <td>L694</td>\n",
              "      <td>u0</td>\n",
              "      <td>m0</td>\n",
              "      <td>BIANCA</td>\n",
              "      <td>I was?</td>\n",
              "      <td>You never wanted to go out with 'me did you?</td>\n",
              "    </tr>\n",
              "    <tr>\n",
              "      <th>693</th>\n",
              "      <td>\"L693</td>\n",
              "      <td>u2</td>\n",
              "      <td>m0</td>\n",
              "      <td>CAMERON</td>\n",
              "      <td>I looked for you back at the party but you alw...</td>\n",
              "      <td>I was?</td>\n",
              "    </tr>\n",
              "    <tr>\n",
              "      <th>663</th>\n",
              "      <td>L663</td>\n",
              "      <td>u0</td>\n",
              "      <td>m0</td>\n",
              "      <td>BIANCA</td>\n",
              "      <td>Tons</td>\n",
              "      <td>-</td>\n",
              "    </tr>\n",
              "    <tr>\n",
              "      <th>662</th>\n",
              "      <td>L662</td>\n",
              "      <td>u2</td>\n",
              "      <td>m0</td>\n",
              "      <td>CAMERON</td>\n",
              "      <td>Have fun tonight?</td>\n",
              "      <td>Tons</td>\n",
              "    </tr>\n",
              "    <tr>\n",
              "      <th>578</th>\n",
              "      <td>L578</td>\n",
              "      <td>u2</td>\n",
              "      <td>m0</td>\n",
              "      <td>CAMERON</td>\n",
              "      <td>I believe we share an art instructor</td>\n",
              "      <td>-</td>\n",
              "    </tr>\n",
              "    <tr>\n",
              "      <th>577</th>\n",
              "      <td>L577</td>\n",
              "      <td>u0</td>\n",
              "      <td>m0</td>\n",
              "      <td>BIANCA</td>\n",
              "      <td>You know Chastity?</td>\n",
              "      <td>I believe we share an art instructor</td>\n",
              "    </tr>\n",
              "  </tbody>\n",
              "</table>\n",
              "</div>"
            ],
            "text/plain": [
              "               msg_line  ...                                              msg_2\n",
              "msg_line_clean           ...                                                   \n",
              "1045              L1045  ...                                                  -\n",
              "1044              L1044  ...                                       They do not!\n",
              "985                L985  ...                                                  -\n",
              "984                L984  ...                                         I hope so.\n",
              "925                L925  ...                                                  -\n",
              "924                L924  ...                                          Let's go.\n",
              "872                L872  ...                                                  -\n",
              "871                L871  ...     Okay -- you're gonna need to learn how to lie.\n",
              "870               \"L870  ...                                                 No\n",
              "869                L869  ...                                                  -\n",
              "868               \"L868  ...                   Like my fear of wearing pastels?\n",
              "867                L867  ...                                 The \"\"real you\"\".\"\n",
              "866                L866  ...                                   What good stuff?\n",
              "865                L865  ...                                                  -\n",
              "864                L864  ...  Thank God!  If I had to hear one more story ab...\n",
              "863                L863  ...  Me.  This endless ...blonde babble. I'm like b...\n",
              "862                L862  ...                                         What crap?\n",
              "861                L861  ...                                                  -\n",
              "860               \"L860  ...                                              No...\n",
              "699                L699  ...                                                  -\n",
              "698                L698  ...                      You always been this selfish?\n",
              "697                L697  ...                                                But\n",
              "696                L696  ...                    Then that's all you had to say.\n",
              "695                L695  ...                                                  -\n",
              "694                L694  ...       You never wanted to go out with 'me did you?\n",
              "693               \"L693  ...                                             I was?\n",
              "663                L663  ...                                                  -\n",
              "662                L662  ...                                               Tons\n",
              "578                L578  ...                                                  -\n",
              "577                L577  ...               I believe we share an art instructor\n",
              "\n",
              "[30 rows x 6 columns]"
            ]
          },
          "metadata": {
            "tags": []
          },
          "execution_count": 23
        }
      ]
    },
    {
      "cell_type": "markdown",
      "metadata": {
        "id": "4m4MaUd6-uwp"
      },
      "source": [
        "### Processing for deep learning"
      ]
    },
    {
      "cell_type": "code",
      "metadata": {
        "id": "mtY7k0fdfm3Q"
      },
      "source": [
        "#return generic answer\n",
        "def generic_answer(txt):\n",
        "  asw_list = ['talk more about it',\n",
        "              'can you explain it better?',\n",
        "              'i need to think more about it',\n",
        "              'maybe...'\n",
        "              ]\n",
        "  if txt == '-':\n",
        "    return random.choice(asw_list)\n",
        "  return txt"
      ],
      "execution_count": 24,
      "outputs": []
    },
    {
      "cell_type": "code",
      "metadata": {
        "id": "sMF4FXzJhFaB"
      },
      "source": [
        "#seting a generic answer to the messages without answer\n",
        "messages['msg_2'] = [generic_answer(msg) for msg in messages['msg_2']]"
      ],
      "execution_count": 25,
      "outputs": []
    },
    {
      "cell_type": "code",
      "metadata": {
        "id": "jRbF90gZ-uwt",
        "outputId": "7aa899ee-e8f9-4e1a-a72d-e7dcd7a9a609",
        "colab": {
          "base_uri": "https://localhost:8080/",
          "height": 978
        }
      },
      "source": [
        "messages.head(30)"
      ],
      "execution_count": 26,
      "outputs": [
        {
          "output_type": "execute_result",
          "data": {
            "text/html": [
              "<div>\n",
              "<style scoped>\n",
              "    .dataframe tbody tr th:only-of-type {\n",
              "        vertical-align: middle;\n",
              "    }\n",
              "\n",
              "    .dataframe tbody tr th {\n",
              "        vertical-align: top;\n",
              "    }\n",
              "\n",
              "    .dataframe thead th {\n",
              "        text-align: right;\n",
              "    }\n",
              "</style>\n",
              "<table border=\"1\" class=\"dataframe\">\n",
              "  <thead>\n",
              "    <tr style=\"text-align: right;\">\n",
              "      <th></th>\n",
              "      <th>msg_line</th>\n",
              "      <th>user1_id</th>\n",
              "      <th>movie_id</th>\n",
              "      <th>user_name</th>\n",
              "      <th>msg</th>\n",
              "      <th>msg_2</th>\n",
              "    </tr>\n",
              "    <tr>\n",
              "      <th>msg_line_clean</th>\n",
              "      <th></th>\n",
              "      <th></th>\n",
              "      <th></th>\n",
              "      <th></th>\n",
              "      <th></th>\n",
              "      <th></th>\n",
              "    </tr>\n",
              "  </thead>\n",
              "  <tbody>\n",
              "    <tr>\n",
              "      <th>1045</th>\n",
              "      <td>L1045</td>\n",
              "      <td>u0</td>\n",
              "      <td>m0</td>\n",
              "      <td>BIANCA</td>\n",
              "      <td>They do not!</td>\n",
              "      <td>talk more about it</td>\n",
              "    </tr>\n",
              "    <tr>\n",
              "      <th>1044</th>\n",
              "      <td>L1044</td>\n",
              "      <td>u2</td>\n",
              "      <td>m0</td>\n",
              "      <td>CAMERON</td>\n",
              "      <td>They do to!</td>\n",
              "      <td>They do not!</td>\n",
              "    </tr>\n",
              "    <tr>\n",
              "      <th>985</th>\n",
              "      <td>L985</td>\n",
              "      <td>u0</td>\n",
              "      <td>m0</td>\n",
              "      <td>BIANCA</td>\n",
              "      <td>I hope so.</td>\n",
              "      <td>talk more about it</td>\n",
              "    </tr>\n",
              "    <tr>\n",
              "      <th>984</th>\n",
              "      <td>L984</td>\n",
              "      <td>u2</td>\n",
              "      <td>m0</td>\n",
              "      <td>CAMERON</td>\n",
              "      <td>She okay?</td>\n",
              "      <td>I hope so.</td>\n",
              "    </tr>\n",
              "    <tr>\n",
              "      <th>925</th>\n",
              "      <td>L925</td>\n",
              "      <td>u0</td>\n",
              "      <td>m0</td>\n",
              "      <td>BIANCA</td>\n",
              "      <td>Let's go.</td>\n",
              "      <td>can you explain it better?</td>\n",
              "    </tr>\n",
              "    <tr>\n",
              "      <th>924</th>\n",
              "      <td>L924</td>\n",
              "      <td>u2</td>\n",
              "      <td>m0</td>\n",
              "      <td>CAMERON</td>\n",
              "      <td>Wow</td>\n",
              "      <td>Let's go.</td>\n",
              "    </tr>\n",
              "    <tr>\n",
              "      <th>872</th>\n",
              "      <td>L872</td>\n",
              "      <td>u0</td>\n",
              "      <td>m0</td>\n",
              "      <td>BIANCA</td>\n",
              "      <td>Okay -- you're gonna need to learn how to lie.</td>\n",
              "      <td>can you explain it better?</td>\n",
              "    </tr>\n",
              "    <tr>\n",
              "      <th>871</th>\n",
              "      <td>L871</td>\n",
              "      <td>u2</td>\n",
              "      <td>m0</td>\n",
              "      <td>CAMERON</td>\n",
              "      <td>No</td>\n",
              "      <td>Okay -- you're gonna need to learn how to lie.</td>\n",
              "    </tr>\n",
              "    <tr>\n",
              "      <th>870</th>\n",
              "      <td>\"L870</td>\n",
              "      <td>u0</td>\n",
              "      <td>m0</td>\n",
              "      <td>BIANCA</td>\n",
              "      <td>I'm kidding.  You know how sometimes you just ...</td>\n",
              "      <td>No</td>\n",
              "    </tr>\n",
              "    <tr>\n",
              "      <th>869</th>\n",
              "      <td>L869</td>\n",
              "      <td>u0</td>\n",
              "      <td>m0</td>\n",
              "      <td>BIANCA</td>\n",
              "      <td>Like my fear of wearing pastels?</td>\n",
              "      <td>maybe...</td>\n",
              "    </tr>\n",
              "    <tr>\n",
              "      <th>868</th>\n",
              "      <td>\"L868</td>\n",
              "      <td>u2</td>\n",
              "      <td>m0</td>\n",
              "      <td>CAMERON</td>\n",
              "      <td>The \"\"real you\"\".\"</td>\n",
              "      <td>Like my fear of wearing pastels?</td>\n",
              "    </tr>\n",
              "    <tr>\n",
              "      <th>867</th>\n",
              "      <td>L867</td>\n",
              "      <td>u0</td>\n",
              "      <td>m0</td>\n",
              "      <td>BIANCA</td>\n",
              "      <td>What good stuff?</td>\n",
              "      <td>The \"\"real you\"\".\"</td>\n",
              "    </tr>\n",
              "    <tr>\n",
              "      <th>866</th>\n",
              "      <td>L866</td>\n",
              "      <td>u2</td>\n",
              "      <td>m0</td>\n",
              "      <td>CAMERON</td>\n",
              "      <td>I figured you'd get to the good stuff eventually.</td>\n",
              "      <td>What good stuff?</td>\n",
              "    </tr>\n",
              "    <tr>\n",
              "      <th>865</th>\n",
              "      <td>L865</td>\n",
              "      <td>u2</td>\n",
              "      <td>m0</td>\n",
              "      <td>CAMERON</td>\n",
              "      <td>Thank God!  If I had to hear one more story ab...</td>\n",
              "      <td>i need to think more about it</td>\n",
              "    </tr>\n",
              "    <tr>\n",
              "      <th>864</th>\n",
              "      <td>L864</td>\n",
              "      <td>u0</td>\n",
              "      <td>m0</td>\n",
              "      <td>BIANCA</td>\n",
              "      <td>Me.  This endless ...blonde babble. I'm like b...</td>\n",
              "      <td>Thank God!  If I had to hear one more story ab...</td>\n",
              "    </tr>\n",
              "    <tr>\n",
              "      <th>863</th>\n",
              "      <td>L863</td>\n",
              "      <td>u2</td>\n",
              "      <td>m0</td>\n",
              "      <td>CAMERON</td>\n",
              "      <td>What crap?</td>\n",
              "      <td>Me.  This endless ...blonde babble. I'm like b...</td>\n",
              "    </tr>\n",
              "    <tr>\n",
              "      <th>862</th>\n",
              "      <td>L862</td>\n",
              "      <td>u0</td>\n",
              "      <td>m0</td>\n",
              "      <td>BIANCA</td>\n",
              "      <td>do you listen to this crap?</td>\n",
              "      <td>What crap?</td>\n",
              "    </tr>\n",
              "    <tr>\n",
              "      <th>861</th>\n",
              "      <td>L861</td>\n",
              "      <td>u2</td>\n",
              "      <td>m0</td>\n",
              "      <td>CAMERON</td>\n",
              "      <td>No...</td>\n",
              "      <td>talk more about it</td>\n",
              "    </tr>\n",
              "    <tr>\n",
              "      <th>860</th>\n",
              "      <td>\"L860</td>\n",
              "      <td>u0</td>\n",
              "      <td>m0</td>\n",
              "      <td>BIANCA</td>\n",
              "      <td>Then Guillermo says \"\"If you go any lighter yo...</td>\n",
              "      <td>No...</td>\n",
              "    </tr>\n",
              "    <tr>\n",
              "      <th>699</th>\n",
              "      <td>L699</td>\n",
              "      <td>u2</td>\n",
              "      <td>m0</td>\n",
              "      <td>CAMERON</td>\n",
              "      <td>You always been this selfish?</td>\n",
              "      <td>maybe...</td>\n",
              "    </tr>\n",
              "    <tr>\n",
              "      <th>698</th>\n",
              "      <td>L698</td>\n",
              "      <td>u0</td>\n",
              "      <td>m0</td>\n",
              "      <td>BIANCA</td>\n",
              "      <td>But</td>\n",
              "      <td>You always been this selfish?</td>\n",
              "    </tr>\n",
              "    <tr>\n",
              "      <th>697</th>\n",
              "      <td>L697</td>\n",
              "      <td>u2</td>\n",
              "      <td>m0</td>\n",
              "      <td>CAMERON</td>\n",
              "      <td>Then that's all you had to say.</td>\n",
              "      <td>But</td>\n",
              "    </tr>\n",
              "    <tr>\n",
              "      <th>696</th>\n",
              "      <td>L696</td>\n",
              "      <td>u0</td>\n",
              "      <td>m0</td>\n",
              "      <td>BIANCA</td>\n",
              "      <td>Well no...</td>\n",
              "      <td>Then that's all you had to say.</td>\n",
              "    </tr>\n",
              "    <tr>\n",
              "      <th>695</th>\n",
              "      <td>L695</td>\n",
              "      <td>u2</td>\n",
              "      <td>m0</td>\n",
              "      <td>CAMERON</td>\n",
              "      <td>You never wanted to go out with 'me did you?</td>\n",
              "      <td>talk more about it</td>\n",
              "    </tr>\n",
              "    <tr>\n",
              "      <th>694</th>\n",
              "      <td>L694</td>\n",
              "      <td>u0</td>\n",
              "      <td>m0</td>\n",
              "      <td>BIANCA</td>\n",
              "      <td>I was?</td>\n",
              "      <td>You never wanted to go out with 'me did you?</td>\n",
              "    </tr>\n",
              "    <tr>\n",
              "      <th>693</th>\n",
              "      <td>\"L693</td>\n",
              "      <td>u2</td>\n",
              "      <td>m0</td>\n",
              "      <td>CAMERON</td>\n",
              "      <td>I looked for you back at the party but you alw...</td>\n",
              "      <td>I was?</td>\n",
              "    </tr>\n",
              "    <tr>\n",
              "      <th>663</th>\n",
              "      <td>L663</td>\n",
              "      <td>u0</td>\n",
              "      <td>m0</td>\n",
              "      <td>BIANCA</td>\n",
              "      <td>Tons</td>\n",
              "      <td>can you explain it better?</td>\n",
              "    </tr>\n",
              "    <tr>\n",
              "      <th>662</th>\n",
              "      <td>L662</td>\n",
              "      <td>u2</td>\n",
              "      <td>m0</td>\n",
              "      <td>CAMERON</td>\n",
              "      <td>Have fun tonight?</td>\n",
              "      <td>Tons</td>\n",
              "    </tr>\n",
              "    <tr>\n",
              "      <th>578</th>\n",
              "      <td>L578</td>\n",
              "      <td>u2</td>\n",
              "      <td>m0</td>\n",
              "      <td>CAMERON</td>\n",
              "      <td>I believe we share an art instructor</td>\n",
              "      <td>i need to think more about it</td>\n",
              "    </tr>\n",
              "    <tr>\n",
              "      <th>577</th>\n",
              "      <td>L577</td>\n",
              "      <td>u0</td>\n",
              "      <td>m0</td>\n",
              "      <td>BIANCA</td>\n",
              "      <td>You know Chastity?</td>\n",
              "      <td>I believe we share an art instructor</td>\n",
              "    </tr>\n",
              "  </tbody>\n",
              "</table>\n",
              "</div>"
            ],
            "text/plain": [
              "               msg_line  ...                                              msg_2\n",
              "msg_line_clean           ...                                                   \n",
              "1045              L1045  ...                                 talk more about it\n",
              "1044              L1044  ...                                       They do not!\n",
              "985                L985  ...                                 talk more about it\n",
              "984                L984  ...                                         I hope so.\n",
              "925                L925  ...                         can you explain it better?\n",
              "924                L924  ...                                          Let's go.\n",
              "872                L872  ...                         can you explain it better?\n",
              "871                L871  ...     Okay -- you're gonna need to learn how to lie.\n",
              "870               \"L870  ...                                                 No\n",
              "869                L869  ...                                           maybe...\n",
              "868               \"L868  ...                   Like my fear of wearing pastels?\n",
              "867                L867  ...                                 The \"\"real you\"\".\"\n",
              "866                L866  ...                                   What good stuff?\n",
              "865                L865  ...                      i need to think more about it\n",
              "864                L864  ...  Thank God!  If I had to hear one more story ab...\n",
              "863                L863  ...  Me.  This endless ...blonde babble. I'm like b...\n",
              "862                L862  ...                                         What crap?\n",
              "861                L861  ...                                 talk more about it\n",
              "860               \"L860  ...                                              No...\n",
              "699                L699  ...                                           maybe...\n",
              "698                L698  ...                      You always been this selfish?\n",
              "697                L697  ...                                                But\n",
              "696                L696  ...                    Then that's all you had to say.\n",
              "695                L695  ...                                 talk more about it\n",
              "694                L694  ...       You never wanted to go out with 'me did you?\n",
              "693               \"L693  ...                                             I was?\n",
              "663                L663  ...                         can you explain it better?\n",
              "662                L662  ...                                               Tons\n",
              "578                L578  ...                      i need to think more about it\n",
              "577                L577  ...               I believe we share an art instructor\n",
              "\n",
              "[30 rows x 6 columns]"
            ]
          },
          "metadata": {
            "tags": []
          },
          "execution_count": 26
        }
      ]
    },
    {
      "cell_type": "code",
      "metadata": {
        "id": "2g40gO-t-uww"
      },
      "source": [
        "lemmatizer = WordNetLemmatizer()\n",
        "def pre_processamento_texto(corpus):\n",
        "    #remove duplicated spaces\n",
        "    corpus_alt = re.sub(r' +', ' ', corpus)\n",
        "    #capitalizacao\n",
        "    corpus_alt = corpus_alt.lower()\n",
        "    #lammatization\n",
        "    sentence_words = lemmatizer.lemmatize(corpus_alt)\n",
        "    #remover pontuacoes\n",
        "    #corpus_alt = [t for t in corpus_alt if t not in string.punctuation]\n",
        "    #corpus_alt = ''.join(corpus_alt)\n",
        "\n",
        "    return corpus_alt"
      ],
      "execution_count": 27,
      "outputs": []
    },
    {
      "cell_type": "code",
      "metadata": {
        "id": "bd28LNzhbjQ-"
      },
      "source": [
        "#cleaning the messages\n",
        "messages[\"msg\"] = [pre_processamento_texto(str(msg)) for msg in messages[\"msg\"]]\n",
        "messages[\"msg_2\"] = [pre_processamento_texto(str(msg)) for msg in messages[\"msg_2\"]]"
      ],
      "execution_count": 28,
      "outputs": []
    },
    {
      "cell_type": "code",
      "metadata": {
        "id": "IA81LFjiey2P",
        "outputId": "c1a3974a-d71e-4d22-8dd5-4635aea309aa",
        "colab": {
          "base_uri": "https://localhost:8080/",
          "height": 378
        }
      },
      "source": [
        "messages.head(10)"
      ],
      "execution_count": 29,
      "outputs": [
        {
          "output_type": "execute_result",
          "data": {
            "text/html": [
              "<div>\n",
              "<style scoped>\n",
              "    .dataframe tbody tr th:only-of-type {\n",
              "        vertical-align: middle;\n",
              "    }\n",
              "\n",
              "    .dataframe tbody tr th {\n",
              "        vertical-align: top;\n",
              "    }\n",
              "\n",
              "    .dataframe thead th {\n",
              "        text-align: right;\n",
              "    }\n",
              "</style>\n",
              "<table border=\"1\" class=\"dataframe\">\n",
              "  <thead>\n",
              "    <tr style=\"text-align: right;\">\n",
              "      <th></th>\n",
              "      <th>msg_line</th>\n",
              "      <th>user1_id</th>\n",
              "      <th>movie_id</th>\n",
              "      <th>user_name</th>\n",
              "      <th>msg</th>\n",
              "      <th>msg_2</th>\n",
              "    </tr>\n",
              "    <tr>\n",
              "      <th>msg_line_clean</th>\n",
              "      <th></th>\n",
              "      <th></th>\n",
              "      <th></th>\n",
              "      <th></th>\n",
              "      <th></th>\n",
              "      <th></th>\n",
              "    </tr>\n",
              "  </thead>\n",
              "  <tbody>\n",
              "    <tr>\n",
              "      <th>1045</th>\n",
              "      <td>L1045</td>\n",
              "      <td>u0</td>\n",
              "      <td>m0</td>\n",
              "      <td>BIANCA</td>\n",
              "      <td>they do not!</td>\n",
              "      <td>talk more about it</td>\n",
              "    </tr>\n",
              "    <tr>\n",
              "      <th>1044</th>\n",
              "      <td>L1044</td>\n",
              "      <td>u2</td>\n",
              "      <td>m0</td>\n",
              "      <td>CAMERON</td>\n",
              "      <td>they do to!</td>\n",
              "      <td>they do not!</td>\n",
              "    </tr>\n",
              "    <tr>\n",
              "      <th>985</th>\n",
              "      <td>L985</td>\n",
              "      <td>u0</td>\n",
              "      <td>m0</td>\n",
              "      <td>BIANCA</td>\n",
              "      <td>i hope so.</td>\n",
              "      <td>talk more about it</td>\n",
              "    </tr>\n",
              "    <tr>\n",
              "      <th>984</th>\n",
              "      <td>L984</td>\n",
              "      <td>u2</td>\n",
              "      <td>m0</td>\n",
              "      <td>CAMERON</td>\n",
              "      <td>she okay?</td>\n",
              "      <td>i hope so.</td>\n",
              "    </tr>\n",
              "    <tr>\n",
              "      <th>925</th>\n",
              "      <td>L925</td>\n",
              "      <td>u0</td>\n",
              "      <td>m0</td>\n",
              "      <td>BIANCA</td>\n",
              "      <td>let's go.</td>\n",
              "      <td>can you explain it better?</td>\n",
              "    </tr>\n",
              "    <tr>\n",
              "      <th>924</th>\n",
              "      <td>L924</td>\n",
              "      <td>u2</td>\n",
              "      <td>m0</td>\n",
              "      <td>CAMERON</td>\n",
              "      <td>wow</td>\n",
              "      <td>let's go.</td>\n",
              "    </tr>\n",
              "    <tr>\n",
              "      <th>872</th>\n",
              "      <td>L872</td>\n",
              "      <td>u0</td>\n",
              "      <td>m0</td>\n",
              "      <td>BIANCA</td>\n",
              "      <td>okay -- you're gonna need to learn how to lie.</td>\n",
              "      <td>can you explain it better?</td>\n",
              "    </tr>\n",
              "    <tr>\n",
              "      <th>871</th>\n",
              "      <td>L871</td>\n",
              "      <td>u2</td>\n",
              "      <td>m0</td>\n",
              "      <td>CAMERON</td>\n",
              "      <td>no</td>\n",
              "      <td>okay -- you're gonna need to learn how to lie.</td>\n",
              "    </tr>\n",
              "    <tr>\n",
              "      <th>870</th>\n",
              "      <td>\"L870</td>\n",
              "      <td>u0</td>\n",
              "      <td>m0</td>\n",
              "      <td>BIANCA</td>\n",
              "      <td>i'm kidding. you know how sometimes you just b...</td>\n",
              "      <td>no</td>\n",
              "    </tr>\n",
              "    <tr>\n",
              "      <th>869</th>\n",
              "      <td>L869</td>\n",
              "      <td>u0</td>\n",
              "      <td>m0</td>\n",
              "      <td>BIANCA</td>\n",
              "      <td>like my fear of wearing pastels?</td>\n",
              "      <td>maybe...</td>\n",
              "    </tr>\n",
              "  </tbody>\n",
              "</table>\n",
              "</div>"
            ],
            "text/plain": [
              "               msg_line  ...                                           msg_2\n",
              "msg_line_clean           ...                                                \n",
              "1045              L1045  ...                              talk more about it\n",
              "1044              L1044  ...                                    they do not!\n",
              "985                L985  ...                              talk more about it\n",
              "984                L984  ...                                      i hope so.\n",
              "925                L925  ...                      can you explain it better?\n",
              "924                L924  ...                                       let's go.\n",
              "872                L872  ...                      can you explain it better?\n",
              "871                L871  ...  okay -- you're gonna need to learn how to lie.\n",
              "870               \"L870  ...                                              no\n",
              "869                L869  ...                                        maybe...\n",
              "\n",
              "[10 rows x 6 columns]"
            ]
          },
          "metadata": {
            "tags": []
          },
          "execution_count": 29
        }
      ]
    },
    {
      "cell_type": "code",
      "metadata": {
        "id": "63E59l8g-uw0"
      },
      "source": [
        "#setting the sample data for tests\n",
        "i = 0\n",
        "n = 2000"
      ],
      "execution_count": 30,
      "outputs": []
    },
    {
      "cell_type": "code",
      "metadata": {
        "id": "BOMZTuOE-uw5"
      },
      "source": [
        "X_train, X_test, y_train, y_test = train_test_split(messages['msg'][i:n].astype(str), messages['msg_2'][i:n].astype(str), test_size=0.33, random_state=42)"
      ],
      "execution_count": 31,
      "outputs": []
    },
    {
      "cell_type": "code",
      "metadata": {
        "id": "cUoQCBFQ-uw9"
      },
      "source": [
        "#dataframe with sample X and y\n",
        "df_small = pd.DataFrame()"
      ],
      "execution_count": 32,
      "outputs": []
    },
    {
      "cell_type": "code",
      "metadata": {
        "id": "L2jt59zU-uxA"
      },
      "source": [
        "df_small['msg'] = X_train"
      ],
      "execution_count": 33,
      "outputs": []
    },
    {
      "cell_type": "code",
      "metadata": {
        "id": "MeU7MsGf-uxK"
      },
      "source": [
        "df_small['msg_2'] = y_train"
      ],
      "execution_count": 34,
      "outputs": []
    },
    {
      "cell_type": "code",
      "metadata": {
        "id": "axU_KyhD-uxO"
      },
      "source": [
        "tokenizer = Tokenizer()\n",
        "# fit the tokenizer on the documents\n",
        "tokenizer.fit_on_texts(X_train)"
      ],
      "execution_count": 35,
      "outputs": []
    },
    {
      "cell_type": "code",
      "metadata": {
        "id": "RW7GzloxvSRu",
        "outputId": "115c5c82-fa02-411c-feb4-60165e82249b",
        "colab": {
          "base_uri": "https://localhost:8080/"
        }
      },
      "source": [
        "X_train"
      ],
      "execution_count": 36,
      "outputs": [
        {
          "output_type": "execute_result",
          "data": {
            "text/plain": [
              "msg_line_clean\n",
              "573                                                 joey.\n",
              "2204    you don't know anything! listen colon these ar...\n",
              "3169                              what are you asking me?\n",
              "132                                    an attempted slit.\n",
              "3158    the men are out of quarters - practicing putti...\n",
              "                              ...                        \n",
              "2976         do you have any czech girls working for you?\n",
              "3036    um...now is not a good time okay. detective ja...\n",
              "1947                             god... that's in a week!\n",
              "2638    because i don't like your ugly language. i hea...\n",
              "2980                                 what are you saying?\n",
              "Name: msg, Length: 1340, dtype: object"
            ]
          },
          "metadata": {
            "tags": []
          },
          "execution_count": 36
        }
      ]
    },
    {
      "cell_type": "code",
      "metadata": {
        "id": "6yg81Oaw-uxU"
      },
      "source": [
        "# encode training data set\n",
        "X_train_token = tokenizer.texts_to_matrix(X_train)\n",
        "# encode training data set\n",
        "y_train_token = tokenizer.texts_to_matrix(y_train)"
      ],
      "execution_count": 37,
      "outputs": []
    },
    {
      "cell_type": "code",
      "metadata": {
        "id": "0R3fS3_M1M8b",
        "outputId": "cfecb0b1-184a-4a95-f6a3-c86082ebfdd8",
        "colab": {
          "base_uri": "https://localhost:8080/"
        }
      },
      "source": [
        "X_train_token"
      ],
      "execution_count": 38,
      "outputs": [
        {
          "output_type": "execute_result",
          "data": {
            "text/plain": [
              "array([[0., 0., 0., ..., 0., 0., 0.],\n",
              "       [0., 1., 0., ..., 0., 0., 0.],\n",
              "       [0., 1., 0., ..., 0., 0., 0.],\n",
              "       ...,\n",
              "       [0., 0., 0., ..., 0., 0., 0.],\n",
              "       [0., 1., 1., ..., 0., 1., 1.],\n",
              "       [0., 1., 0., ..., 0., 0., 0.]])"
            ]
          },
          "metadata": {
            "tags": []
          },
          "execution_count": 38
        }
      ]
    },
    {
      "cell_type": "code",
      "metadata": {
        "id": "6o_hnoSlyPCC",
        "outputId": "514222d8-da1b-4ccf-89d6-fc2220d2cdeb",
        "colab": {
          "base_uri": "https://localhost:8080/"
        }
      },
      "source": [
        "X_train_token.shape"
      ],
      "execution_count": 39,
      "outputs": [
        {
          "output_type": "execute_result",
          "data": {
            "text/plain": [
              "(1340, 2348)"
            ]
          },
          "metadata": {
            "tags": []
          },
          "execution_count": 39
        }
      ]
    },
    {
      "cell_type": "code",
      "metadata": {
        "id": "IfbFpgVb-uxY"
      },
      "source": [
        "#set the number of rows of X_train\n",
        "num_rows, num_cols = X_train_token.shape"
      ],
      "execution_count": 40,
      "outputs": []
    },
    {
      "cell_type": "code",
      "metadata": {
        "id": "PHXAzOj1-uxc",
        "outputId": "40866e02-c8db-49c8-abcd-e92c7f8a209a",
        "colab": {
          "base_uri": "https://localhost:8080/"
        }
      },
      "source": [
        "#create a label for each message using the similarity of the message and its answer\n",
        "list_similarity = []\n",
        "for i in range(num_rows):\n",
        "    d = distance.cosine(X_train_token[i], y_train_token[i])\n",
        "    if math.isnan(d):\n",
        "        d = 0.0\n",
        "    list_similarity.append(d*10)\n",
        "    i+=0"
      ],
      "execution_count": 41,
      "outputs": [
        {
          "output_type": "stream",
          "text": [
            "/usr/local/lib/python3.6/dist-packages/scipy/spatial/distance.py:720: RuntimeWarning: invalid value encountered in double_scalars\n",
            "  dist = 1.0 - uv / np.sqrt(uu * vv)\n"
          ],
          "name": "stderr"
        }
      ]
    },
    {
      "cell_type": "code",
      "metadata": {
        "id": "hS9pbXVl-uxf"
      },
      "source": [
        "#creating a column with the target\n",
        "df_small['similarity'] = list_similarity"
      ],
      "execution_count": 42,
      "outputs": []
    },
    {
      "cell_type": "code",
      "metadata": {
        "id": "l62lblRY-uxp",
        "outputId": "32a9f276-52a6-4a62-e9e4-a469a7a28560",
        "colab": {
          "base_uri": "https://localhost:8080/",
          "height": 437
        }
      },
      "source": [
        "df_small = df_small.sort_index()\n",
        "df_small"
      ],
      "execution_count": 43,
      "outputs": [
        {
          "output_type": "execute_result",
          "data": {
            "text/html": [
              "<div>\n",
              "<style scoped>\n",
              "    .dataframe tbody tr th:only-of-type {\n",
              "        vertical-align: middle;\n",
              "    }\n",
              "\n",
              "    .dataframe tbody tr th {\n",
              "        vertical-align: top;\n",
              "    }\n",
              "\n",
              "    .dataframe thead th {\n",
              "        text-align: right;\n",
              "    }\n",
              "</style>\n",
              "<table border=\"1\" class=\"dataframe\">\n",
              "  <thead>\n",
              "    <tr style=\"text-align: right;\">\n",
              "      <th></th>\n",
              "      <th>msg</th>\n",
              "      <th>msg_2</th>\n",
              "      <th>similarity</th>\n",
              "    </tr>\n",
              "    <tr>\n",
              "      <th>msg_line_clean</th>\n",
              "      <th></th>\n",
              "      <th></th>\n",
              "      <th></th>\n",
              "    </tr>\n",
              "  </thead>\n",
              "  <tbody>\n",
              "    <tr>\n",
              "      <th>49</th>\n",
              "      <td>did you change your hair?</td>\n",
              "      <td>no.</td>\n",
              "      <td>10.000000</td>\n",
              "    </tr>\n",
              "    <tr>\n",
              "      <th>50</th>\n",
              "      <td>no.</td>\n",
              "      <td>you might wanna think about it</td>\n",
              "      <td>10.000000</td>\n",
              "    </tr>\n",
              "    <tr>\n",
              "      <th>51</th>\n",
              "      <td>you might wanna think about it</td>\n",
              "      <td>talk more about it</td>\n",
              "      <td>5.917517</td>\n",
              "    </tr>\n",
              "    <tr>\n",
              "      <th>59</th>\n",
              "      <td>i missed you.</td>\n",
              "      <td>it says here you exposed yourself to a group o...</td>\n",
              "      <td>8.333333</td>\n",
              "    </tr>\n",
              "    <tr>\n",
              "      <th>60</th>\n",
              "      <td>it says here you exposed yourself to a group o...</td>\n",
              "      <td>it was a bratwurst. i was eating lunch.</td>\n",
              "      <td>7.817821</td>\n",
              "    </tr>\n",
              "    <tr>\n",
              "      <th>...</th>\n",
              "      <td>...</td>\n",
              "      <td>...</td>\n",
              "      <td>...</td>\n",
              "    </tr>\n",
              "    <tr>\n",
              "      <th>5380</th>\n",
              "      <td>you are an awesomely weird cop. sure wish ther...</td>\n",
              "      <td>no you don't. if i ever get word of you steppi...</td>\n",
              "      <td>9.440983</td>\n",
              "    </tr>\n",
              "    <tr>\n",
              "      <th>5381</th>\n",
              "      <td>no you don't. if i ever get word of you steppi...</td>\n",
              "      <td>spare met jack. i'm into legit investments fro...</td>\n",
              "      <td>9.325800</td>\n",
              "    </tr>\n",
              "    <tr>\n",
              "      <th>5382</th>\n",
              "      <td>spare met jack. i'm into legit investments fro...</td>\n",
              "      <td>talk more about it</td>\n",
              "      <td>10.000000</td>\n",
              "    </tr>\n",
              "    <tr>\n",
              "      <th>5383</th>\n",
              "      <td>thanks.</td>\n",
              "      <td>no trouble jack. but listen suppose i stay a c...</td>\n",
              "      <td>10.000000</td>\n",
              "    </tr>\n",
              "    <tr>\n",
              "      <th>5384</th>\n",
              "      <td>no trouble jack. but listen suppose i stay a c...</td>\n",
              "      <td>i need to think more about it</td>\n",
              "      <td>9.132890</td>\n",
              "    </tr>\n",
              "  </tbody>\n",
              "</table>\n",
              "<p>1340 rows × 3 columns</p>\n",
              "</div>"
            ],
            "text/plain": [
              "                                                              msg  ... similarity\n",
              "msg_line_clean                                                     ...           \n",
              "49                                      did you change your hair?  ...  10.000000\n",
              "50                                                            no.  ...  10.000000\n",
              "51                                 you might wanna think about it  ...   5.917517\n",
              "59                                                  i missed you.  ...   8.333333\n",
              "60              it says here you exposed yourself to a group o...  ...   7.817821\n",
              "...                                                           ...  ...        ...\n",
              "5380            you are an awesomely weird cop. sure wish ther...  ...   9.440983\n",
              "5381            no you don't. if i ever get word of you steppi...  ...   9.325800\n",
              "5382            spare met jack. i'm into legit investments fro...  ...  10.000000\n",
              "5383                                                      thanks.  ...  10.000000\n",
              "5384            no trouble jack. but listen suppose i stay a c...  ...   9.132890\n",
              "\n",
              "[1340 rows x 3 columns]"
            ]
          },
          "metadata": {
            "tags": []
          },
          "execution_count": 43
        }
      ]
    },
    {
      "cell_type": "code",
      "metadata": {
        "id": "t31xUcp6o75P",
        "outputId": "e1a66721-e98c-4167-e8fd-5cf4a8ac1c7e",
        "colab": {
          "base_uri": "https://localhost:8080/",
          "height": 437
        }
      },
      "source": [
        "#changing the target to integer\n",
        "#df_small = df_small.round({'similarity': 0})\n",
        "df_small = df_small.astype({'similarity': 'int32'})\n",
        "df_small"
      ],
      "execution_count": 44,
      "outputs": [
        {
          "output_type": "execute_result",
          "data": {
            "text/html": [
              "<div>\n",
              "<style scoped>\n",
              "    .dataframe tbody tr th:only-of-type {\n",
              "        vertical-align: middle;\n",
              "    }\n",
              "\n",
              "    .dataframe tbody tr th {\n",
              "        vertical-align: top;\n",
              "    }\n",
              "\n",
              "    .dataframe thead th {\n",
              "        text-align: right;\n",
              "    }\n",
              "</style>\n",
              "<table border=\"1\" class=\"dataframe\">\n",
              "  <thead>\n",
              "    <tr style=\"text-align: right;\">\n",
              "      <th></th>\n",
              "      <th>msg</th>\n",
              "      <th>msg_2</th>\n",
              "      <th>similarity</th>\n",
              "    </tr>\n",
              "    <tr>\n",
              "      <th>msg_line_clean</th>\n",
              "      <th></th>\n",
              "      <th></th>\n",
              "      <th></th>\n",
              "    </tr>\n",
              "  </thead>\n",
              "  <tbody>\n",
              "    <tr>\n",
              "      <th>49</th>\n",
              "      <td>did you change your hair?</td>\n",
              "      <td>no.</td>\n",
              "      <td>10</td>\n",
              "    </tr>\n",
              "    <tr>\n",
              "      <th>50</th>\n",
              "      <td>no.</td>\n",
              "      <td>you might wanna think about it</td>\n",
              "      <td>10</td>\n",
              "    </tr>\n",
              "    <tr>\n",
              "      <th>51</th>\n",
              "      <td>you might wanna think about it</td>\n",
              "      <td>talk more about it</td>\n",
              "      <td>5</td>\n",
              "    </tr>\n",
              "    <tr>\n",
              "      <th>59</th>\n",
              "      <td>i missed you.</td>\n",
              "      <td>it says here you exposed yourself to a group o...</td>\n",
              "      <td>8</td>\n",
              "    </tr>\n",
              "    <tr>\n",
              "      <th>60</th>\n",
              "      <td>it says here you exposed yourself to a group o...</td>\n",
              "      <td>it was a bratwurst. i was eating lunch.</td>\n",
              "      <td>7</td>\n",
              "    </tr>\n",
              "    <tr>\n",
              "      <th>...</th>\n",
              "      <td>...</td>\n",
              "      <td>...</td>\n",
              "      <td>...</td>\n",
              "    </tr>\n",
              "    <tr>\n",
              "      <th>5380</th>\n",
              "      <td>you are an awesomely weird cop. sure wish ther...</td>\n",
              "      <td>no you don't. if i ever get word of you steppi...</td>\n",
              "      <td>9</td>\n",
              "    </tr>\n",
              "    <tr>\n",
              "      <th>5381</th>\n",
              "      <td>no you don't. if i ever get word of you steppi...</td>\n",
              "      <td>spare met jack. i'm into legit investments fro...</td>\n",
              "      <td>9</td>\n",
              "    </tr>\n",
              "    <tr>\n",
              "      <th>5382</th>\n",
              "      <td>spare met jack. i'm into legit investments fro...</td>\n",
              "      <td>talk more about it</td>\n",
              "      <td>10</td>\n",
              "    </tr>\n",
              "    <tr>\n",
              "      <th>5383</th>\n",
              "      <td>thanks.</td>\n",
              "      <td>no trouble jack. but listen suppose i stay a c...</td>\n",
              "      <td>10</td>\n",
              "    </tr>\n",
              "    <tr>\n",
              "      <th>5384</th>\n",
              "      <td>no trouble jack. but listen suppose i stay a c...</td>\n",
              "      <td>i need to think more about it</td>\n",
              "      <td>9</td>\n",
              "    </tr>\n",
              "  </tbody>\n",
              "</table>\n",
              "<p>1340 rows × 3 columns</p>\n",
              "</div>"
            ],
            "text/plain": [
              "                                                              msg  ... similarity\n",
              "msg_line_clean                                                     ...           \n",
              "49                                      did you change your hair?  ...         10\n",
              "50                                                            no.  ...         10\n",
              "51                                 you might wanna think about it  ...          5\n",
              "59                                                  i missed you.  ...          8\n",
              "60              it says here you exposed yourself to a group o...  ...          7\n",
              "...                                                           ...  ...        ...\n",
              "5380            you are an awesomely weird cop. sure wish ther...  ...          9\n",
              "5381            no you don't. if i ever get word of you steppi...  ...          9\n",
              "5382            spare met jack. i'm into legit investments fro...  ...         10\n",
              "5383                                                      thanks.  ...         10\n",
              "5384            no trouble jack. but listen suppose i stay a c...  ...          9\n",
              "\n",
              "[1340 rows x 3 columns]"
            ]
          },
          "metadata": {
            "tags": []
          },
          "execution_count": 44
        }
      ]
    },
    {
      "cell_type": "code",
      "metadata": {
        "id": "dDgioaKkoVss",
        "outputId": "3a81feed-6bdc-4663-e128-e36297f99efd",
        "colab": {
          "base_uri": "https://localhost:8080/"
        }
      },
      "source": [
        "classes = set(df_small['similarity'])\n",
        "classes"
      ],
      "execution_count": 45,
      "outputs": [
        {
          "output_type": "execute_result",
          "data": {
            "text/plain": [
              "{0, 2, 3, 4, 5, 6, 7, 8, 9, 10}"
            ]
          },
          "metadata": {
            "tags": []
          },
          "execution_count": 45
        }
      ]
    },
    {
      "cell_type": "code",
      "metadata": {
        "id": "_lhnIWfRJAAn",
        "outputId": "bcccf5df-5e83-4035-8dc3-febaf6a85710",
        "colab": {
          "base_uri": "https://localhost:8080/"
        }
      },
      "source": [
        "#changing the class 10 to 1 to make the continous range\n",
        "df_small = df_small.reset_index()\n",
        "\n",
        "for i in range(len(df_small['similarity'])):\n",
        "  if df_small['similarity'][i] == 10:\n",
        "    df_small['similarity'][i] = 1"
      ],
      "execution_count": 46,
      "outputs": [
        {
          "output_type": "stream",
          "text": [
            "/usr/local/lib/python3.6/dist-packages/ipykernel_launcher.py:6: SettingWithCopyWarning: \n",
            "A value is trying to be set on a copy of a slice from a DataFrame\n",
            "\n",
            "See the caveats in the documentation: https://pandas.pydata.org/pandas-docs/stable/user_guide/indexing.html#returning-a-view-versus-a-copy\n",
            "  \n"
          ],
          "name": "stderr"
        }
      ]
    },
    {
      "cell_type": "code",
      "metadata": {
        "id": "g-kOJzqlLpRh",
        "outputId": "c1671940-a155-40eb-8f58-779817ebdffe",
        "colab": {
          "base_uri": "https://localhost:8080/",
          "height": 198
        }
      },
      "source": [
        "df_small.head()"
      ],
      "execution_count": 47,
      "outputs": [
        {
          "output_type": "execute_result",
          "data": {
            "text/html": [
              "<div>\n",
              "<style scoped>\n",
              "    .dataframe tbody tr th:only-of-type {\n",
              "        vertical-align: middle;\n",
              "    }\n",
              "\n",
              "    .dataframe tbody tr th {\n",
              "        vertical-align: top;\n",
              "    }\n",
              "\n",
              "    .dataframe thead th {\n",
              "        text-align: right;\n",
              "    }\n",
              "</style>\n",
              "<table border=\"1\" class=\"dataframe\">\n",
              "  <thead>\n",
              "    <tr style=\"text-align: right;\">\n",
              "      <th></th>\n",
              "      <th>msg_line_clean</th>\n",
              "      <th>msg</th>\n",
              "      <th>msg_2</th>\n",
              "      <th>similarity</th>\n",
              "    </tr>\n",
              "  </thead>\n",
              "  <tbody>\n",
              "    <tr>\n",
              "      <th>0</th>\n",
              "      <td>49</td>\n",
              "      <td>did you change your hair?</td>\n",
              "      <td>no.</td>\n",
              "      <td>1</td>\n",
              "    </tr>\n",
              "    <tr>\n",
              "      <th>1</th>\n",
              "      <td>50</td>\n",
              "      <td>no.</td>\n",
              "      <td>you might wanna think about it</td>\n",
              "      <td>1</td>\n",
              "    </tr>\n",
              "    <tr>\n",
              "      <th>2</th>\n",
              "      <td>51</td>\n",
              "      <td>you might wanna think about it</td>\n",
              "      <td>talk more about it</td>\n",
              "      <td>5</td>\n",
              "    </tr>\n",
              "    <tr>\n",
              "      <th>3</th>\n",
              "      <td>59</td>\n",
              "      <td>i missed you.</td>\n",
              "      <td>it says here you exposed yourself to a group o...</td>\n",
              "      <td>8</td>\n",
              "    </tr>\n",
              "    <tr>\n",
              "      <th>4</th>\n",
              "      <td>60</td>\n",
              "      <td>it says here you exposed yourself to a group o...</td>\n",
              "      <td>it was a bratwurst. i was eating lunch.</td>\n",
              "      <td>7</td>\n",
              "    </tr>\n",
              "  </tbody>\n",
              "</table>\n",
              "</div>"
            ],
            "text/plain": [
              "   msg_line_clean  ... similarity\n",
              "0              49  ...          1\n",
              "1              50  ...          1\n",
              "2              51  ...          5\n",
              "3              59  ...          8\n",
              "4              60  ...          7\n",
              "\n",
              "[5 rows x 4 columns]"
            ]
          },
          "metadata": {
            "tags": []
          },
          "execution_count": 47
        }
      ]
    },
    {
      "cell_type": "code",
      "metadata": {
        "id": "QT21UegpL2LG",
        "outputId": "ff881343-7cba-496c-8310-77e2b11b3262",
        "colab": {
          "base_uri": "https://localhost:8080/"
        }
      },
      "source": [
        "classes = set(df_small['similarity'])\n",
        "classes"
      ],
      "execution_count": 48,
      "outputs": [
        {
          "output_type": "execute_result",
          "data": {
            "text/plain": [
              "{0, 1, 2, 3, 4, 5, 6, 7, 8, 9}"
            ]
          },
          "metadata": {
            "tags": []
          },
          "execution_count": 48
        }
      ]
    },
    {
      "cell_type": "markdown",
      "metadata": {
        "id": "rAc01igYZJfe"
      },
      "source": [
        "### Training the model"
      ]
    },
    {
      "cell_type": "code",
      "metadata": {
        "id": "xFgmGR9f-uxv",
        "outputId": "ec3c427f-69f9-48f2-f7b6-629d4f521c8f",
        "colab": {
          "base_uri": "https://localhost:8080/"
        }
      },
      "source": [
        "# Create model - 3 layers. First layer 128 neurons, second layer 64 neurons and 3rd output layer contains number of neurons\n",
        "# equal to number of intents to predict output intent with softmax\n",
        "model = Sequential()\n",
        "model.add(Dense(128, input_dim=num_cols, activation='relu'))\n",
        "model.add(Dropout(0.5))\n",
        "model.add(Dense(64, activation='relu'))\n",
        "model.add(Dropout(0.5))\n",
        "model.add(Dense(1, activation='softmax'))\n",
        "\n",
        "model.summary()"
      ],
      "execution_count": 63,
      "outputs": [
        {
          "output_type": "stream",
          "text": [
            "Model: \"sequential_6\"\n",
            "_________________________________________________________________\n",
            "Layer (type)                 Output Shape              Param #   \n",
            "=================================================================\n",
            "dense_12 (Dense)             (None, 128)               300672    \n",
            "_________________________________________________________________\n",
            "dropout_8 (Dropout)          (None, 128)               0         \n",
            "_________________________________________________________________\n",
            "dense_13 (Dense)             (None, 64)                8256      \n",
            "_________________________________________________________________\n",
            "dropout_9 (Dropout)          (None, 64)                0         \n",
            "_________________________________________________________________\n",
            "dense_14 (Dense)             (None, 1)                 65        \n",
            "=================================================================\n",
            "Total params: 308,993\n",
            "Trainable params: 308,993\n",
            "Non-trainable params: 0\n",
            "_________________________________________________________________\n"
          ],
          "name": "stdout"
        }
      ]
    },
    {
      "cell_type": "code",
      "metadata": {
        "id": "DdnwUEvW-ux1",
        "outputId": "727d8923-cd40-4503-e88b-0999565761ad",
        "colab": {
          "base_uri": "https://localhost:8080/"
        }
      },
      "source": [
        "# Compile model. Stochastic gradient descent with Nesterov accelerated gradient gives good results for this model\n",
        "sgd = SGD(lr=0.01, decay=1e-6, momentum=0.9, nesterov=True)\n",
        "model.compile(loss='Poisson', optimizer=sgd, metrics=['accuracy'])\n",
        "\n",
        "#fitting and saving the model\n",
        "hist = model.fit(X_train_token, df_small['similarity'], epochs=10, batch_size=20, verbose=1)\n",
        "model.save('chatbot_model.h5', hist)\n",
        "\n",
        "print(\"model created\")"
      ],
      "execution_count": 64,
      "outputs": [
        {
          "output_type": "stream",
          "text": [
            "Epoch 1/10\n",
            "67/67 [==============================] - 0s 2ms/step - loss: 1.0000 - accuracy: 0.5978\n",
            "Epoch 2/10\n",
            "67/67 [==============================] - 0s 2ms/step - loss: 1.0000 - accuracy: 0.5978\n",
            "Epoch 3/10\n",
            "67/67 [==============================] - 0s 2ms/step - loss: 1.0000 - accuracy: 0.5978\n",
            "Epoch 4/10\n",
            "67/67 [==============================] - 0s 2ms/step - loss: 1.0000 - accuracy: 0.5978\n",
            "Epoch 5/10\n",
            "67/67 [==============================] - 0s 2ms/step - loss: 1.0000 - accuracy: 0.5978\n",
            "Epoch 6/10\n",
            "67/67 [==============================] - 0s 2ms/step - loss: 1.0000 - accuracy: 0.5978\n",
            "Epoch 7/10\n",
            "67/67 [==============================] - 0s 2ms/step - loss: 1.0000 - accuracy: 0.5978\n",
            "Epoch 8/10\n",
            "67/67 [==============================] - 0s 2ms/step - loss: 1.0000 - accuracy: 0.5978\n",
            "Epoch 9/10\n",
            "67/67 [==============================] - 0s 2ms/step - loss: 1.0000 - accuracy: 0.5978\n",
            "Epoch 10/10\n",
            "67/67 [==============================] - 0s 2ms/step - loss: 1.0000 - accuracy: 0.5978\n",
            "model created\n"
          ],
          "name": "stdout"
        }
      ]
    },
    {
      "cell_type": "markdown",
      "metadata": {
        "id": "QUj8MLGpGmpl"
      },
      "source": [
        "### Testing the prototipe"
      ]
    },
    {
      "cell_type": "code",
      "metadata": {
        "id": "S1zQZgEu-ux7"
      },
      "source": [
        "p = tokenizer.texts_to_matrix(['here\\'s the file. cates checks the file.'])"
      ],
      "execution_count": 53,
      "outputs": []
    },
    {
      "cell_type": "code",
      "metadata": {
        "id": "PQ3tlzOFvBqs",
        "outputId": "8bc89fcd-78b9-40c1-835a-2e0de5a21d16",
        "colab": {
          "base_uri": "https://localhost:8080/"
        }
      },
      "source": [
        "p.shape"
      ],
      "execution_count": 54,
      "outputs": [
        {
          "output_type": "execute_result",
          "data": {
            "text/plain": [
              "(1, 2348)"
            ]
          },
          "metadata": {
            "tags": []
          },
          "execution_count": 54
        }
      ]
    },
    {
      "cell_type": "code",
      "metadata": {
        "id": "ukmWl_6h-uyE"
      },
      "source": [
        "res = model.predict(p)"
      ],
      "execution_count": 55,
      "outputs": []
    },
    {
      "cell_type": "code",
      "metadata": {
        "id": "vB5caYtk-uyJ",
        "outputId": "c029790d-5746-4119-ab0e-3f34c0d886f4",
        "colab": {
          "base_uri": "https://localhost:8080/"
        }
      },
      "source": [
        "res"
      ],
      "execution_count": 56,
      "outputs": [
        {
          "output_type": "execute_result",
          "data": {
            "text/plain": [
              "array([[0.]], dtype=float32)"
            ]
          },
          "metadata": {
            "tags": []
          },
          "execution_count": 56
        }
      ]
    },
    {
      "cell_type": "code",
      "metadata": {
        "id": "YeCTiYtG-uy0"
      },
      "source": [
        ""
      ],
      "execution_count": null,
      "outputs": []
    },
    {
      "cell_type": "code",
      "metadata": {
        "id": "s0r76sH8-uy9"
      },
      "source": [
        ""
      ],
      "execution_count": null,
      "outputs": []
    },
    {
      "cell_type": "markdown",
      "metadata": {
        "id": "T1NAfRW6-uzC"
      },
      "source": [
        "#### Keras Template model"
      ]
    },
    {
      "cell_type": "code",
      "metadata": {
        "id": "deUpDs1y-uzG"
      },
      "source": [
        "# Create model - 3 layers. First layer 128 neurons, second layer 64 neurons and 3rd output layer contains number of neurons\n",
        "# equal to number of intents to predict output intent with softmax\n",
        "model = Sequential()\n",
        "model.add(Dense(2, input_dim=4, activation='relu'))\n",
        "model.add(Dropout(0.5))\n",
        "model.add(Dense(2, activation='relu'))\n",
        "model.add(Dropout(0.5))\n",
        "model.add(Dense(1, activation='softmax'))\n",
        "\n",
        "model.summary()"
      ],
      "execution_count": null,
      "outputs": []
    },
    {
      "cell_type": "code",
      "metadata": {
        "id": "looO83EN-uzK"
      },
      "source": [
        "\n",
        "# Compile model. Stochastic gradient descent with Nesterov accelerated gradient gives good results for this model\n",
        "sgd = SGD(lr=0.01, decay=1e-6, momentum=0.9, nesterov=True)\n",
        "model.compile(loss='categorical_crossentropy', optimizer=sgd, metrics=['accuracy'])\n",
        "\n",
        "#fitting and saving the model\n",
        "hist = model.fit(([1,2,3,4],[1,2,3,4],[1,2,3,4]), [1,2,3], epochs=2, batch_size=3, verbose=1)\n",
        "model.save('chatbot_model.h5', hist)\n",
        "\n",
        "print(\"model created\")"
      ],
      "execution_count": null,
      "outputs": []
    },
    {
      "cell_type": "code",
      "metadata": {
        "id": "UUjgakfd-uzQ"
      },
      "source": [
        ""
      ],
      "execution_count": null,
      "outputs": []
    },
    {
      "cell_type": "code",
      "metadata": {
        "id": "5QgwfpLL-uzX"
      },
      "source": [
        ""
      ],
      "execution_count": null,
      "outputs": []
    }
  ]
}